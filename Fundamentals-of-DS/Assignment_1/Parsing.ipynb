{
 "cells": [
  {
   "cell_type": "code",
   "execution_count": 1,
   "id": "3c1e1e7d",
   "metadata": {
    "collapsed": true
   },
   "outputs": [
    {
     "name": "stdout",
     "output_type": "stream",
     "text": [
      "Collecting selenium\n",
      "  Downloading selenium-4.5.0-py3-none-any.whl (995 kB)\n",
      "Collecting trio-websocket~=0.9\n",
      "  Downloading trio_websocket-0.9.2-py3-none-any.whl (16 kB)\n",
      "Requirement already satisfied: urllib3[socks]~=1.26 in c:\\apps\\anaconda\\lib\\site-packages (from selenium) (1.26.9)\n",
      "Requirement already satisfied: certifi>=2021.10.8 in c:\\apps\\anaconda\\lib\\site-packages (from selenium) (2021.10.8)\n",
      "Collecting trio~=0.17\n",
      "  Downloading trio-0.22.0-py3-none-any.whl (384 kB)\n",
      "Requirement already satisfied: sniffio in c:\\apps\\anaconda\\lib\\site-packages (from trio~=0.17->selenium) (1.2.0)\n",
      "Requirement already satisfied: attrs>=19.2.0 in c:\\apps\\anaconda\\lib\\site-packages (from trio~=0.17->selenium) (21.4.0)\n",
      "Requirement already satisfied: cffi>=1.14 in c:\\apps\\anaconda\\lib\\site-packages (from trio~=0.17->selenium) (1.15.0)\n",
      "Collecting exceptiongroup>=1.0.0rc9\n",
      "  Downloading exceptiongroup-1.0.0rc9-py3-none-any.whl (12 kB)\n",
      "Collecting async-generator>=1.9\n",
      "  Downloading async_generator-1.10-py3-none-any.whl (18 kB)\n",
      "Requirement already satisfied: idna in c:\\apps\\anaconda\\lib\\site-packages (from trio~=0.17->selenium) (3.3)\n",
      "Collecting outcome\n",
      "  Downloading outcome-1.2.0-py2.py3-none-any.whl (9.7 kB)\n",
      "Requirement already satisfied: sortedcontainers in c:\\apps\\anaconda\\lib\\site-packages (from trio~=0.17->selenium) (2.4.0)\n",
      "Requirement already satisfied: pycparser in c:\\apps\\anaconda\\lib\\site-packages (from cffi>=1.14->trio~=0.17->selenium) (2.21)\n",
      "Collecting wsproto>=0.14\n",
      "  Downloading wsproto-1.2.0-py3-none-any.whl (24 kB)\n",
      "Requirement already satisfied: PySocks!=1.5.7,<2.0,>=1.5.6 in c:\\apps\\anaconda\\lib\\site-packages (from urllib3[socks]~=1.26->selenium) (1.7.1)\n",
      "Collecting h11<1,>=0.9.0\n",
      "  Downloading h11-0.14.0-py3-none-any.whl (58 kB)\n",
      "Installing collected packages: outcome, h11, exceptiongroup, async-generator, wsproto, trio, trio-websocket, selenium\n",
      "Successfully installed async-generator-1.10 exceptiongroup-1.0.0rc9 h11-0.14.0 outcome-1.2.0 selenium-4.5.0 trio-0.22.0 trio-websocket-0.9.2 wsproto-1.2.0\n"
     ]
    }
   ],
   "source": [
    "!pip install selenium\n",
    "!pip install pdfminer.six\n",
    "!pip install wget"
   ]
  },
  {
   "cell_type": "code",
   "execution_count": 1,
   "id": "83ad8ae8",
   "metadata": {},
   "outputs": [],
   "source": [
    "from selenium.webdriver.common.desired_capabilities import DesiredCapabilities\n",
    "from selenium.webdriver.common.action_chains import ActionChains\n",
    "from selenium.webdriver.support.ui import WebDriverWait\n",
    "from selenium.webdriver.support.ui import Select\n",
    "from selenium.webdriver.common.keys import Keys\n",
    "from selenium.webdriver.common.by import By\n",
    "from selenium import webdriver\n",
    "from time import sleep\n",
    "import pandas as pd\n",
    "import tabula\n",
    "import time\n",
    "import os\n",
    "from tqdm import tqdm"
   ]
  },
  {
   "cell_type": "code",
   "execution_count": 480,
   "id": "4ac591ef",
   "metadata": {},
   "outputs": [
    {
     "name": "stderr",
     "output_type": "stream",
     "text": [
      "C:\\Users\\Eighonet Aerta\\AppData\\Local\\Temp\\ipykernel_23644\\886327343.py:9: DeprecationWarning: use options instead of chrome_options\n",
      "  driver = webdriver.Chrome(chrome_options = options)\n"
     ]
    }
   ],
   "source": [
    "options = webdriver.ChromeOptions()\n",
    "download_folder = \"reports\"\n",
    "profile = {\"plugins.plugins_list\": [{\"enabled\": False,\n",
    "                                     \"name\": \"Chrome PDF Viewer\"}],\n",
    "           \"download.default_directory\": download_folder,\n",
    "           \"download.extensions_to_open\": \"\"}\n",
    "\n",
    "options.add_experimental_option(\"prefs\", profile)\n",
    "driver = webdriver.Chrome(chrome_options = options)\n",
    "driver.get(\"https://gadebate.un.org/en\")\n",
    "actions = ActionChains(driver)"
   ]
  },
  {
   "cell_type": "code",
   "execution_count": 481,
   "id": "35431a09",
   "metadata": {},
   "outputs": [],
   "source": [
    "data = dict()\n",
    "\n",
    "import time \n",
    "time.sleep(10)"
   ]
  },
  {
   "cell_type": "code",
   "execution_count": null,
   "id": "cf16936a",
   "metadata": {},
   "outputs": [
    {
     "name": "stderr",
     "output_type": "stream",
     "text": [
      "\r",
      "  0%|                                                                                          | 0/196 [00:00<?, ?it/s]"
     ]
    },
    {
     "name": "stdout",
     "output_type": "stream",
     "text": [
      "0\n"
     ]
    }
   ],
   "source": [
    "def refresh_DOM(driver):\n",
    "    select = driver.find_element(By.ID, 'edit-jump')\n",
    "    return select,\\\n",
    "            select.find_elements(By.TAG_NAME,'option')[1:],\\\n",
    "            driver.find_element(By.ID, 'edit-go')\n",
    "\n",
    "select_element, option_elements, go_button = refresh_DOM(driver)\n",
    "for i in tqdm(range(len(option_elements))):\n",
    "    print(i)\n",
    "    country = option_elements[i].text\n",
    "\n",
    "    option_elements[i].click()\n",
    "    go_button.click()\n",
    "    time.sleep(1000)\n",
    "    document_elements =  driver.find_element(By.CLASS_NAME, 'statement-documents-list')\n",
    "    a_elements = document_elements.find_elements(By.TAG_NAME, 'a')\n",
    "    \n",
    "    data[country] = ({\"en_link\":None, \"languages\":None})\n",
    "    languages = []\n",
    "    for element in a_elements:\n",
    "        languages.append(element.text.split(\" \")[-1])\n",
    "        \n",
    "        if 'English' in element.text:\n",
    "            data[country]['en_link'] = element.get_attribute('href')\n",
    "    \n",
    "    data[country]['languages'] = languages\n",
    "    \n",
    "    driver.back()\n",
    "    select_element, option_elements, go_button = refresh_DOM(driver)"
   ]
  },
  {
   "cell_type": "code",
   "execution_count": 163,
   "id": "7bc2a44f",
   "metadata": {},
   "outputs": [
    {
     "data": {
      "text/plain": [
       "True"
      ]
     },
     "execution_count": 163,
     "metadata": {},
     "output_type": "execute_result"
    }
   ],
   "source": [
    "data['Algeria']['en_link'] is None"
   ]
  },
  {
   "cell_type": "code",
   "execution_count": 166,
   "id": "3420ffd0",
   "metadata": {},
   "outputs": [],
   "source": [
    "import os\n",
    "os.mkdir(\"GD2022\")"
   ]
  },
  {
   "cell_type": "code",
   "execution_count": 174,
   "id": "6f6eab65",
   "metadata": {},
   "outputs": [
    {
     "name": "stderr",
     "output_type": "stream",
     "text": [
      "\r",
      "  0%|                                                                                          | 0/196 [00:00<?, ?it/s]"
     ]
    },
    {
     "name": "stdout",
     "output_type": "stream",
     "text": [
      "\r",
      "  0% [                                                                            ]      0 / 163107\r",
      "  5% [...                                                                         ]   8192 / 163107\r",
      " 10% [.......                                                                     ]  16384 / 163107\r",
      " 15% [...........                                                                 ]  24576 / 163107\r",
      " 20% [...............                                                             ]  32768 / 163107\r",
      " 25% [...................                                                         ]  40960 / 163107\r",
      " 30% [......................                                                      ]  49152 / 163107\r",
      " 35% [..........................                                                  ]  57344 / 163107\r",
      " 40% [..............................                                              ]  65536 / 163107\r",
      " 45% [..................................                                          ]  73728 / 163107\r",
      " 50% [......................................                                      ]  81920 / 163107\r",
      " 55% [.........................................                                   ]  90112 / 163107"
     ]
    },
    {
     "name": "stderr",
     "output_type": "stream",
     "text": [
      "\r",
      "  1%|▍                                                                                 | 1/196 [00:01<04:16,  1.32s/it]"
     ]
    },
    {
     "name": "stdout",
     "output_type": "stream",
     "text": [
      " 53% [........................................                                    ] 344064 / 642618"
     ]
    },
    {
     "name": "stderr",
     "output_type": "stream",
     "text": [
      "\r",
      "  2%|█▎                                                                                | 3/196 [00:02<02:58,  1.08it/s]"
     ]
    },
    {
     "name": "stdout",
     "output_type": "stream",
     "text": [
      " 39% [.............................                                               ]  90112 / 229590"
     ]
    },
    {
     "name": "stderr",
     "output_type": "stream",
     "text": [
      "\r",
      "  2%|█▋                                                                                | 4/196 [00:04<03:27,  1.08s/it]"
     ]
    },
    {
     "name": "stdout",
     "output_type": "stream",
     "text": [
      " 95% [........................................................................    ] 835584 / 878249"
     ]
    },
    {
     "name": "stderr",
     "output_type": "stream",
     "text": [
      "\r",
      "  3%|██                                                                                | 5/196 [00:05<04:05,  1.29s/it]"
     ]
    },
    {
     "name": "stdout",
     "output_type": "stream",
     "text": [
      "\r",
      " 96% [.........................................................................   ] 843776 / 878249\r",
      " 97% [.........................................................................   ] 851968 / 878249\r",
      " 97% [..........................................................................  ] 860160 / 878249\r",
      " 98% [........................................................................... ] 868352 / 878249\r",
      " 99% [........................................................................... ] 876544 / 878249\r",
      "100% [............................................................................] 878249 / 878249"
     ]
    },
    {
     "name": "stderr",
     "output_type": "stream",
     "text": [
      "\r",
      "  4%|██▉                                                                               | 7/196 [00:07<02:52,  1.09it/s]"
     ]
    },
    {
     "name": "stdout",
     "output_type": "stream",
     "text": [
      " 66% [..................................................                          ]  90112 / 135808"
     ]
    },
    {
     "name": "stderr",
     "output_type": "stream",
     "text": [
      "\r",
      "  4%|███▎                                                                              | 8/196 [00:08<03:07,  1.00it/s]"
     ]
    },
    {
     "name": "stdout",
     "output_type": "stream",
     "text": [
      " 95% [......................................................................    ] 3342336 / 3514718"
     ]
    },
    {
     "name": "stderr",
     "output_type": "stream",
     "text": [
      "\r",
      "  5%|███▊                                                                              | 9/196 [00:11<04:46,  1.53s/it]"
     ]
    },
    {
     "name": "stdout",
     "output_type": "stream",
     "text": [
      " 48% [....................................                                        ]  90112 / 185390"
     ]
    },
    {
     "name": "stderr",
     "output_type": "stream",
     "text": [
      "\r",
      "  5%|████▏                                                                            | 10/196 [00:12<04:28,  1.44s/it]"
     ]
    },
    {
     "name": "stdout",
     "output_type": "stream",
     "text": [
      " 97% [.........................................................................   ] 294912 / 303247"
     ]
    },
    {
     "name": "stderr",
     "output_type": "stream",
     "text": [
      "\r",
      "  6%|████▌                                                                            | 11/196 [00:13<04:25,  1.43s/it]"
     ]
    },
    {
     "name": "stdout",
     "output_type": "stream",
     "text": [
      " 36% [...........................                                                 ]  90112 / 245069"
     ]
    },
    {
     "name": "stderr",
     "output_type": "stream",
     "text": [
      "\r",
      "  6%|████▉                                                                            | 12/196 [00:15<04:21,  1.42s/it]"
     ]
    },
    {
     "name": "stdout",
     "output_type": "stream",
     "text": [
      " 59% [.............................................                               ]  90112 / 152146"
     ]
    },
    {
     "name": "stderr",
     "output_type": "stream",
     "text": [
      "\r",
      "  7%|█████▎                                                                           | 13/196 [00:16<04:07,  1.35s/it]"
     ]
    },
    {
     "name": "stdout",
     "output_type": "stream",
     "text": [
      " 64% [.................................................                           ] 360448 / 557247"
     ]
    },
    {
     "name": "stderr",
     "output_type": "stream",
     "text": [
      "\r",
      "  7%|█████▊                                                                           | 14/196 [00:17<04:15,  1.40s/it]"
     ]
    },
    {
     "name": "stdout",
     "output_type": "stream",
     "text": [
      "\r",
      " 66% [..................................................                          ] 368640 / 557247\r",
      " 67% [...................................................                         ] 376832 / 557247\r",
      " 69% [....................................................                        ] 385024 / 557247\r",
      " 70% [.....................................................                       ] 393216 / 557247\r",
      " 72% [......................................................                      ] 401408 / 557247\r",
      " 73% [.......................................................                     ] 409600 / 557247\r",
      " 74% [........................................................                    ] 417792 / 557247\r",
      " 76% [..........................................................                  ] 425984 / 557247\r",
      " 77% [...........................................................                 ] 434176 / 557247\r",
      " 79% [............................................................                ] 442368 / 557247\r",
      " 80% [.............................................................               ] 450560 / 557247\r",
      " 82% [..............................................................              ] 458752 / 557247\r",
      " 83% [...............................................................             ] 466944 / 557247\r",
      " 85% [................................................................            ] 475136 / 557247\r",
      " 86% [.................................................................           ] 483328 / 557247\r",
      " 88% [...................................................................         ] 491520 / 557247\r",
      " 89% [....................................................................        ] 499712 / 557247\r",
      " 91% [.....................................................................       ] 507904 / 557247\r",
      " 92% [......................................................................      ] 516096 / 557247\r",
      " 94% [.......................................................................     ] 524288 / 557247\r",
      " 95% [........................................................................    ] 532480 / 557247\r",
      " 97% [.........................................................................   ] 540672 / 557247\r",
      " 98% [..........................................................................  ] 548864 / 557247\r",
      " 99% [........................................................................... ] 557056 / 557247\r",
      "100% [............................................................................] 557247 / 557247"
     ]
    },
    {
     "name": "stderr",
     "output_type": "stream",
     "text": [
      "\r",
      "  8%|██████▏                                                                          | 15/196 [00:19<03:55,  1.30s/it]"
     ]
    },
    {
     "name": "stdout",
     "output_type": "stream",
     "text": [
      " 50% [......................................                                      ]  90112 / 179963"
     ]
    },
    {
     "name": "stderr",
     "output_type": "stream",
     "text": [
      "\r",
      "  9%|███████                                                                          | 17/196 [00:20<02:55,  1.02it/s]"
     ]
    },
    {
     "name": "stdout",
     "output_type": "stream",
     "text": [
      " 59% [.............................................                               ]  90112 / 150530"
     ]
    },
    {
     "name": "stderr",
     "output_type": "stream",
     "text": [
      "\r",
      " 10%|███████▊                                                                         | 19/196 [00:21<02:27,  1.20it/s]"
     ]
    },
    {
     "name": "stdout",
     "output_type": "stream",
     "text": [
      " 59% [.............................................                               ]  90112 / 150939"
     ]
    },
    {
     "name": "stderr",
     "output_type": "stream",
     "text": [
      "\r",
      " 11%|████████▋                                                                        | 21/196 [00:22<02:10,  1.34it/s]"
     ]
    },
    {
     "name": "stdout",
     "output_type": "stream",
     "text": [
      " 49% [.....................................                                       ]  90112 / 181087"
     ]
    },
    {
     "name": "stderr",
     "output_type": "stream",
     "text": [
      "\r",
      " 11%|█████████                                                                        | 22/196 [00:23<02:27,  1.18it/s]"
     ]
    },
    {
     "name": "stdout",
     "output_type": "stream",
     "text": [
      " 41% [...............................                                             ]  90112 / 218275"
     ]
    },
    {
     "name": "stderr",
     "output_type": "stream",
     "text": [
      "\r",
      " 12%|█████████▌                                                                       | 23/196 [00:25<02:47,  1.04it/s]"
     ]
    },
    {
     "name": "stdout",
     "output_type": "stream",
     "text": [
      " 35% [...........................                                                 ]  90112 / 252021"
     ]
    },
    {
     "name": "stderr",
     "output_type": "stream",
     "text": [
      "\r",
      " 12%|█████████▉                                                                       | 24/196 [00:26<03:03,  1.07s/it]"
     ]
    },
    {
     "name": "stdout",
     "output_type": "stream",
     "text": [
      " 52% [.......................................                                     ]  90112 / 172370"
     ]
    },
    {
     "name": "stderr",
     "output_type": "stream",
     "text": [
      "\r",
      " 13%|██████████▎                                                                      | 25/196 [00:27<03:12,  1.12s/it]"
     ]
    },
    {
     "name": "stdout",
     "output_type": "stream",
     "text": [
      " 29% [......................                                                      ]  90112 / 310193"
     ]
    },
    {
     "name": "stderr",
     "output_type": "stream",
     "text": [
      "\r",
      " 14%|███████████▌                                                                     | 28/196 [00:29<02:10,  1.29it/s]"
     ]
    },
    {
     "name": "stdout",
     "output_type": "stream",
     "text": [
      " 57% [...........................................                                 ]  90112 / 156242"
     ]
    },
    {
     "name": "stderr",
     "output_type": "stream",
     "text": [
      "\r",
      " 15%|███████████▉                                                                     | 29/196 [00:30<02:24,  1.16it/s]"
     ]
    },
    {
     "name": "stdout",
     "output_type": "stream",
     "text": [
      "100% [............................................................................] 308306 / 308306"
     ]
    },
    {
     "name": "stderr",
     "output_type": "stream",
     "text": [
      "\r",
      " 20%|████████████████                                                                 | 39/196 [00:31<00:51,  3.04it/s]"
     ]
    },
    {
     "name": "stdout",
     "output_type": "stream",
     "text": [
      "\r",
      "  0% [                                                                            ]      0 / 131040\r",
      "  6% [....                                                                        ]   8192 / 131040\r",
      " 12% [.........                                                                   ]  16384 / 131040\r",
      " 18% [..............                                                              ]  24576 / 131040\r",
      " 25% [...................                                                         ]  32768 / 131040\r",
      " 31% [.......................                                                     ]  40960 / 131040\r",
      " 37% [............................                                                ]  49152 / 131040\r",
      " 43% [.................................                                           ]  57344 / 131040\r",
      " 50% [......................................                                      ]  65536 / 131040\r",
      " 56% [..........................................                                  ]  73728 / 131040\r",
      " 62% [...............................................                             ]  81920 / 131040\r",
      " 68% [....................................................                        ]  90112 / 131040"
     ]
    },
    {
     "name": "stderr",
     "output_type": "stream",
     "text": [
      "\r",
      " 21%|████████████████▉                                                                | 41/196 [00:33<00:58,  2.65it/s]"
     ]
    },
    {
     "name": "stdout",
     "output_type": "stream",
     "text": [
      " 32% [........................                                                    ]  40960 / 125585"
     ]
    },
    {
     "name": "stderr",
     "output_type": "stream",
     "text": [
      "\r",
      " 21%|█████████████████▎                                                               | 42/196 [00:34<01:12,  2.12it/s]"
     ]
    },
    {
     "name": "stdout",
     "output_type": "stream",
     "text": [
      " 62% [...............................................                             ]  90112 / 144298"
     ]
    },
    {
     "name": "stderr",
     "output_type": "stream",
     "text": [
      "\r",
      " 22%|█████████████████▊                                                               | 43/196 [00:35<01:28,  1.74it/s]"
     ]
    },
    {
     "name": "stdout",
     "output_type": "stream",
     "text": [
      " 52% [........................................                                    ]  90112 / 170963"
     ]
    },
    {
     "name": "stderr",
     "output_type": "stream",
     "text": [
      "\r",
      " 22%|██████████████████▏                                                              | 44/196 [00:36<01:43,  1.47it/s]"
     ]
    },
    {
     "name": "stdout",
     "output_type": "stream",
     "text": [
      " 39% [..............................                                              ]  90112 / 226122"
     ]
    },
    {
     "name": "stderr",
     "output_type": "stream",
     "text": [
      "\r",
      " 23%|██████████████████▌                                                              | 45/196 [00:38<02:02,  1.24it/s]"
     ]
    },
    {
     "name": "stdout",
     "output_type": "stream",
     "text": [
      "\r",
      " 43% [.................................                                           ]  98304 / 226122\r",
      " 47% [...................................                                         ] 106496 / 226122\r",
      " 50% [......................................                                      ] 114688 / 226122\r",
      " 54% [.........................................                                   ] 122880 / 226122\r",
      " 57% [............................................                                ] 131072 / 226122\r",
      " 61% [..............................................                              ] 139264 / 226122\r",
      " 65% [.................................................                           ] 147456 / 226122\r",
      " 68% [....................................................                        ] 155648 / 226122\r",
      " 72% [.......................................................                     ] 163840 / 226122\r",
      " 76% [.........................................................                   ] 172032 / 226122\r",
      " 79% [............................................................                ] 180224 / 226122\r",
      " 83% [...............................................................             ] 188416 / 226122\r",
      " 86% [..................................................................          ] 196608 / 226122\r",
      " 90% [....................................................................        ] 204800 / 226122\r",
      " 94% [.......................................................................     ] 212992 / 226122\r",
      " 97% [..........................................................................  ] 221184 / 226122\r",
      "100% [............................................................................] 226122 / 226122"
     ]
    },
    {
     "name": "stderr",
     "output_type": "stream",
     "text": [
      "\r",
      " 24%|███████████████████▍                                                             | 47/196 [00:39<01:45,  1.41it/s]"
     ]
    },
    {
     "name": "stdout",
     "output_type": "stream",
     "text": [
      "100% [............................................................................] 306202 / 306202"
     ]
    },
    {
     "name": "stderr",
     "output_type": "stream",
     "text": [
      "\r",
      " 25%|████████████████████▎                                                            | 49/196 [00:40<01:43,  1.42it/s]"
     ]
    },
    {
     "name": "stdout",
     "output_type": "stream",
     "text": [
      "\r",
      "  0% [                                                                            ]      0 / 152878\r",
      "  5% [....                                                                        ]   8192 / 152878\r",
      " 10% [........                                                                    ]  16384 / 152878\r",
      " 16% [............                                                                ]  24576 / 152878\r",
      " 21% [................                                                            ]  32768 / 152878\r",
      " 26% [....................                                                        ]  40960 / 152878\r",
      " 32% [........................                                                    ]  49152 / 152878\r",
      " 37% [............................                                                ]  57344 / 152878\r",
      " 42% [................................                                            ]  65536 / 152878\r",
      " 48% [....................................                                        ]  73728 / 152878\r",
      " 53% [........................................                                    ]  81920 / 152878\r",
      " 58% [............................................                                ]  90112 / 152878"
     ]
    },
    {
     "name": "stderr",
     "output_type": "stream",
     "text": [
      "\r",
      " 29%|███████████████████████▏                                                         | 56/196 [00:41<00:52,  2.66it/s]"
     ]
    },
    {
     "name": "stdout",
     "output_type": "stream",
     "text": [
      " 51% [......................................                                      ]  90112 / 176406"
     ]
    },
    {
     "name": "stderr",
     "output_type": "stream",
     "text": [
      "\r",
      " 29%|███████████████████████▌                                                         | 57/196 [00:43<01:05,  2.13it/s]"
     ]
    },
    {
     "name": "stdout",
     "output_type": "stream",
     "text": [
      " 50% [......................................                                      ]  90112 / 179503"
     ]
    },
    {
     "name": "stderr",
     "output_type": "stream",
     "text": [
      "\r",
      " 30%|███████████████████████▉                                                         | 58/196 [00:44<01:19,  1.75it/s]"
     ]
    },
    {
     "name": "stdout",
     "output_type": "stream",
     "text": [
      " 49% [.....................................                                       ]  90112 / 180788"
     ]
    },
    {
     "name": "stderr",
     "output_type": "stream",
     "text": [
      "\r",
      " 30%|████████████████████████▍                                                        | 59/196 [00:45<01:33,  1.47it/s]"
     ]
    },
    {
     "name": "stdout",
     "output_type": "stream",
     "text": [
      " 24% [..................                                                          ]  90112 / 374468"
     ]
    },
    {
     "name": "stderr",
     "output_type": "stream",
     "text": [
      "\r",
      " 31%|████████████████████████▊                                                        | 60/196 [00:46<01:50,  1.23it/s]"
     ]
    },
    {
     "name": "stdout",
     "output_type": "stream",
     "text": [
      " 61% [...............................................                             ]  90112 / 145467"
     ]
    },
    {
     "name": "stderr",
     "output_type": "stream",
     "text": [
      "\r",
      " 31%|█████████████████████████▏                                                       | 61/196 [00:48<02:01,  1.11it/s]"
     ]
    },
    {
     "name": "stdout",
     "output_type": "stream",
     "text": [
      " 42% [................................                                            ]  81920 / 192252"
     ]
    },
    {
     "name": "stderr",
     "output_type": "stream",
     "text": [
      "\r",
      " 33%|██████████████████████████▍                                                      | 64/196 [00:49<01:27,  1.50it/s]"
     ]
    },
    {
     "name": "stdout",
     "output_type": "stream",
     "text": [
      " 49% [.....................................                                       ]  90112 / 183326"
     ]
    },
    {
     "name": "stderr",
     "output_type": "stream",
     "text": [
      "\r",
      " 33%|██████████████████████████▊                                                      | 65/196 [00:50<01:40,  1.30it/s]"
     ]
    },
    {
     "name": "stdout",
     "output_type": "stream",
     "text": [
      " 38% [.............................                                               ]  90112 / 231528"
     ]
    },
    {
     "name": "stderr",
     "output_type": "stream",
     "text": [
      "\r",
      " 34%|███████████████████████████▎                                                     | 66/196 [00:51<01:57,  1.11it/s]"
     ]
    },
    {
     "name": "stdout",
     "output_type": "stream",
     "text": [
      " 64% [.................................................                           ] 229376 / 352891"
     ]
    },
    {
     "name": "stderr",
     "output_type": "stream",
     "text": [
      "\r",
      " 34%|███████████████████████████▋                                                     | 67/196 [00:53<02:10,  1.01s/it]"
     ]
    },
    {
     "name": "stdout",
     "output_type": "stream",
     "text": [
      " 56% [..........................................                                  ]  90112 / 160314"
     ]
    },
    {
     "name": "stderr",
     "output_type": "stream",
     "text": [
      "\r",
      " 35%|████████████████████████████                                                     | 68/196 [00:54<02:15,  1.06s/it]"
     ]
    },
    {
     "name": "stdout",
     "output_type": "stream",
     "text": [
      " 73% [.......................................................                     ] 294912 / 401930"
     ]
    },
    {
     "name": "stderr",
     "output_type": "stream",
     "text": [
      "\r",
      " 35%|████████████████████████████▌                                                    | 69/196 [00:55<02:25,  1.15s/it]"
     ]
    },
    {
     "name": "stdout",
     "output_type": "stream",
     "text": [
      " 34% [..........................                                                  ]  57344 / 164115"
     ]
    },
    {
     "name": "stderr",
     "output_type": "stream",
     "text": [
      "\r",
      " 37%|█████████████████████████████▊                                                   | 72/196 [00:57<01:34,  1.32it/s]"
     ]
    },
    {
     "name": "stdout",
     "output_type": "stream",
     "text": [
      " 88% [...................................................................         ] 319488 / 359926"
     ]
    },
    {
     "name": "stderr",
     "output_type": "stream",
     "text": [
      "\r",
      " 37%|██████████████████████████████▏                                                  | 73/196 [00:58<01:49,  1.13it/s]"
     ]
    },
    {
     "name": "stdout",
     "output_type": "stream",
     "text": [
      " 37% [............................                                                ]  90112 / 240329"
     ]
    },
    {
     "name": "stderr",
     "output_type": "stream",
     "text": [
      "\r",
      " 38%|██████████████████████████████▉                                                  | 75/196 [00:59<01:38,  1.23it/s]"
     ]
    },
    {
     "name": "stdout",
     "output_type": "stream",
     "text": [
      " 61% [..............................................                              ]  90112 / 146773"
     ]
    },
    {
     "name": "stderr",
     "output_type": "stream",
     "text": [
      "\r",
      " 39%|███████████████████████████████▊                                                 | 77/196 [01:01<01:28,  1.34it/s]"
     ]
    },
    {
     "name": "stdout",
     "output_type": "stream",
     "text": [
      " 64% [.................................................                           ]  90112 / 139462"
     ]
    },
    {
     "name": "stderr",
     "output_type": "stream",
     "text": [
      "\r",
      " 40%|████████████████████████████████▏                                                | 78/196 [01:02<01:38,  1.19it/s]"
     ]
    },
    {
     "name": "stdout",
     "output_type": "stream",
     "text": [
      " 66% [..................................................                          ]  90112 / 136034"
     ]
    },
    {
     "name": "stderr",
     "output_type": "stream",
     "text": [
      "\r",
      " 40%|████████████████████████████████▋                                                | 79/196 [01:03<01:47,  1.09it/s]"
     ]
    },
    {
     "name": "stdout",
     "output_type": "stream",
     "text": [
      " 62% [...............................................                             ]  90112 / 144019"
     ]
    },
    {
     "name": "stderr",
     "output_type": "stream",
     "text": [
      "\r",
      " 41%|█████████████████████████████████                                                | 80/196 [01:04<01:54,  1.01it/s]"
     ]
    },
    {
     "name": "stdout",
     "output_type": "stream",
     "text": [
      " 47% [....................................                                        ]  90112 / 188040"
     ]
    },
    {
     "name": "stderr",
     "output_type": "stream",
     "text": [
      "\r",
      " 41%|█████████████████████████████████▍                                               | 81/196 [01:06<02:00,  1.05s/it]"
     ]
    },
    {
     "name": "stdout",
     "output_type": "stream",
     "text": [
      " 70% [.....................................................                       ]  90112 / 127506"
     ]
    },
    {
     "name": "stderr",
     "output_type": "stream",
     "text": [
      "\r",
      " 42%|██████████████████████████████████▎                                              | 83/196 [01:07<01:37,  1.16it/s]"
     ]
    },
    {
     "name": "stdout",
     "output_type": "stream",
     "text": [
      " 54% [..........................................                                    ] 49152 / 90410"
     ]
    },
    {
     "name": "stderr",
     "output_type": "stream",
     "text": [
      "\r",
      " 43%|██████████████████████████████████▋                                              | 84/196 [01:08<01:50,  1.01it/s]"
     ]
    },
    {
     "name": "stdout",
     "output_type": "stream",
     "text": [
      " 83% [...............................................................             ] 204800 / 245162"
     ]
    },
    {
     "name": "stderr",
     "output_type": "stream",
     "text": [
      "\r",
      " 43%|███████████████████████████████████▏                                             | 85/196 [01:10<02:27,  1.32s/it]"
     ]
    },
    {
     "name": "stdout",
     "output_type": "stream",
     "text": [
      " 93% [......................................................................      ] 188416 / 201825"
     ]
    },
    {
     "name": "stderr",
     "output_type": "stream",
     "text": [
      "\r",
      " 44%|███████████████████████████████████▌                                             | 86/196 [01:13<02:50,  1.55s/it]"
     ]
    },
    {
     "name": "stdout",
     "output_type": "stream",
     "text": [
      " 74% [........................................................                    ]  90112 / 121103"
     ]
    },
    {
     "name": "stderr",
     "output_type": "stream",
     "text": [
      "\r",
      " 44%|███████████████████████████████████▉                                             | 87/196 [01:14<02:52,  1.59s/it]"
     ]
    },
    {
     "name": "stdout",
     "output_type": "stream",
     "text": [
      " 50% [.......................................                                       ] 40960 / 81847"
     ]
    },
    {
     "name": "stderr",
     "output_type": "stream",
     "text": [
      "\r",
      " 45%|████████████████████████████████████▎                                            | 88/196 [01:16<02:44,  1.53s/it]"
     ]
    },
    {
     "name": "stdout",
     "output_type": "stream",
     "text": [
      " 98% [..........................................................................  ] 229376 / 232721"
     ]
    },
    {
     "name": "stderr",
     "output_type": "stream",
     "text": [
      "\r",
      " 45%|████████████████████████████████████▊                                            | 89/196 [01:18<03:09,  1.77s/it]"
     ]
    },
    {
     "name": "stdout",
     "output_type": "stream",
     "text": [
      " 87% [..................................................................          ] 368640 / 419372"
     ]
    },
    {
     "name": "stderr",
     "output_type": "stream",
     "text": [
      "\r",
      " 46%|█████████████████████████████████████▏                                           | 90/196 [01:21<03:56,  2.23s/it]"
     ]
    },
    {
     "name": "stdout",
     "output_type": "stream",
     "text": [
      " 80% [.............................................................               ] 155648 / 193421"
     ]
    },
    {
     "name": "stderr",
     "output_type": "stream",
     "text": [
      "\r",
      " 46%|█████████████████████████████████████▌                                           | 91/196 [01:24<03:54,  2.23s/it]"
     ]
    },
    {
     "name": "stdout",
     "output_type": "stream",
     "text": [
      " 98% [........................................................................  ] 1515520 / 1544167"
     ]
    },
    {
     "name": "stderr",
     "output_type": "stream",
     "text": [
      "\r",
      " 47%|██████████████████████████████████████                                           | 92/196 [01:33<07:19,  4.23s/it]"
     ]
    },
    {
     "name": "stdout",
     "output_type": "stream",
     "text": [
      " 92% [......................................................................      ] 237568 / 257172"
     ]
    },
    {
     "name": "stderr",
     "output_type": "stream",
     "text": [
      "\r",
      " 47%|██████████████████████████████████████▍                                          | 93/196 [01:35<06:03,  3.53s/it]"
     ]
    },
    {
     "name": "stdout",
     "output_type": "stream",
     "text": [
      " 72% [.......................................................                     ] 155648 / 213574"
     ]
    },
    {
     "name": "stderr",
     "output_type": "stream",
     "text": [
      "\r",
      " 48%|██████████████████████████████████████▊                                          | 94/196 [01:36<05:05,  2.99s/it]"
     ]
    },
    {
     "name": "stdout",
     "output_type": "stream",
     "text": [
      " 42% [................................                                            ]  65536 / 153246"
     ]
    },
    {
     "name": "stderr",
     "output_type": "stream",
     "text": [
      "\r",
      " 48%|███████████████████████████████████████▎                                         | 95/196 [01:38<04:12,  2.50s/it]"
     ]
    },
    {
     "name": "stdout",
     "output_type": "stream",
     "text": [
      " 85% [................................................................            ] 188416 / 221156"
     ]
    },
    {
     "name": "stderr",
     "output_type": "stream",
     "text": [
      "\r",
      " 49%|████████████████████████████████████████                                         | 97/196 [01:39<02:54,  1.76s/it]"
     ]
    },
    {
     "name": "stdout",
     "output_type": "stream",
     "text": [
      " 81% [..............................................................              ] 114688 / 139889"
     ]
    },
    {
     "name": "stderr",
     "output_type": "stream",
     "text": [
      "\r",
      " 50%|████████████████████████████████████████▌                                        | 98/196 [01:41<02:43,  1.67s/it]"
     ]
    },
    {
     "name": "stdout",
     "output_type": "stream",
     "text": [
      " 82% [..............................................................              ] 155648 / 189204"
     ]
    },
    {
     "name": "stderr",
     "output_type": "stream",
     "text": [
      "\r",
      " 51%|████████████████████████████████████████▊                                       | 100/196 [01:42<02:04,  1.30s/it]"
     ]
    },
    {
     "name": "stdout",
     "output_type": "stream",
     "text": [
      " 37% [............................                                                ]  57344 / 153843"
     ]
    },
    {
     "name": "stderr",
     "output_type": "stream",
     "text": [
      "\r",
      " 52%|█████████████████████████████████████████▏                                      | 101/196 [01:44<02:05,  1.32s/it]"
     ]
    },
    {
     "name": "stdout",
     "output_type": "stream",
     "text": [
      " 77% [...........................................................                 ] 237568 / 304963"
     ]
    },
    {
     "name": "stderr",
     "output_type": "stream",
     "text": [
      "\r",
      " 53%|██████████████████████████████████████████▍                                     | 104/196 [01:46<01:32,  1.00s/it]"
     ]
    },
    {
     "name": "stdout",
     "output_type": "stream",
     "text": [
      " 49% [.....................................                                       ]  65536 / 131670"
     ]
    },
    {
     "name": "stderr",
     "output_type": "stream",
     "text": [
      "\r",
      " 54%|██████████████████████████████████████████▊                                     | 105/196 [01:47<01:37,  1.07s/it]"
     ]
    },
    {
     "name": "stdout",
     "output_type": "stream",
     "text": [
      " 87% [..................................................................          ] 155648 / 178380"
     ]
    },
    {
     "name": "stderr",
     "output_type": "stream",
     "text": [
      "\r",
      " 54%|███████████████████████████████████████████▎                                    | 106/196 [01:49<01:45,  1.17s/it]"
     ]
    },
    {
     "name": "stdout",
     "output_type": "stream",
     "text": [
      " 54% [.........................................                                   ]  65536 / 120836"
     ]
    },
    {
     "name": "stderr",
     "output_type": "stream",
     "text": [
      "\r",
      " 55%|████████████████████████████████████████████                                    | 108/196 [01:50<01:24,  1.04it/s]"
     ]
    },
    {
     "name": "stdout",
     "output_type": "stream",
     "text": [
      "\r",
      " 61% [..............................................                              ]  73728 / 120836\r",
      " 67% [...................................................                         ]  81920 / 120836\r",
      " 74% [........................................................                    ]  90112 / 120836\r",
      " 81% [.............................................................               ]  98304 / 120836\r",
      " 88% [..................................................................          ] 106496 / 120836\r",
      " 94% [........................................................................    ] 114688 / 120836\r",
      "100% [............................................................................] 120836 / 120836"
     ]
    },
    {
     "name": "stderr",
     "output_type": "stream",
     "text": [
      "\r",
      " 56%|████████████████████████████████████████████▍                                   | 109/196 [01:51<01:25,  1.01it/s]"
     ]
    },
    {
     "name": "stdout",
     "output_type": "stream",
     "text": [
      " 91% [.....................................................................       ] 155648 / 170389"
     ]
    },
    {
     "name": "stderr",
     "output_type": "stream",
     "text": [
      "\r",
      " 57%|█████████████████████████████████████████████▎                                  | 111/196 [01:53<01:17,  1.10it/s]"
     ]
    },
    {
     "name": "stdout",
     "output_type": "stream",
     "text": [
      "\r",
      " 96% [.........................................................................   ] 163840 / 170389\r",
      "100% [............................................................................] 170389 / 170389"
     ]
    },
    {
     "name": "stderr",
     "output_type": "stream",
     "text": [
      "\r",
      " 58%|██████████████████████████████████████████████                                  | 113/196 [01:54<01:03,  1.30it/s]"
     ]
    },
    {
     "name": "stdout",
     "output_type": "stream",
     "text": [
      " 64% [..................................................                            ] 57344 / 89363"
     ]
    },
    {
     "name": "stderr",
     "output_type": "stream",
     "text": [
      "\r",
      " 59%|██████████████████████████████████████████████▉                                 | 115/196 [01:55<00:58,  1.40it/s]"
     ]
    },
    {
     "name": "stdout",
     "output_type": "stream",
     "text": [
      " 88% [...................................................................         ] 155648 / 175097"
     ]
    },
    {
     "name": "stderr",
     "output_type": "stream",
     "text": [
      "\r",
      " 59%|███████████████████████████████████████████████▎                                | 116/196 [01:56<01:10,  1.14it/s]"
     ]
    },
    {
     "name": "stdout",
     "output_type": "stream",
     "text": [
      " 42% [................................                                            ]  57344 / 134421"
     ]
    },
    {
     "name": "stderr",
     "output_type": "stream",
     "text": [
      "\r",
      " 60%|████████████████████████████████████████████████▏                               | 118/196 [01:58<01:02,  1.24it/s]"
     ]
    },
    {
     "name": "stdout",
     "output_type": "stream",
     "text": [
      " 70% [.....................................................                       ] 155648 / 219775"
     ]
    },
    {
     "name": "stderr",
     "output_type": "stream",
     "text": [
      "\r",
      " 61%|████████████████████████████████████████████████▌                               | 119/196 [01:59<01:16,  1.01it/s]"
     ]
    },
    {
     "name": "stdout",
     "output_type": "stream",
     "text": [
      " 69% [....................................................                        ] 155648 / 223273"
     ]
    },
    {
     "name": "stderr",
     "output_type": "stream",
     "text": [
      "\r",
      " 61%|████████████████████████████████████████████████▉                               | 120/196 [02:01<01:28,  1.16s/it]"
     ]
    },
    {
     "name": "stdout",
     "output_type": "stream",
     "text": [
      " 93% [.......................................................................     ] 180224 / 192455"
     ]
    },
    {
     "name": "stderr",
     "output_type": "stream",
     "text": [
      "\r",
      " 62%|█████████████████████████████████████████████████▍                              | 121/196 [02:03<01:35,  1.27s/it]"
     ]
    },
    {
     "name": "stdout",
     "output_type": "stream",
     "text": [
      " 99% [........................................................................... ] 147456 / 148641"
     ]
    },
    {
     "name": "stderr",
     "output_type": "stream",
     "text": [
      "\r",
      " 62%|█████████████████████████████████████████████████▊                              | 122/196 [02:04<01:36,  1.31s/it]"
     ]
    },
    {
     "name": "stdout",
     "output_type": "stream",
     "text": [
      "100% [............................................................................] 685820 / 685820"
     ]
    },
    {
     "name": "stderr",
     "output_type": "stream",
     "text": [
      "\r",
      " 63%|██████████████████████████████████████████████████▏                             | 123/196 [02:07<02:10,  1.79s/it]"
     ]
    },
    {
     "name": "stdout",
     "output_type": "stream",
     "text": [
      " 78% [...........................................................                 ] 188416 / 239678"
     ]
    },
    {
     "name": "stderr",
     "output_type": "stream",
     "text": [
      "\r",
      " 64%|███████████████████████████████████████████████████▍                            | 126/196 [02:09<01:19,  1.13s/it]"
     ]
    },
    {
     "name": "stdout",
     "output_type": "stream",
     "text": [
      " 55% [..........................................                                  ]  73728 / 131825"
     ]
    },
    {
     "name": "stderr",
     "output_type": "stream",
     "text": [
      "\r",
      " 65%|███████████████████████████████████████████████████▊                            | 127/196 [02:10<01:21,  1.18s/it]"
     ]
    },
    {
     "name": "stdout",
     "output_type": "stream",
     "text": [
      " 49% [.....................................                                       ]  73728 / 150028"
     ]
    },
    {
     "name": "stderr",
     "output_type": "stream",
     "text": [
      "\r",
      " 65%|████████████████████████████████████████████████████▏                           | 128/196 [02:12<01:23,  1.23s/it]"
     ]
    },
    {
     "name": "stdout",
     "output_type": "stream",
     "text": [
      " 77% [..........................................................                  ] 450560 / 581835"
     ]
    },
    {
     "name": "stderr",
     "output_type": "stream",
     "text": [
      "\r",
      " 66%|████████████████████████████████████████████████████▋                           | 129/196 [02:15<01:47,  1.61s/it]"
     ]
    },
    {
     "name": "stdout",
     "output_type": "stream",
     "text": [
      " 95% [........................................................................    ] 212992 / 223862"
     ]
    },
    {
     "name": "stderr",
     "output_type": "stream",
     "text": [
      "\r",
      " 66%|█████████████████████████████████████████████████████                           | 130/196 [02:16<01:48,  1.64s/it]"
     ]
    },
    {
     "name": "stdout",
     "output_type": "stream",
     "text": [
      " 45% [..................................                                          ]  65536 / 143792"
     ]
    },
    {
     "name": "stderr",
     "output_type": "stream",
     "text": [
      "\r",
      " 68%|██████████████████████████████████████████████████████▎                         | 133/196 [02:18<01:04,  1.02s/it]"
     ]
    },
    {
     "name": "stdout",
     "output_type": "stream",
     "text": [
      " 36% [...........................                                                 ]  57344 / 156524"
     ]
    },
    {
     "name": "stderr",
     "output_type": "stream",
     "text": [
      "\r",
      " 69%|███████████████████████████████████████████████████████▌                        | 136/196 [02:19<00:46,  1.28it/s]"
     ]
    },
    {
     "name": "stdout",
     "output_type": "stream",
     "text": [
      " 87% [..................................................................          ] 516096 / 587962"
     ]
    },
    {
     "name": "stderr",
     "output_type": "stream",
     "text": [
      "\r",
      " 70%|███████████████████████████████████████████████████████▉                        | 137/196 [02:22<01:06,  1.13s/it]"
     ]
    },
    {
     "name": "stdout",
     "output_type": "stream",
     "text": [
      " 44% [.................................                                           ]  65536 / 148179"
     ]
    },
    {
     "name": "stderr",
     "output_type": "stream",
     "text": [
      "\r",
      " 70%|████████████████████████████████████████████████████████▎                       | 138/196 [02:23<01:09,  1.19s/it]"
     ]
    },
    {
     "name": "stdout",
     "output_type": "stream",
     "text": [
      " 89% [....................................................................        ] 155648 / 173427"
     ]
    },
    {
     "name": "stderr",
     "output_type": "stream",
     "text": [
      "\r",
      " 71%|████████████████████████████████████████████████████████▋                       | 139/196 [02:25<01:11,  1.26s/it]"
     ]
    },
    {
     "name": "stdout",
     "output_type": "stream",
     "text": [
      " 78% [.............................................................                 ] 65536 / 83149"
     ]
    },
    {
     "name": "stderr",
     "output_type": "stream",
     "text": [
      "\r",
      " 72%|█████████████████████████████████████████████████████████▉                      | 142/196 [02:26<00:45,  1.18it/s]"
     ]
    },
    {
     "name": "stdout",
     "output_type": "stream",
     "text": [
      " 41% [...............................                                             ]  65536 / 156642"
     ]
    },
    {
     "name": "stderr",
     "output_type": "stream",
     "text": [
      "\r",
      " 73%|██████████████████████████████████████████████████████████▎                     | 143/196 [02:27<00:50,  1.06it/s]"
     ]
    },
    {
     "name": "stdout",
     "output_type": "stream",
     "text": [
      " 85% [.................................................................           ] 155648 / 181444"
     ]
    },
    {
     "name": "stderr",
     "output_type": "stream",
     "text": [
      "\r",
      " 73%|██████████████████████████████████████████████████████████▊                     | 144/196 [02:29<00:55,  1.08s/it]"
     ]
    },
    {
     "name": "stdout",
     "output_type": "stream",
     "text": [
      " 90% [....................................................................        ] 335872 / 371822"
     ]
    },
    {
     "name": "stderr",
     "output_type": "stream",
     "text": [
      "\r",
      " 74%|███████████████████████████████████████████████████████████▏                    | 145/196 [02:31<01:08,  1.34s/it]"
     ]
    },
    {
     "name": "stdout",
     "output_type": "stream",
     "text": [
      " 88% [...................................................................         ] 155648 / 176399"
     ]
    },
    {
     "name": "stderr",
     "output_type": "stream",
     "text": [
      "\r",
      " 75%|████████████████████████████████████████████████████████████                    | 147/196 [02:33<00:54,  1.11s/it]"
     ]
    },
    {
     "name": "stdout",
     "output_type": "stream",
     "text": [
      " 81% [.............................................................               ] 139264 / 171446"
     ]
    },
    {
     "name": "stderr",
     "output_type": "stream",
     "text": [
      "\r",
      " 76%|████████████████████████████████████████████████████████████▍                   | 148/196 [02:35<01:10,  1.46s/it]"
     ]
    },
    {
     "name": "stdout",
     "output_type": "stream",
     "text": [
      " 86% [.................................................................           ] 499712 / 575961"
     ]
    },
    {
     "name": "stderr",
     "output_type": "stream",
     "text": [
      "\r",
      " 76%|████████████████████████████████████████████████████████████▊                   | 149/196 [02:40<01:41,  2.16s/it]"
     ]
    },
    {
     "name": "stdout",
     "output_type": "stream",
     "text": [
      " 92% [......................................................................      ] 761856 / 821746"
     ]
    },
    {
     "name": "stderr",
     "output_type": "stream",
     "text": [
      "\r",
      " 77%|█████████████████████████████████████████████████████████████▏                  | 150/196 [02:44<02:04,  2.72s/it]"
     ]
    },
    {
     "name": "stdout",
     "output_type": "stream",
     "text": [
      " 78% [...........................................................                 ] 122880 / 157444"
     ]
    },
    {
     "name": "stderr",
     "output_type": "stream",
     "text": [
      "\r",
      " 77%|█████████████████████████████████████████████████████████████▋                  | 151/196 [02:46<01:47,  2.40s/it]"
     ]
    },
    {
     "name": "stdout",
     "output_type": "stream",
     "text": [
      " 62% [...............................................                             ]  65536 / 104705"
     ]
    },
    {
     "name": "stderr",
     "output_type": "stream",
     "text": [
      "\r",
      " 78%|██████████████████████████████████████████████████████████████                  | 152/196 [02:47<01:31,  2.07s/it]"
     ]
    },
    {
     "name": "stdout",
     "output_type": "stream",
     "text": [
      " 81% [..............................................................              ] 204800 / 249878"
     ]
    },
    {
     "name": "stderr",
     "output_type": "stream",
     "text": [
      "\r",
      " 79%|██████████████████████████████████████████████████████████████▊                 | 154/196 [02:49<01:06,  1.59s/it]"
     ]
    },
    {
     "name": "stdout",
     "output_type": "stream",
     "text": [
      " 81% [..............................................................              ] 204800 / 251045"
     ]
    },
    {
     "name": "stderr",
     "output_type": "stream",
     "text": [
      "\r",
      " 79%|███████████████████████████████████████████████████████████████▎                | 155/196 [02:51<01:07,  1.65s/it]"
     ]
    },
    {
     "name": "stdout",
     "output_type": "stream",
     "text": [
      " 80% [............................................................                ] 122880 / 153371"
     ]
    },
    {
     "name": "stderr",
     "output_type": "stream",
     "text": [
      "\r",
      " 80%|███████████████████████████████████████████████████████████████▋                | 156/196 [02:52<01:04,  1.62s/it]"
     ]
    },
    {
     "name": "stdout",
     "output_type": "stream",
     "text": [
      " 75% [.........................................................                   ] 286720 / 382011"
     ]
    },
    {
     "name": "stderr",
     "output_type": "stream",
     "text": [
      "\r",
      " 80%|████████████████████████████████████████████████████████████████                | 157/196 [02:55<01:10,  1.82s/it]"
     ]
    },
    {
     "name": "stdout",
     "output_type": "stream",
     "text": [
      " 61% [..............................................                              ] 122880 / 199767"
     ]
    },
    {
     "name": "stderr",
     "output_type": "stream",
     "text": [
      "\r",
      " 81%|████████████████████████████████████████████████████████████████▍               | 158/196 [02:56<01:07,  1.78s/it]"
     ]
    },
    {
     "name": "stdout",
     "output_type": "stream",
     "text": [
      " 47% [....................................                                        ]  65536 / 137863"
     ]
    },
    {
     "name": "stderr",
     "output_type": "stream",
     "text": [
      "\r",
      " 81%|████████████████████████████████████████████████████████████████▉               | 159/196 [02:58<01:01,  1.66s/it]"
     ]
    },
    {
     "name": "stdout",
     "output_type": "stream",
     "text": [
      " 81% [.............................................................               ] 204800 / 251691"
     ]
    },
    {
     "name": "stderr",
     "output_type": "stream",
     "text": [
      "\r",
      " 82%|█████████████████████████████████████████████████████████████████▎              | 160/196 [03:00<01:02,  1.73s/it]"
     ]
    },
    {
     "name": "stdout",
     "output_type": "stream",
     "text": [
      " 83% [...............................................................             ] 204800 / 246630"
     ]
    },
    {
     "name": "stderr",
     "output_type": "stream",
     "text": [
      "\r",
      " 82%|█████████████████████████████████████████████████████████████████▋              | 161/196 [03:01<01:02,  1.77s/it]"
     ]
    },
    {
     "name": "stdout",
     "output_type": "stream",
     "text": [
      " 93% [......................................................................      ] 368640 / 395539"
     ]
    },
    {
     "name": "stderr",
     "output_type": "stream",
     "text": [
      "\r",
      " 83%|██████████████████████████████████████████████████████████████████              | 162/196 [03:04<01:07,  1.99s/it]"
     ]
    },
    {
     "name": "stdout",
     "output_type": "stream",
     "text": [
      "\r",
      " 95% [........................................................................    ] 376832 / 395539\r",
      " 97% [.........................................................................   ] 385024 / 395539\r",
      " 99% [........................................................................... ] 393216 / 395539\r",
      "100% [............................................................................] 395539 / 395539"
     ]
    },
    {
     "name": "stderr",
     "output_type": "stream",
     "text": [
      "\r",
      " 83%|██████████████████████████████████████████████████████████████████▌             | 163/196 [03:05<00:56,  1.71s/it]"
     ]
    },
    {
     "name": "stdout",
     "output_type": "stream",
     "text": [
      " 84% [...............................................................             ] 204800 / 243437"
     ]
    },
    {
     "name": "stderr",
     "output_type": "stream",
     "text": [
      "\r",
      " 84%|██████████████████████████████████████████████████████████████████▉             | 164/196 [03:07<00:56,  1.76s/it]"
     ]
    },
    {
     "name": "stdout",
     "output_type": "stream",
     "text": [
      " 64% [.................................................                           ] 122880 / 189246"
     ]
    },
    {
     "name": "stderr",
     "output_type": "stream",
     "text": [
      "\r",
      " 84%|███████████████████████████████████████████████████████████████████▎            | 165/196 [03:09<00:54,  1.75s/it]"
     ]
    },
    {
     "name": "stdout",
     "output_type": "stream",
     "text": [
      " 90% [....................................................................        ] 352256 / 389766"
     ]
    },
    {
     "name": "stderr",
     "output_type": "stream",
     "text": [
      "\r",
      " 85%|███████████████████████████████████████████████████████████████████▊            | 166/196 [03:12<01:05,  2.18s/it]"
     ]
    },
    {
     "name": "stdout",
     "output_type": "stream",
     "text": [
      " 79% [............................................................                ] 229376 / 287380"
     ]
    },
    {
     "name": "stderr",
     "output_type": "stream",
     "text": [
      "\r",
      " 85%|████████████████████████████████████████████████████████████████████▏           | 167/196 [03:14<01:06,  2.30s/it]"
     ]
    },
    {
     "name": "stdout",
     "output_type": "stream",
     "text": [
      " 83% [...............................................................             ] 253952 / 303124"
     ]
    },
    {
     "name": "stderr",
     "output_type": "stream",
     "text": [
      "\r",
      " 86%|████████████████████████████████████████████████████████████████████▉           | 169/196 [03:17<00:49,  1.82s/it]"
     ]
    },
    {
     "name": "stdout",
     "output_type": "stream",
     "text": [
      " 83% [...............................................................             ]  90112 / 107910"
     ]
    },
    {
     "name": "stderr",
     "output_type": "stream",
     "text": [
      "\r",
      " 87%|█████████████████████████████████████████████████████████████████████▍          | 170/196 [03:18<00:45,  1.74s/it]"
     ]
    },
    {
     "name": "stdout",
     "output_type": "stream",
     "text": [
      " 66% [..................................................                          ]  90112 / 135409"
     ]
    },
    {
     "name": "stderr",
     "output_type": "stream",
     "text": [
      "\r",
      " 88%|██████████████████████████████████████████████████████████████████████▌         | 173/196 [03:20<00:26,  1.14s/it]"
     ]
    },
    {
     "name": "stdout",
     "output_type": "stream",
     "text": [
      " 80% [.............................................................               ] 131072 / 161871"
     ]
    },
    {
     "name": "stderr",
     "output_type": "stream",
     "text": [
      "\r",
      " 89%|███████████████████████████████████████████████████████████████████████         | 174/196 [03:22<00:28,  1.29s/it]"
     ]
    },
    {
     "name": "stdout",
     "output_type": "stream",
     "text": [
      " 73% [.......................................................                     ] 139264 / 189703"
     ]
    },
    {
     "name": "stderr",
     "output_type": "stream",
     "text": [
      "\r",
      " 89%|███████████████████████████████████████████████████████████████████████▍        | 175/196 [03:24<00:30,  1.46s/it]"
     ]
    },
    {
     "name": "stdout",
     "output_type": "stream",
     "text": [
      " 88% [..................................................................          ] 253952 / 288254"
     ]
    },
    {
     "name": "stderr",
     "output_type": "stream",
     "text": [
      "\r",
      " 90%|████████████████████████████████████████████████████████████████████████▏       | 177/196 [03:27<00:26,  1.38s/it]"
     ]
    },
    {
     "name": "stdout",
     "output_type": "stream",
     "text": [
      " 87% [..................................................................          ] 401408 / 457753"
     ]
    },
    {
     "name": "stderr",
     "output_type": "stream",
     "text": [
      "\r",
      " 91%|████████████████████████████████████████████████████████████████████████▋       | 178/196 [03:30<00:32,  1.80s/it]"
     ]
    },
    {
     "name": "stdout",
     "output_type": "stream",
     "text": [
      " 90% [.....................................................................       ] 180224 / 198257"
     ]
    },
    {
     "name": "stderr",
     "output_type": "stream",
     "text": [
      "\r",
      " 92%|█████████████████████████████████████████████████████████████████████████▍      | 180/196 [03:32<00:24,  1.51s/it]"
     ]
    },
    {
     "name": "stdout",
     "output_type": "stream",
     "text": [
      " 85% [................................................................            ] 188416 / 221177"
     ]
    },
    {
     "name": "stderr",
     "output_type": "stream",
     "text": [
      "\r",
      " 93%|██████████████████████████████████████████████████████████████████████████▎     | 182/196 [03:34<00:19,  1.36s/it]"
     ]
    },
    {
     "name": "stdout",
     "output_type": "stream",
     "text": [
      " 95% [........................................................................    ] 196608 / 205876"
     ]
    },
    {
     "name": "stderr",
     "output_type": "stream",
     "text": [
      "\r",
      " 93%|██████████████████████████████████████████████████████████████████████████▋     | 183/196 [03:36<00:19,  1.51s/it]"
     ]
    },
    {
     "name": "stdout",
     "output_type": "stream",
     "text": [
      " 94% [.......................................................................     ] 434176 / 460794"
     ]
    },
    {
     "name": "stderr",
     "output_type": "stream",
     "text": [
      "\r",
      " 94%|███████████████████████████████████████████████████████████████████████████     | 184/196 [03:40<00:23,  1.92s/it]"
     ]
    },
    {
     "name": "stdout",
     "output_type": "stream",
     "text": [
      " 87% [..................................................................          ] 139264 / 159691"
     ]
    },
    {
     "name": "stderr",
     "output_type": "stream",
     "text": [
      "\r",
      " 95%|███████████████████████████████████████████████████████████████████████████▉    | 186/196 [03:41<00:15,  1.54s/it]"
     ]
    },
    {
     "name": "stdout",
     "output_type": "stream",
     "text": [
      " 89% [....................................................................        ] 188416 / 210121"
     ]
    },
    {
     "name": "stderr",
     "output_type": "stream",
     "text": [
      "\r",
      " 95%|████████████████████████████████████████████████████████████████████████████▎   | 187/196 [03:44<00:15,  1.68s/it]"
     ]
    },
    {
     "name": "stdout",
     "output_type": "stream",
     "text": [
      " 59% [.............................................                               ]  90112 / 151075"
     ]
    },
    {
     "name": "stderr",
     "output_type": "stream",
     "text": [
      "\r",
      " 96%|████████████████████████████████████████████████████████████████████████████▋   | 188/196 [03:45<00:13,  1.69s/it]"
     ]
    },
    {
     "name": "stdout",
     "output_type": "stream",
     "text": [
      " 78% [............................................................                ] 253952 / 321459"
     ]
    },
    {
     "name": "stderr",
     "output_type": "stream",
     "text": [
      "\r",
      " 97%|█████████████████████████████████████████████████████████████████████████████▌  | 190/196 [03:48<00:09,  1.54s/it]"
     ]
    },
    {
     "name": "stdout",
     "output_type": "stream",
     "text": [
      " 87% [..................................................................          ] 401408 / 458528"
     ]
    },
    {
     "name": "stderr",
     "output_type": "stream",
     "text": [
      "\r",
      " 97%|█████████████████████████████████████████████████████████████████████████████▉  | 191/196 [03:51<00:09,  1.94s/it]"
     ]
    },
    {
     "name": "stdout",
     "output_type": "stream",
     "text": [
      " 83% [...............................................................             ] 139264 / 165801"
     ]
    },
    {
     "name": "stderr",
     "output_type": "stream",
     "text": [
      "\r",
      " 98%|██████████████████████████████████████████████████████████████████████████████▊ | 193/196 [03:53<00:04,  1.55s/it]"
     ]
    },
    {
     "name": "stdout",
     "output_type": "stream",
     "text": [
      " 97% [........................................................................  ] 4972544 / 5093694"
     ]
    },
    {
     "name": "stderr",
     "output_type": "stream",
     "text": [
      "\r",
      " 99%|███████████████████████████████████████████████████████████████████████████████▌| 195/196 [04:02<00:02,  2.60s/it]"
     ]
    },
    {
     "name": "stdout",
     "output_type": "stream",
     "text": [
      " 99% [....................................................................... ] 10027008 / 10062847"
     ]
    },
    {
     "name": "stderr",
     "output_type": "stream",
     "text": [
      "100%|████████████████████████████████████████████████████████████████████████████████| 196/196 [04:14<00:00,  1.30s/it]"
     ]
    },
    {
     "name": "stdout",
     "output_type": "stream",
     "text": [
      "\r",
      " 99% [....................................................................... ] 10035200 / 10062847\r",
      " 99% [....................................................................... ] 10043392 / 10062847\r",
      " 99% [....................................................................... ] 10051584 / 10062847\r",
      " 99% [....................................................................... ] 10059776 / 10062847\r",
      "100% [........................................................................] 10062847 / 10062847"
     ]
    },
    {
     "name": "stderr",
     "output_type": "stream",
     "text": [
      "\n"
     ]
    }
   ],
   "source": [
    "import wget\n",
    "\n",
    "for country in tqdm(data):\n",
    "    if data[country]['en_link'] is not None:\n",
    "        filename = wget.download(data[country]['en_link'], \"GD2022/\" + country + \".pdf\")\n",
    "        "
   ]
  },
  {
   "cell_type": "code",
   "execution_count": 284,
   "id": "d9cadc18",
   "metadata": {},
   "outputs": [
    {
     "name": "stderr",
     "output_type": "stream",
     "text": [
      "100%|████████████████████████████████████████████████████████████████████████████████| 196/196 [01:24<00:00,  2.32it/s]\n"
     ]
    }
   ],
   "source": [
    "from pdfminer.high_level import extract_text\n",
    "\n",
    "texts = dict()\n",
    "\n",
    "for country in tqdm(data):\n",
    "    if data[country]['en_link'] is not None:\n",
    "        texts[country] = extract_text('GD2022/' + country + '.pdf')"
   ]
  },
  {
   "cell_type": "code",
   "execution_count": 319,
   "id": "83d85f12",
   "metadata": {},
   "outputs": [],
   "source": [
    "import re\n",
    "\n",
    "def clear_text(text):\n",
    "    text_tmp = re.sub(r\"\\b\\d{1,2}\\b|(\\n)|[\\x00-\\x08\\x0b\\x0c\\x0e-\\x1f\\x7f-\\xff]+\", \"\", text)\n",
    "    begin_with = text_tmp.find('President')\n",
    "    return text_tmp[begin_with:]"
   ]
  },
  {
   "cell_type": "code",
   "execution_count": 320,
   "id": "1226a732",
   "metadata": {},
   "outputs": [],
   "source": [
    "texts_values = list(texts.values())\n",
    "preprocessed_texts = [clear_text(texts_values[i]) for i in range(len(texts_values))]"
   ]
  },
  {
   "cell_type": "code",
   "execution_count": 323,
   "id": "dd52d7f4",
   "metadata": {},
   "outputs": [
    {
     "data": {
      "text/html": [
       "<div>\n",
       "<style scoped>\n",
       "    .dataframe tbody tr th:only-of-type {\n",
       "        vertical-align: middle;\n",
       "    }\n",
       "\n",
       "    .dataframe tbody tr th {\n",
       "        vertical-align: top;\n",
       "    }\n",
       "\n",
       "    .dataframe thead th {\n",
       "        text-align: right;\n",
       "    }\n",
       "</style>\n",
       "<table border=\"1\" class=\"dataframe\">\n",
       "  <thead>\n",
       "    <tr style=\"text-align: right;\">\n",
       "      <th></th>\n",
       "      <th>Speech</th>\n",
       "      <th>Country or Area</th>\n",
       "    </tr>\n",
       "  </thead>\n",
       "  <tbody>\n",
       "    <tr>\n",
       "      <th>0</th>\n",
       "      <td>President, Distinguished delegates,  is  curre...</td>\n",
       "      <td>Albania</td>\n",
       "    </tr>\n",
       "    <tr>\n",
       "      <th>1</th>\n",
       "      <td></td>\n",
       "      <td>Andorra</td>\n",
       "    </tr>\n",
       "    <tr>\n",
       "      <th>2</th>\n",
       "      <td>President  of  the 77th Session of the United ...</td>\n",
       "      <td>Angola</td>\n",
       "    </tr>\n",
       "    <tr>\n",
       "      <th>3</th>\n",
       "      <td></td>\n",
       "      <td>Antigua and Barbuda</td>\n",
       "    </tr>\n",
       "    <tr>\n",
       "      <th>4</th>\n",
       "      <td>President, Excellences,  Ladies and gentlemen,...</td>\n",
       "      <td>Armenia</td>\n",
       "    </tr>\n",
       "    <tr>\n",
       "      <th>...</th>\n",
       "      <td>...</td>\n",
       "      <td>...</td>\n",
       "    </tr>\n",
       "    <tr>\n",
       "      <th>130</th>\n",
       "      <td>President! Dear Secretary General! Distinguish...</td>\n",
       "      <td>Uzbekistan</td>\n",
       "    </tr>\n",
       "    <tr>\n",
       "      <th>131</th>\n",
       "      <td></td>\n",
       "      <td>Vanuatu</td>\n",
       "    </tr>\n",
       "    <tr>\n",
       "      <th>132</th>\n",
       "      <td>President, . I join others in congratulating y...</td>\n",
       "      <td>Viet Nam</td>\n",
       "    </tr>\n",
       "    <tr>\n",
       "      <th>133</th>\n",
       "      <td></td>\n",
       "      <td>Zambia</td>\n",
       "    </tr>\n",
       "    <tr>\n",
       "      <th>134</th>\n",
       "      <td></td>\n",
       "      <td>Zimbabwe</td>\n",
       "    </tr>\n",
       "  </tbody>\n",
       "</table>\n",
       "<p>135 rows × 2 columns</p>\n",
       "</div>"
      ],
      "text/plain": [
       "                                                Speech      Country or Area\n",
       "0    President, Distinguished delegates,  is  curre...              Albania\n",
       "1                                                                   Andorra\n",
       "2    President  of  the 77th Session of the United ...               Angola\n",
       "3                                                       Antigua and Barbuda\n",
       "4    President, Excellences,  Ladies and gentlemen,...              Armenia\n",
       "..                                                 ...                  ...\n",
       "130  President! Dear Secretary General! Distinguish...           Uzbekistan\n",
       "131                                                                 Vanuatu\n",
       "132  President, . I join others in congratulating y...             Viet Nam\n",
       "133                                                                  Zambia\n",
       "134                                                                Zimbabwe\n",
       "\n",
       "[135 rows x 2 columns]"
      ]
     },
     "execution_count": 323,
     "metadata": {},
     "output_type": "execute_result"
    }
   ],
   "source": [
    "import numpy as np\n",
    "speeches_22 = pd.DataFrame(np.array([preprocessed_texts, list(texts.keys())]).T, columns=['Speech', 'Country or Area'])\n",
    "speeches_22"
   ]
  },
  {
   "cell_type": "code",
   "execution_count": 324,
   "id": "4ee1ebe6",
   "metadata": {},
   "outputs": [],
   "source": [
    "df_codes = pd.read_csv('UNSD — Methodology.csv', sep=\";\") # .dropna(axis=1)\n",
    "df_codes_t = df_codes[['Country or Area', 'ISO-alpha3 Code']]"
   ]
  },
  {
   "cell_type": "code",
   "execution_count": 325,
   "id": "cefd711f",
   "metadata": {},
   "outputs": [],
   "source": [
    "pd.merge(left=df_codes_t, right=speeches_22).join(pd.DataFrame([2022 for i in range(127)], columns=['Year']))[['Year', 'ISO-alpha3 Code', 'Country or Area', 'Speech']].to_csv('GD_22_preprocessed.csv')"
   ]
  },
  {
   "cell_type": "markdown",
   "id": "09e499fd",
   "metadata": {},
   "source": [
    "### GD'21 parsing"
   ]
  },
  {
   "cell_type": "code",
   "execution_count": 19,
   "id": "46145a97",
   "metadata": {},
   "outputs": [
    {
     "name": "stderr",
     "output_type": "stream",
     "text": [
      "C:\\Users\\Eighonet Aerta\\AppData\\Local\\Temp\\ipykernel_39356\\3236105681.py:9: DeprecationWarning: use options instead of chrome_options\n",
      "  driver = webdriver.Chrome(chrome_options = options)\n"
     ]
    }
   ],
   "source": [
    "options = webdriver.ChromeOptions()\n",
    "download_folder = \"reports\"\n",
    "profile = {\"plugins.plugins_list\": [{\"enabled\": False,\n",
    "                                     \"name\": \"Chrome PDF Viewer\"}],\n",
    "           \"download.default_directory\": download_folder,\n",
    "           \"download.extensions_to_open\": \"\"}\n",
    "\n",
    "options.add_experimental_option(\"prefs\", profile)\n",
    "driver = webdriver.Chrome(chrome_options = options)\n",
    "driver.get(\"https://gadebate.un.org/generaldebate76/en/\")\n",
    "actions = ActionChains(driver)"
   ]
  },
  {
   "cell_type": "code",
   "execution_count": 20,
   "id": "b4a4221b",
   "metadata": {},
   "outputs": [],
   "source": [
    "data = dict()"
   ]
  },
  {
   "cell_type": "code",
   "execution_count": 21,
   "id": "ce7cf5a8",
   "metadata": {},
   "outputs": [],
   "source": [
    "import time"
   ]
  },
  {
   "cell_type": "code",
   "execution_count": 22,
   "id": "d9e78643",
   "metadata": {},
   "outputs": [
    {
     "name": "stderr",
     "output_type": "stream",
     "text": [
      "100%|██████████████████████████████████████████████████████████████████████████████████| 13/13 [01:10<00:00,  5.43s/it]\n"
     ]
    }
   ],
   "source": [
    "def refresh_DOM(driver):\n",
    "    element = driver.find_elements(By.ID, \"newscol\")[1]\n",
    "    return element,\\\n",
    "           element.find_elements(By.XPATH, (\"//*[contains(text(),'meeting')]\"))\n",
    "\n",
    "element, meeting_elements = refresh_DOM(driver)\n",
    "\n",
    "for i in tqdm(range(len(meeting_elements))):\n",
    "    meeting_elements[i].click()\n",
    "    \n",
    "    time.sleep(2)\n",
    "    grid_element = driver.find_element(By.ID, ('estatements')).find_element(By.TAG_NAME, ('ion-grid'))\n",
    "    row_elements = grid_element.find_elements(By.XPATH, ('*'))\n",
    "\n",
    "    for element in row_elements:\n",
    "        try:\n",
    "            country_row_elements = element.find_element(By.CLASS_NAME, 'flag-style').find_element(By.XPATH, '..').find_elements(By.XPATH, ('*'))\n",
    "        except:\n",
    "            continue\n",
    "        country = country_row_elements[-1].get_attribute(\"innerHTML\")\n",
    "#        print(country)\n",
    "\n",
    "        data[country] = None\n",
    "        report_element = element.find_element(By.TAG_NAME, 'strong')\n",
    "        if report_element.get_attribute(\"innerHTML\") == 'English':\n",
    "            data[country] = report_element.find_element(By.XPATH, '..').get_attribute('href')\n",
    "    driver.get(\"https://gadebate.un.org/generaldebate76/en/\")\n",
    "    element, meeting_elements = refresh_DOM(driver)"
   ]
  },
  {
   "cell_type": "code",
   "execution_count": 23,
   "id": "a5583d8a",
   "metadata": {},
   "outputs": [],
   "source": [
    "os.mkdir(\"GD2021\")"
   ]
  },
  {
   "cell_type": "code",
   "execution_count": 25,
   "id": "92506542",
   "metadata": {},
   "outputs": [
    {
     "name": "stderr",
     "output_type": "stream",
     "text": [
      "\r",
      "  0%|                                                                                          | 0/182 [00:00<?, ?it/s]"
     ]
    },
    {
     "name": "stdout",
     "output_type": "stream",
     "text": [
      "\r",
      "  0% [                                                                            ]      0 / 220567\r",
      "  3% [..                                                                          ]   8192 / 220567\r",
      "  7% [.....                                                                       ]  16384 / 220567\r",
      " 11% [........                                                                    ]  24576 / 220567\r",
      " 14% [...........                                                                 ]  32768 / 220567\r",
      " 18% [..............                                                              ]  40960 / 220567\r",
      " 22% [................                                                            ]  49152 / 220567\r",
      " 25% [...................                                                         ]  57344 / 220567"
     ]
    },
    {
     "name": "stderr",
     "output_type": "stream",
     "text": [
      "\r",
      "  1%|▍                                                                                 | 1/182 [00:01<03:02,  1.01s/it]"
     ]
    },
    {
     "name": "stdout",
     "output_type": "stream",
     "text": [
      " 24% [..................                                                          ]  49152 / 198552"
     ]
    },
    {
     "name": "stderr",
     "output_type": "stream",
     "text": [
      "\r",
      "  1%|▉                                                                                 | 2/182 [00:01<02:45,  1.09it/s]"
     ]
    },
    {
     "name": "stdout",
     "output_type": "stream",
     "text": [
      " 60% [..............................................                              ] 335872 / 553348"
     ]
    },
    {
     "name": "stderr",
     "output_type": "stream",
     "text": [
      "\r",
      "  3%|██▎                                                                               | 5/182 [00:02<01:28,  2.00it/s]"
     ]
    },
    {
     "name": "stdout",
     "output_type": "stream",
     "text": [
      " 21% [................                                                            ]  57344 / 264150"
     ]
    },
    {
     "name": "stderr",
     "output_type": "stream",
     "text": [
      "\r",
      "  3%|██▋                                                                               | 6/182 [00:03<01:43,  1.69it/s]"
     ]
    },
    {
     "name": "stdout",
     "output_type": "stream",
     "text": [
      " 52% [........................................                                    ]  90112 / 170226"
     ]
    },
    {
     "name": "stderr",
     "output_type": "stream",
     "text": [
      "\r",
      "  4%|███▌                                                                              | 8/182 [00:04<01:28,  1.96it/s]"
     ]
    },
    {
     "name": "stdout",
     "output_type": "stream",
     "text": [
      " 20% [...............                                                             ]  57344 / 279836"
     ]
    },
    {
     "name": "stderr",
     "output_type": "stream",
     "text": [
      "\r",
      "  5%|████                                                                              | 9/182 [00:05<01:44,  1.66it/s]"
     ]
    },
    {
     "name": "stdout",
     "output_type": "stream",
     "text": [
      "100% [..............................................................................] 85065 / 85065"
     ]
    },
    {
     "name": "stderr",
     "output_type": "stream",
     "text": [
      "\r",
      "  6%|████▉                                                                            | 11/182 [00:06<01:26,  1.98it/s]"
     ]
    },
    {
     "name": "stdout",
     "output_type": "stream",
     "text": [
      "\r",
      "  0% [                                                                            ]      0 / 117585\r",
      "  6% [.....                                                                       ]   8192 / 117585\r",
      " 13% [..........                                                                  ]  16384 / 117585\r",
      " 20% [...............                                                             ]  24576 / 117585\r",
      " 27% [.....................                                                       ]  32768 / 117585\r",
      " 34% [..........................                                                  ]  40960 / 117585\r",
      " 41% [...............................                                             ]  49152 / 117585\r",
      " 48% [.....................................                                       ]  57344 / 117585"
     ]
    },
    {
     "name": "stderr",
     "output_type": "stream",
     "text": [
      "\r",
      "  7%|█████▊                                                                           | 13/182 [00:06<01:16,  2.20it/s]"
     ]
    },
    {
     "name": "stdout",
     "output_type": "stream",
     "text": [
      " 98% [..........................................................................  ] 442368 / 449862"
     ]
    },
    {
     "name": "stderr",
     "output_type": "stream",
     "text": [
      "\r",
      "  8%|██████▏                                                                          | 14/182 [00:08<01:45,  1.60it/s]"
     ]
    },
    {
     "name": "stdout",
     "output_type": "stream",
     "text": [
      " 26% [....................                                                        ]  57344 / 213447"
     ]
    },
    {
     "name": "stderr",
     "output_type": "stream",
     "text": [
      "\r",
      "  9%|███████                                                                          | 16/182 [00:09<01:33,  1.77it/s]"
     ]
    },
    {
     "name": "stdout",
     "output_type": "stream",
     "text": [
      " 35% [...........................                                                 ]  57344 / 160502"
     ]
    },
    {
     "name": "stderr",
     "output_type": "stream",
     "text": [
      "\r",
      " 10%|████████                                                                         | 18/182 [00:09<01:23,  1.96it/s]"
     ]
    },
    {
     "name": "stdout",
     "output_type": "stream",
     "text": [
      " 74% [........................................................                    ] 303104 / 406927"
     ]
    },
    {
     "name": "stderr",
     "output_type": "stream",
     "text": [
      "\r",
      " 10%|████████▍                                                                        | 19/182 [00:10<01:38,  1.66it/s]"
     ]
    },
    {
     "name": "stdout",
     "output_type": "stream",
     "text": [
      " 46% [...................................                                         ]  73728 / 157514"
     ]
    },
    {
     "name": "stderr",
     "output_type": "stream",
     "text": [
      "\r",
      " 11%|████████▉                                                                        | 20/182 [00:11<01:46,  1.52it/s]"
     ]
    },
    {
     "name": "stdout",
     "output_type": "stream",
     "text": [
      " 75% [..........................................................                    ] 65536 / 86979"
     ]
    },
    {
     "name": "stderr",
     "output_type": "stream",
     "text": [
      "\r",
      " 12%|█████████▎                                                                       | 21/182 [00:12<01:48,  1.49it/s]"
     ]
    },
    {
     "name": "stdout",
     "output_type": "stream",
     "text": [
      " 76% [..........................................................                  ] 425984 / 557644"
     ]
    },
    {
     "name": "stderr",
     "output_type": "stream",
     "text": [
      "\r",
      " 13%|██████████▏                                                                      | 23/182 [00:13<01:42,  1.56it/s]"
     ]
    },
    {
     "name": "stdout",
     "output_type": "stream",
     "text": [
      " 37% [............................                                                ]  57344 / 154860"
     ]
    },
    {
     "name": "stderr",
     "output_type": "stream",
     "text": [
      "\r",
      " 13%|██████████▋                                                                      | 24/182 [00:14<01:48,  1.45it/s]"
     ]
    },
    {
     "name": "stdout",
     "output_type": "stream",
     "text": [
      " 42% [...............................                                             ]  81920 / 195006"
     ]
    },
    {
     "name": "stderr",
     "output_type": "stream",
     "text": [
      "\r",
      " 14%|███████████▏                                                                     | 25/182 [00:15<01:53,  1.38it/s]"
     ]
    },
    {
     "name": "stdout",
     "output_type": "stream",
     "text": [
      " 20% [...............                                                             ]  57344 / 276286"
     ]
    },
    {
     "name": "stderr",
     "output_type": "stream",
     "text": [
      "\r",
      " 14%|███████████▌                                                                     | 26/182 [00:16<01:58,  1.32it/s]"
     ]
    },
    {
     "name": "stdout",
     "output_type": "stream",
     "text": [
      " 26% [....................                                                        ]  57344 / 217598"
     ]
    },
    {
     "name": "stderr",
     "output_type": "stream",
     "text": [
      "\r",
      " 15%|████████████▍                                                                    | 28/182 [00:16<01:33,  1.64it/s]"
     ]
    },
    {
     "name": "stdout",
     "output_type": "stream",
     "text": [
      " 78% [...........................................................                 ] 253952 / 325262"
     ]
    },
    {
     "name": "stderr",
     "output_type": "stream",
     "text": [
      "\r",
      " 16%|████████████▉                                                                    | 29/182 [00:18<02:02,  1.25it/s]"
     ]
    },
    {
     "name": "stdout",
     "output_type": "stream",
     "text": [
      " 50% [......................................                                      ]  57344 / 113880"
     ]
    },
    {
     "name": "stderr",
     "output_type": "stream",
     "text": [
      "\r",
      " 17%|█████████████▊                                                                   | 31/182 [00:19<01:34,  1.60it/s]"
     ]
    },
    {
     "name": "stdout",
     "output_type": "stream",
     "text": [
      " 38% [.............................                                               ]  57344 / 147192"
     ]
    },
    {
     "name": "stderr",
     "output_type": "stream",
     "text": [
      "\r",
      " 18%|██████████████▏                                                                  | 32/182 [00:19<01:41,  1.48it/s]"
     ]
    },
    {
     "name": "stdout",
     "output_type": "stream",
     "text": [
      " 89% [...................................................................         ] 319488 / 358776"
     ]
    },
    {
     "name": "stderr",
     "output_type": "stream",
     "text": [
      "\r",
      " 19%|███████████████▌                                                                 | 35/182 [00:21<01:15,  1.94it/s]"
     ]
    },
    {
     "name": "stdout",
     "output_type": "stream",
     "text": [
      " 44% [.................................                                           ] 163840 / 372286"
     ]
    },
    {
     "name": "stderr",
     "output_type": "stream",
     "text": [
      "\r",
      " 20%|████████████████                                                                 | 36/182 [00:22<01:40,  1.46it/s]"
     ]
    },
    {
     "name": "stdout",
     "output_type": "stream",
     "text": [
      " 97% [........................................................................  ] 3661824 / 3746898"
     ]
    },
    {
     "name": "stderr",
     "output_type": "stream",
     "text": [
      "\r",
      " 21%|█████████████████▎                                                               | 39/182 [00:25<01:56,  1.23it/s]"
     ]
    },
    {
     "name": "stdout",
     "output_type": "stream",
     "text": [
      "\r",
      " 97% [........................................................................  ] 3670016 / 3746898\r",
      " 98% [........................................................................  ] 3678208 / 3746898\r",
      " 98% [........................................................................  ] 3686400 / 3746898\r",
      " 98% [........................................................................  ] 3694592 / 3746898\r",
      " 98% [......................................................................... ] 3702784 / 3746898\r",
      " 99% [......................................................................... ] 3710976 / 3746898\r",
      " 99% [......................................................................... ] 3719168 / 3746898\r",
      " 99% [......................................................................... ] 3727360 / 3746898\r",
      " 99% [......................................................................... ] 3735552 / 3746898\r",
      " 99% [......................................................................... ] 3743744 / 3746898\r",
      "100% [..........................................................................] 3746898 / 3746898"
     ]
    },
    {
     "name": "stderr",
     "output_type": "stream",
     "text": [
      "\r",
      " 22%|█████████████████▊                                                               | 40/182 [00:26<01:51,  1.28it/s]"
     ]
    },
    {
     "name": "stdout",
     "output_type": "stream",
     "text": [
      " 28% [.....................                                                       ]  49152 / 170063"
     ]
    },
    {
     "name": "stderr",
     "output_type": "stream",
     "text": [
      "\r",
      " 23%|██████████████████▏                                                              | 41/182 [00:26<01:50,  1.27it/s]"
     ]
    },
    {
     "name": "stdout",
     "output_type": "stream",
     "text": [
      " 26% [...................                                                         ]  57344 / 218924"
     ]
    },
    {
     "name": "stderr",
     "output_type": "stream",
     "text": [
      "\r",
      " 23%|██████████████████▋                                                              | 42/182 [00:27<01:51,  1.25it/s]"
     ]
    },
    {
     "name": "stdout",
     "output_type": "stream",
     "text": [
      " 20% [...............                                                             ]  49152 / 235324"
     ]
    },
    {
     "name": "stderr",
     "output_type": "stream",
     "text": [
      "\r",
      " 24%|███████████████████▏                                                             | 43/182 [00:28<01:51,  1.25it/s]"
     ]
    },
    {
     "name": "stdout",
     "output_type": "stream",
     "text": [
      " 27% [....................                                                        ]  57344 / 208868"
     ]
    },
    {
     "name": "stderr",
     "output_type": "stream",
     "text": [
      "\r",
      " 25%|████████████████████                                                             | 45/182 [00:29<01:28,  1.54it/s]"
     ]
    },
    {
     "name": "stdout",
     "output_type": "stream",
     "text": [
      " 42% [................................                                            ]  65536 / 152420"
     ]
    },
    {
     "name": "stderr",
     "output_type": "stream",
     "text": [
      "\r",
      " 25%|████████████████████▍                                                            | 46/182 [00:30<01:32,  1.47it/s]"
     ]
    },
    {
     "name": "stdout",
     "output_type": "stream",
     "text": [
      " 78% [.............................................................                 ] 73728 / 94206"
     ]
    },
    {
     "name": "stderr",
     "output_type": "stream",
     "text": [
      "\r",
      " 26%|█████████████████████▎                                                           | 48/182 [00:30<01:13,  1.82it/s]"
     ]
    },
    {
     "name": "stdout",
     "output_type": "stream",
     "text": [
      " 66% [...................................................                           ] 57344 / 86329"
     ]
    },
    {
     "name": "stderr",
     "output_type": "stream",
     "text": [
      "\r",
      " 27%|█████████████████████▊                                                           | 49/182 [00:31<01:17,  1.71it/s]"
     ]
    },
    {
     "name": "stdout",
     "output_type": "stream",
     "text": [
      " 46% [...................................                                         ]  65536 / 140559"
     ]
    },
    {
     "name": "stderr",
     "output_type": "stream",
     "text": [
      "\r",
      " 27%|██████████████████████▎                                                          | 50/182 [00:32<01:24,  1.57it/s]"
     ]
    },
    {
     "name": "stdout",
     "output_type": "stream",
     "text": [
      " 33% [.........................                                                   ]  49152 / 146540"
     ]
    },
    {
     "name": "stderr",
     "output_type": "stream",
     "text": [
      "\r",
      " 28%|██████████████████████▋                                                          | 51/182 [00:33<01:29,  1.47it/s]"
     ]
    },
    {
     "name": "stdout",
     "output_type": "stream",
     "text": [
      " 49% [.....................................                                       ]  57344 / 116648"
     ]
    },
    {
     "name": "stderr",
     "output_type": "stream",
     "text": [
      "\r",
      " 29%|███████████████████████▏                                                         | 52/182 [00:33<01:29,  1.44it/s]"
     ]
    },
    {
     "name": "stdout",
     "output_type": "stream",
     "text": [
      "\r",
      " 56% [..........................................                                  ]  65536 / 116648\r",
      " 63% [................................................                            ]  73728 / 116648\r",
      " 70% [.....................................................                       ]  81920 / 116648\r",
      " 77% [..........................................................                  ]  90112 / 116648\r",
      " 84% [................................................................            ]  98304 / 116648\r",
      " 91% [.....................................................................       ] 106496 / 116648\r",
      " 98% [..........................................................................  ] 114688 / 116648\r",
      "100% [............................................................................] 116648 / 116648"
     ]
    },
    {
     "name": "stderr",
     "output_type": "stream",
     "text": [
      "\r",
      " 30%|████████████████████████                                                         | 54/182 [00:34<01:06,  1.94it/s]"
     ]
    },
    {
     "name": "stdout",
     "output_type": "stream",
     "text": [
      " 68% [...................................................                         ] 319488 / 467334"
     ]
    },
    {
     "name": "stderr",
     "output_type": "stream",
     "text": [
      "\r",
      " 30%|████████████████████████▍                                                        | 55/182 [00:35<01:18,  1.62it/s]"
     ]
    },
    {
     "name": "stdout",
     "output_type": "stream",
     "text": [
      " 32% [........................                                                    ]  57344 / 175680"
     ]
    },
    {
     "name": "stderr",
     "output_type": "stream",
     "text": [
      "\r",
      " 31%|█████████████████████████▎                                                       | 57/182 [00:36<01:07,  1.84it/s]"
     ]
    },
    {
     "name": "stdout",
     "output_type": "stream",
     "text": [
      " 24% [..................                                                          ]  49152 / 198894"
     ]
    },
    {
     "name": "stderr",
     "output_type": "stream",
     "text": [
      "\r",
      " 32%|█████████████████████████▊                                                       | 58/182 [00:37<01:16,  1.62it/s]"
     ]
    },
    {
     "name": "stdout",
     "output_type": "stream",
     "text": [
      " 12% [.........                                                                   ]  16384 / 126209"
     ]
    },
    {
     "name": "stderr",
     "output_type": "stream",
     "text": [
      "\r",
      " 32%|██████████████████████████▎                                                      | 59/182 [00:37<01:23,  1.47it/s]"
     ]
    },
    {
     "name": "stdout",
     "output_type": "stream",
     "text": [
      " 41% [...............................                                             ] 245760 / 594893"
     ]
    },
    {
     "name": "stderr",
     "output_type": "stream",
     "text": [
      "\r",
      " 33%|██████████████████████████▋                                                      | 60/182 [00:39<01:35,  1.28it/s]"
     ]
    },
    {
     "name": "stdout",
     "output_type": "stream",
     "text": [
      " 80% [..............................................................                ] 73728 / 91620"
     ]
    },
    {
     "name": "stderr",
     "output_type": "stream",
     "text": [
      "\r",
      " 34%|███████████████████████████▏                                                     | 61/182 [00:39<01:32,  1.30it/s]"
     ]
    },
    {
     "name": "stdout",
     "output_type": "stream",
     "text": [
      " 50% [......................................                                      ]  57344 / 113331"
     ]
    },
    {
     "name": "stderr",
     "output_type": "stream",
     "text": [
      "\r",
      " 34%|███████████████████████████▌                                                     | 62/182 [00:40<01:33,  1.28it/s]"
     ]
    },
    {
     "name": "stdout",
     "output_type": "stream",
     "text": [
      " 91% [...................................................................       ] 1441792 / 1571731"
     ]
    },
    {
     "name": "stderr",
     "output_type": "stream",
     "text": [
      "\r",
      " 35%|████████████████████████████                                                     | 63/182 [00:42<01:59,  1.00s/it]"
     ]
    },
    {
     "name": "stdout",
     "output_type": "stream",
     "text": [
      " 37% [............................                                                ]  57344 / 154340"
     ]
    },
    {
     "name": "stderr",
     "output_type": "stream",
     "text": [
      "\r",
      " 36%|████████████████████████████▉                                                    | 65/182 [00:42<01:25,  1.36it/s]"
     ]
    },
    {
     "name": "stdout",
     "output_type": "stream",
     "text": [
      " 39% [..............................                                              ]  57344 / 144729"
     ]
    },
    {
     "name": "stderr",
     "output_type": "stream",
     "text": [
      "\r",
      " 37%|██████████████████████████████▎                                                  | 68/182 [00:43<00:56,  2.02it/s]"
     ]
    },
    {
     "name": "stdout",
     "output_type": "stream",
     "text": [
      " 18% [..............                                                              ]  57344 / 304245"
     ]
    },
    {
     "name": "stderr",
     "output_type": "stream",
     "text": [
      "\r",
      " 38%|██████████████████████████████▋                                                  | 69/182 [00:44<01:04,  1.75it/s]"
     ]
    },
    {
     "name": "stdout",
     "output_type": "stream",
     "text": [
      " 21% [................                                                            ]  57344 / 268732"
     ]
    },
    {
     "name": "stderr",
     "output_type": "stream",
     "text": [
      "\r",
      " 38%|███████████████████████████████▏                                                 | 70/182 [00:45<01:11,  1.56it/s]"
     ]
    },
    {
     "name": "stdout",
     "output_type": "stream",
     "text": [
      " 31% [.......................                                                     ]  73728 / 234338"
     ]
    },
    {
     "name": "stderr",
     "output_type": "stream",
     "text": [
      "\r",
      " 39%|███████████████████████████████▌                                                 | 71/182 [00:46<01:15,  1.46it/s]"
     ]
    },
    {
     "name": "stdout",
     "output_type": "stream",
     "text": [
      " 89% [...................................................................         ] 352256 / 395187"
     ]
    },
    {
     "name": "stderr",
     "output_type": "stream",
     "text": [
      "\r",
      " 40%|████████████████████████████████                                                 | 72/182 [00:47<01:20,  1.36it/s]"
     ]
    },
    {
     "name": "stdout",
     "output_type": "stream",
     "text": [
      " 20% [...............                                                             ]  57344 / 274019"
     ]
    },
    {
     "name": "stderr",
     "output_type": "stream",
     "text": [
      "\r",
      " 42%|█████████████████████████████████▊                                               | 76/182 [00:48<00:45,  2.33it/s]"
     ]
    },
    {
     "name": "stdout",
     "output_type": "stream",
     "text": [
      " 28% [.....................                                                       ]  57344 / 201696"
     ]
    },
    {
     "name": "stderr",
     "output_type": "stream",
     "text": [
      "\r",
      " 42%|██████████████████████████████████▎                                              | 77/182 [00:48<00:51,  2.02it/s]"
     ]
    },
    {
     "name": "stdout",
     "output_type": "stream",
     "text": [
      " 98% [............................................................................  ] 57344 / 58205"
     ]
    },
    {
     "name": "stderr",
     "output_type": "stream",
     "text": [
      "\r",
      " 43%|███████████████████████████████████▏                                             | 79/182 [00:49<00:45,  2.27it/s]"
     ]
    },
    {
     "name": "stdout",
     "output_type": "stream",
     "text": [
      " 44% [.................................                                           ]  57344 / 129592"
     ]
    },
    {
     "name": "stderr",
     "output_type": "stream",
     "text": [
      "\r",
      " 46%|████████████████████████████████████▉                                            | 83/182 [00:50<00:30,  3.20it/s]"
     ]
    },
    {
     "name": "stdout",
     "output_type": "stream",
     "text": [
      " 77% [...........................................................                 ] 352256 / 453553"
     ]
    },
    {
     "name": "stderr",
     "output_type": "stream",
     "text": [
      "\r",
      " 46%|█████████████████████████████████████▍                                           | 84/182 [00:51<00:40,  2.44it/s]"
     ]
    },
    {
     "name": "stdout",
     "output_type": "stream",
     "text": [
      " 33% [.........................                                                   ]  57344 / 170459"
     ]
    },
    {
     "name": "stderr",
     "output_type": "stream",
     "text": [
      "\r",
      " 47%|█████████████████████████████████████▊                                           | 85/182 [00:52<00:47,  2.05it/s]"
     ]
    },
    {
     "name": "stdout",
     "output_type": "stream",
     "text": [
      " 79% [............................................................                ] 294912 / 369832"
     ]
    },
    {
     "name": "stderr",
     "output_type": "stream",
     "text": [
      "\r",
      " 49%|███████████████████████████████████████▌                                         | 89/182 [00:53<00:34,  2.71it/s]"
     ]
    },
    {
     "name": "stdout",
     "output_type": "stream",
     "text": [
      " 76% [...........................................................                   ] 57344 / 74703"
     ]
    },
    {
     "name": "stderr",
     "output_type": "stream",
     "text": [
      "\r",
      " 49%|████████████████████████████████████████                                         | 90/182 [00:53<00:38,  2.36it/s]"
     ]
    },
    {
     "name": "stdout",
     "output_type": "stream",
     "text": [
      " 48% [.....................................                                       ]  73728 / 150572"
     ]
    },
    {
     "name": "stderr",
     "output_type": "stream",
     "text": [
      "\r",
      " 50%|████████████████████████████████████████▌                                        | 91/182 [00:54<00:45,  2.01it/s]"
     ]
    },
    {
     "name": "stdout",
     "output_type": "stream",
     "text": [
      " 92% [......................................................................      ] 114688 / 123697"
     ]
    },
    {
     "name": "stderr",
     "output_type": "stream",
     "text": [
      "\r",
      " 51%|████████████████████████████████████████▉                                        | 92/182 [00:55<00:48,  1.85it/s]"
     ]
    },
    {
     "name": "stdout",
     "output_type": "stream",
     "text": [
      " 61% [..............................................                              ] 229376 / 372688"
     ]
    },
    {
     "name": "stderr",
     "output_type": "stream",
     "text": [
      "\r",
      " 51%|█████████████████████████████████████████▍                                       | 93/182 [00:56<00:57,  1.56it/s]"
     ]
    },
    {
     "name": "stdout",
     "output_type": "stream",
     "text": [
      " 94% [.....................................................................     ] 3080192 / 3260522"
     ]
    },
    {
     "name": "stderr",
     "output_type": "stream",
     "text": [
      "\r",
      " 52%|█████████████████████████████████████████▊                                       | 94/182 [00:59<01:41,  1.16s/it]"
     ]
    },
    {
     "name": "stdout",
     "output_type": "stream",
     "text": [
      " 77% [...........................................................                 ] 106496 / 136554"
     ]
    },
    {
     "name": "stderr",
     "output_type": "stream",
     "text": [
      "\r",
      " 53%|██████████████████████████████████████████▋                                      | 96/182 [00:59<01:11,  1.20it/s]"
     ]
    },
    {
     "name": "stdout",
     "output_type": "stream",
     "text": [
      " 19% [..............                                                              ]  57344 / 292825"
     ]
    },
    {
     "name": "stderr",
     "output_type": "stream",
     "text": [
      "\r",
      " 53%|███████████████████████████████████████████▏                                     | 97/182 [01:00<01:12,  1.17it/s]"
     ]
    },
    {
     "name": "stdout",
     "output_type": "stream",
     "text": [
      " 55% [.........................................                                   ]  73728 / 133650"
     ]
    },
    {
     "name": "stderr",
     "output_type": "stream",
     "text": [
      "\r",
      " 55%|███████████████████████████████████████████▉                                    | 100/182 [01:01<00:45,  1.80it/s]"
     ]
    },
    {
     "name": "stdout",
     "output_type": "stream",
     "text": [
      " 41% [...............................                                             ]  49152 / 119481"
     ]
    },
    {
     "name": "stderr",
     "output_type": "stream",
     "text": [
      "\r",
      " 56%|████████████████████████████████████████████▊                                   | 102/182 [01:02<00:39,  2.01it/s]"
     ]
    },
    {
     "name": "stdout",
     "output_type": "stream",
     "text": [
      "\r",
      " 47% [....................................                                        ]  57344 / 119481\r",
      " 54% [.........................................                                   ]  65536 / 119481\r",
      " 61% [..............................................                              ]  73728 / 119481\r",
      " 68% [....................................................                        ]  81920 / 119481\r",
      " 75% [.........................................................                   ]  90112 / 119481\r",
      " 82% [..............................................................              ]  98304 / 119481\r",
      " 89% [...................................................................         ] 106496 / 119481\r",
      " 95% [........................................................................    ] 114688 / 119481\r",
      "100% [............................................................................] 119481 / 119481"
     ]
    },
    {
     "name": "stderr",
     "output_type": "stream",
     "text": [
      "\r",
      " 57%|█████████████████████████████████████████████▎                                  | 103/182 [01:02<00:41,  1.92it/s]"
     ]
    },
    {
     "name": "stdout",
     "output_type": "stream",
     "text": [
      " 95% [......................................................................    ] 5824512 / 6071585"
     ]
    },
    {
     "name": "stderr",
     "output_type": "stream",
     "text": [
      "\r",
      " 57%|█████████████████████████████████████████████▋                                  | 104/182 [01:06<01:24,  1.08s/it]"
     ]
    },
    {
     "name": "stdout",
     "output_type": "stream",
     "text": [
      " 39% [..............................                                              ] 106496 / 266591"
     ]
    },
    {
     "name": "stderr",
     "output_type": "stream",
     "text": [
      "\r",
      " 58%|██████████████████████████████████████████████▌                                 | 106/182 [01:06<01:03,  1.20it/s]"
     ]
    },
    {
     "name": "stdout",
     "output_type": "stream",
     "text": [
      " 76% [..........................................................                  ] 327680 / 427354"
     ]
    },
    {
     "name": "stderr",
     "output_type": "stream",
     "text": [
      "\r",
      " 59%|███████████████████████████████████████████████                                 | 107/182 [01:07<01:03,  1.18it/s]"
     ]
    },
    {
     "name": "stdout",
     "output_type": "stream",
     "text": [
      " 37% [............................                                                ] 344064 / 908747"
     ]
    },
    {
     "name": "stderr",
     "output_type": "stream",
     "text": [
      "\r",
      " 59%|███████████████████████████████████████████████▍                                | 108/182 [01:08<01:06,  1.12it/s]"
     ]
    },
    {
     "name": "stdout",
     "output_type": "stream",
     "text": [
      " 50% [......................................                                      ]  65536 / 129251"
     ]
    },
    {
     "name": "stderr",
     "output_type": "stream",
     "text": [
      "\r",
      " 60%|███████████████████████████████████████████████▉                                | 109/182 [01:09<01:02,  1.17it/s]"
     ]
    },
    {
     "name": "stdout",
     "output_type": "stream",
     "text": [
      " 91% [.....................................................................       ] 368640 / 404240"
     ]
    },
    {
     "name": "stderr",
     "output_type": "stream",
     "text": [
      "\r",
      " 60%|████████████████████████████████████████████████▎                               | 110/182 [01:10<01:02,  1.16it/s]"
     ]
    },
    {
     "name": "stdout",
     "output_type": "stream",
     "text": [
      " 30% [.......................                                                     ]  73728 / 242341"
     ]
    },
    {
     "name": "stderr",
     "output_type": "stream",
     "text": [
      "\r",
      " 61%|████████████████████████████████████████████████▊                               | 111/182 [01:11<01:01,  1.16it/s]"
     ]
    },
    {
     "name": "stdout",
     "output_type": "stream",
     "text": [
      " 95% [........................................................................    ] 122880 / 129252"
     ]
    },
    {
     "name": "stderr",
     "output_type": "stream",
     "text": [
      "\r",
      " 62%|█████████████████████████████████████████████████▏                              | 112/182 [01:12<01:01,  1.13it/s]"
     ]
    },
    {
     "name": "stdout",
     "output_type": "stream",
     "text": [
      " 96% [.........................................................................   ] 196608 / 203517"
     ]
    },
    {
     "name": "stderr",
     "output_type": "stream",
     "text": [
      "\r",
      " 62%|█████████████████████████████████████████████████▋                              | 113/182 [01:13<01:06,  1.04it/s]"
     ]
    },
    {
     "name": "stdout",
     "output_type": "stream",
     "text": [
      " 32% [........................                                                    ]  57344 / 178992"
     ]
    },
    {
     "name": "stderr",
     "output_type": "stream",
     "text": [
      "\r",
      " 63%|██████████████████████████████████████████████████                              | 114/182 [01:14<01:04,  1.05it/s]"
     ]
    },
    {
     "name": "stdout",
     "output_type": "stream",
     "text": [
      " 51% [.......................................                                     ]  90112 / 174491"
     ]
    },
    {
     "name": "stderr",
     "output_type": "stream",
     "text": [
      "\r",
      " 63%|██████████████████████████████████████████████████▌                             | 115/182 [01:15<01:01,  1.09it/s]"
     ]
    },
    {
     "name": "stdout",
     "output_type": "stream",
     "text": [
      " 36% [............................                                                ]  73728 / 199373"
     ]
    },
    {
     "name": "stderr",
     "output_type": "stream",
     "text": [
      "\r",
      " 64%|██████████████████████████████████████████████████▉                             | 116/182 [01:15<00:58,  1.13it/s]"
     ]
    },
    {
     "name": "stdout",
     "output_type": "stream",
     "text": [
      " 20% [...............                                                             ]  57344 / 275925"
     ]
    },
    {
     "name": "stderr",
     "output_type": "stream",
     "text": [
      "\r",
      " 64%|███████████████████████████████████████████████████▍                            | 117/182 [01:16<00:56,  1.15it/s]"
     ]
    },
    {
     "name": "stdout",
     "output_type": "stream",
     "text": [
      " 29% [......................                                                      ]  57344 / 196963"
     ]
    },
    {
     "name": "stderr",
     "output_type": "stream",
     "text": [
      "\r",
      " 65%|███████████████████████████████████████████████████▊                            | 118/182 [01:17<00:54,  1.17it/s]"
     ]
    },
    {
     "name": "stdout",
     "output_type": "stream",
     "text": [
      " 33% [.........................                                                   ]  57344 / 169810"
     ]
    },
    {
     "name": "stderr",
     "output_type": "stream",
     "text": [
      "\r",
      " 66%|████████████████████████████████████████████████████▋                           | 120/182 [01:18<00:39,  1.55it/s]"
     ]
    },
    {
     "name": "stdout",
     "output_type": "stream",
     "text": [
      " 30% [.......................                                                     ]  73728 / 243063"
     ]
    },
    {
     "name": "stderr",
     "output_type": "stream",
     "text": [
      "\r",
      " 66%|█████████████████████████████████████████████████████▏                          | 121/182 [01:19<00:42,  1.44it/s]"
     ]
    },
    {
     "name": "stdout",
     "output_type": "stream",
     "text": [
      " 44% [.................................                                           ]  57344 / 129597"
     ]
    },
    {
     "name": "stderr",
     "output_type": "stream",
     "text": [
      "\r",
      " 67%|█████████████████████████████████████████████████████▋                          | 122/182 [01:20<00:42,  1.42it/s]"
     ]
    },
    {
     "name": "stdout",
     "output_type": "stream",
     "text": [
      " 39% [.............................                                               ]  57344 / 145288"
     ]
    },
    {
     "name": "stderr",
     "output_type": "stream",
     "text": [
      "\r",
      " 68%|██████████████████████████████████████████████████████▌                         | 124/182 [01:20<00:32,  1.76it/s]"
     ]
    },
    {
     "name": "stdout",
     "output_type": "stream",
     "text": [
      " 69% [......................................................                        ] 57344 / 82317"
     ]
    },
    {
     "name": "stderr",
     "output_type": "stream",
     "text": [
      "\r",
      " 69%|██████████████████████████████████████████████████████▉                         | 125/182 [01:21<00:34,  1.67it/s]"
     ]
    },
    {
     "name": "stdout",
     "output_type": "stream",
     "text": [
      " 77% [...........................................................                 ] 335872 / 432311"
     ]
    },
    {
     "name": "stderr",
     "output_type": "stream",
     "text": [
      "\r",
      " 69%|███████████████████████████████████████████████████████▍                        | 126/182 [01:22<00:37,  1.48it/s]"
     ]
    },
    {
     "name": "stdout",
     "output_type": "stream",
     "text": [
      " 37% [............................                                                ]  57344 / 153047"
     ]
    },
    {
     "name": "stderr",
     "output_type": "stream",
     "text": [
      "\r",
      " 70%|███████████████████████████████████████████████████████▊                        | 127/182 [01:23<00:38,  1.42it/s]"
     ]
    },
    {
     "name": "stdout",
     "output_type": "stream",
     "text": [
      "\r",
      " 42% [................................                                            ]  65536 / 153047\r",
      " 48% [....................................                                        ]  73728 / 153047\r",
      " 53% [........................................                                    ]  81920 / 153047\r",
      " 58% [............................................                                ]  90112 / 153047\r",
      " 64% [................................................                            ]  98304 / 153047\r",
      " 69% [....................................................                        ] 106496 / 153047\r",
      " 74% [........................................................                    ] 114688 / 153047\r",
      " 80% [.............................................................               ] 122880 / 153047\r",
      " 85% [.................................................................           ] 131072 / 153047\r",
      " 90% [.....................................................................       ] 139264 / 153047\r",
      " 96% [.........................................................................   ] 147456 / 153047\r",
      "100% [............................................................................] 153047 / 153047\r",
      "  0% [                                                                            ]      0 / 107093\r",
      "  7% [.....                                                                       ]   8192 / 107093\r",
      " 15% [...........                                                                 ]  16384 / 107093\r",
      " 22% [.................                                                           ]  24576 / 107093\r",
      " 30% [.......................                                                     ]  32768 / 107093\r",
      " 38% [.............................                                               ]  40960 / 107093"
     ]
    },
    {
     "name": "stderr",
     "output_type": "stream",
     "text": [
      "\r",
      " 70%|████████████████████████████████████████████████████████▎                       | 128/182 [01:23<00:29,  1.84it/s]"
     ]
    },
    {
     "name": "stdout",
     "output_type": "stream",
     "text": [
      " 30% [.......................                                                     ]  57344 / 189432"
     ]
    },
    {
     "name": "stderr",
     "output_type": "stream",
     "text": [
      "\r",
      " 71%|████████████████████████████████████████████████████████▋                       | 129/182 [01:24<00:33,  1.60it/s]"
     ]
    },
    {
     "name": "stdout",
     "output_type": "stream",
     "text": [
      " 27% [.....................                                                       ]  90112 / 325159"
     ]
    },
    {
     "name": "stderr",
     "output_type": "stream",
     "text": [
      "\r",
      " 71%|█████████████████████████████████████████████████████████▏                      | 130/182 [01:25<00:36,  1.42it/s]"
     ]
    },
    {
     "name": "stdout",
     "output_type": "stream",
     "text": [
      " 72% [.......................................................                     ] 139264 / 192431"
     ]
    },
    {
     "name": "stderr",
     "output_type": "stream",
     "text": [
      "\r",
      " 73%|██████████████████████████████████████████████████████████                      | 132/182 [01:26<00:34,  1.47it/s]"
     ]
    },
    {
     "name": "stdout",
     "output_type": "stream",
     "text": [
      " 28% [.....................                                                       ]  57344 / 198494"
     ]
    },
    {
     "name": "stderr",
     "output_type": "stream",
     "text": [
      "\r",
      " 73%|██████████████████████████████████████████████████████████▍                     | 133/182 [01:27<00:34,  1.41it/s]"
     ]
    },
    {
     "name": "stdout",
     "output_type": "stream",
     "text": [
      " 20% [...............                                                             ]  57344 / 278650"
     ]
    },
    {
     "name": "stderr",
     "output_type": "stream",
     "text": [
      "\r",
      " 74%|███████████████████████████████████████████████████████████▎                    | 135/182 [01:27<00:27,  1.70it/s]"
     ]
    },
    {
     "name": "stdout",
     "output_type": "stream",
     "text": [
      " 48% [.....................................                                       ]  57344 / 117125"
     ]
    },
    {
     "name": "stderr",
     "output_type": "stream",
     "text": [
      "\r",
      " 75%|███████████████████████████████████████████████████████████▊                    | 136/182 [01:28<00:29,  1.55it/s]"
     ]
    },
    {
     "name": "stdout",
     "output_type": "stream",
     "text": [
      " 97% [..........................................................................  ] 368640 / 377297"
     ]
    },
    {
     "name": "stderr",
     "output_type": "stream",
     "text": [
      "\r",
      " 76%|████████████████████████████████████████████████████████████▋                   | 138/182 [01:29<00:25,  1.74it/s]"
     ]
    },
    {
     "name": "stdout",
     "output_type": "stream",
     "text": [
      " 73% [.......................................................                     ] 335872 / 455884"
     ]
    },
    {
     "name": "stderr",
     "output_type": "stream",
     "text": [
      "\r",
      " 76%|█████████████████████████████████████████████████████████████                   | 139/182 [01:30<00:27,  1.54it/s]"
     ]
    },
    {
     "name": "stdout",
     "output_type": "stream",
     "text": [
      "\r",
      " 75% [.........................................................                   ] 344064 / 455884\r",
      " 77% [..........................................................                  ] 352256 / 455884\r",
      " 79% [............................................................                ] 360448 / 455884\r",
      " 80% [.............................................................               ] 368640 / 455884\r",
      " 82% [..............................................................              ] 376832 / 455884\r",
      " 84% [................................................................            ] 385024 / 455884\r",
      " 86% [.................................................................           ] 393216 / 455884\r",
      " 88% [..................................................................          ] 401408 / 455884\r",
      " 89% [....................................................................        ] 409600 / 455884\r",
      " 91% [.....................................................................       ] 417792 / 455884\r",
      " 93% [.......................................................................     ] 425984 / 455884\r",
      " 95% [........................................................................    ] 434176 / 455884\r",
      " 97% [.........................................................................   ] 442368 / 455884\r",
      " 98% [........................................................................... ] 450560 / 455884\r",
      "100% [............................................................................] 455884 / 455884"
     ]
    },
    {
     "name": "stderr",
     "output_type": "stream",
     "text": [
      "\r",
      " 77%|█████████████████████████████████████████████████████████████▌                  | 140/182 [01:31<00:27,  1.52it/s]"
     ]
    },
    {
     "name": "stdout",
     "output_type": "stream",
     "text": [
      " 33% [.........................                                                   ]  57344 / 169426"
     ]
    },
    {
     "name": "stderr",
     "output_type": "stream",
     "text": [
      "\r",
      " 77%|█████████████████████████████████████████████████████████████▉                  | 141/182 [01:32<00:28,  1.42it/s]"
     ]
    },
    {
     "name": "stdout",
     "output_type": "stream",
     "text": [
      "100% [............................................................................] 684531 / 684531"
     ]
    },
    {
     "name": "stderr",
     "output_type": "stream",
     "text": [
      "\r",
      " 78%|██████████████████████████████████████████████████████████████▍                 | 142/182 [01:33<00:31,  1.25it/s]"
     ]
    },
    {
     "name": "stdout",
     "output_type": "stream",
     "text": [
      "\r",
      "  0% [                                                                            ]      0 / 121991\r",
      "  6% [.....                                                                       ]   8192 / 121991\r",
      " 13% [..........                                                                  ]  16384 / 121991\r",
      " 20% [...............                                                             ]  24576 / 121991\r",
      " 26% [....................                                                        ]  32768 / 121991\r",
      " 33% [.........................                                                   ]  40960 / 121991\r",
      " 40% [..............................                                              ]  49152 / 121991\r",
      " 47% [...................................                                         ]  57344 / 121991\r",
      " 53% [........................................                                    ]  65536 / 121991"
     ]
    },
    {
     "name": "stderr",
     "output_type": "stream",
     "text": [
      "\r",
      " 79%|██████████████████████████████████████████████████████████████▊                 | 143/182 [01:34<00:31,  1.25it/s]"
     ]
    },
    {
     "name": "stdout",
     "output_type": "stream",
     "text": [
      " 98% [........................................................................  ] 2818048 / 2859413"
     ]
    },
    {
     "name": "stderr",
     "output_type": "stream",
     "text": [
      "\r",
      " 79%|███████████████████████████████████████████████████████████████▎                | 144/182 [01:36<00:46,  1.22s/it]"
     ]
    },
    {
     "name": "stdout",
     "output_type": "stream",
     "text": [
      " 32% [........................                                                    ]  73728 / 224759"
     ]
    },
    {
     "name": "stderr",
     "output_type": "stream",
     "text": [
      "\r",
      " 80%|███████████████████████████████████████████████████████████████▋                | 145/182 [01:37<00:40,  1.09s/it]"
     ]
    },
    {
     "name": "stdout",
     "output_type": "stream",
     "text": [
      " 62% [...............................................                             ]  90112 / 144804"
     ]
    },
    {
     "name": "stderr",
     "output_type": "stream",
     "text": [
      "\r",
      " 80%|████████████████████████████████████████████████████████████████▏               | 146/182 [01:37<00:35,  1.03it/s]"
     ]
    },
    {
     "name": "stdout",
     "output_type": "stream",
     "text": [
      " 29% [......................                                                      ]  57344 / 192134"
     ]
    },
    {
     "name": "stderr",
     "output_type": "stream",
     "text": [
      "\r",
      " 81%|████████████████████████████████████████████████████████████████▌               | 147/182 [01:38<00:32,  1.08it/s]"
     ]
    },
    {
     "name": "stdout",
     "output_type": "stream",
     "text": [
      " 45% [..................................                                          ]  57344 / 127174"
     ]
    },
    {
     "name": "stderr",
     "output_type": "stream",
     "text": [
      "\r",
      " 82%|█████████████████████████████████████████████████████████████████▍              | 149/182 [01:39<00:22,  1.50it/s]"
     ]
    },
    {
     "name": "stdout",
     "output_type": "stream",
     "text": [
      "\r",
      " 51% [.......................................                                     ]  65536 / 127174\r",
      " 57% [............................................                                ]  73728 / 127174\r",
      " 64% [................................................                            ]  81920 / 127174\r",
      " 70% [.....................................................                       ]  90112 / 127174\r",
      " 77% [..........................................................                  ]  98304 / 127174\r",
      " 83% [...............................................................             ] 106496 / 127174\r",
      " 90% [....................................................................        ] 114688 / 127174\r",
      " 96% [.........................................................................   ] 122880 / 127174\r",
      "100% [............................................................................] 127174 / 127174"
     ]
    },
    {
     "name": "stderr",
     "output_type": "stream",
     "text": [
      "\r",
      " 82%|█████████████████████████████████████████████████████████████████▉              | 150/182 [01:39<00:19,  1.68it/s]"
     ]
    },
    {
     "name": "stdout",
     "output_type": "stream",
     "text": [
      " 44% [.................................                                           ]  49152 / 111394"
     ]
    },
    {
     "name": "stderr",
     "output_type": "stream",
     "text": [
      "\r",
      " 83%|██████████████████████████████████████████████████████████████████▎             | 151/182 [01:40<00:19,  1.57it/s]"
     ]
    },
    {
     "name": "stdout",
     "output_type": "stream",
     "text": [
      " 35% [..........................                                                  ]  57344 / 161827"
     ]
    },
    {
     "name": "stderr",
     "output_type": "stream",
     "text": [
      "\r",
      " 84%|██████████████████████████████████████████████████████████████████▊             | 152/182 [01:41<00:20,  1.47it/s]"
     ]
    },
    {
     "name": "stdout",
     "output_type": "stream",
     "text": [
      " 53% [........................................                                    ]  73728 / 137982"
     ]
    },
    {
     "name": "stderr",
     "output_type": "stream",
     "text": [
      "\r",
      " 86%|█████████████████████████████████████████████████████████████████████           | 157/182 [01:42<00:08,  2.98it/s]"
     ]
    },
    {
     "name": "stdout",
     "output_type": "stream",
     "text": [
      " 86% [.................................................................           ] 311296 / 358828"
     ]
    },
    {
     "name": "stderr",
     "output_type": "stream",
     "text": [
      "\r",
      " 87%|█████████████████████████████████████████████████████████████████████▉          | 159/182 [01:42<00:08,  2.72it/s]"
     ]
    },
    {
     "name": "stdout",
     "output_type": "stream",
     "text": [
      " 75% [.........................................................                   ]  90112 / 119097"
     ]
    },
    {
     "name": "stderr",
     "output_type": "stream",
     "text": [
      "\r",
      " 88%|██████████████████████████████████████████████████████████████████████▎         | 160/182 [01:43<00:09,  2.33it/s]"
     ]
    },
    {
     "name": "stdout",
     "output_type": "stream",
     "text": [
      " 41% [...............................                                             ]  57344 / 139318"
     ]
    },
    {
     "name": "stderr",
     "output_type": "stream",
     "text": [
      "\r",
      " 89%|███████████████████████████████████████████████████████████████████████▏        | 162/182 [01:44<00:08,  2.36it/s]"
     ]
    },
    {
     "name": "stdout",
     "output_type": "stream",
     "text": [
      "100% [............................................................................] 368242 / 368242"
     ]
    },
    {
     "name": "stderr",
     "output_type": "stream",
     "text": [
      "\r",
      " 91%|████████████████████████████████████████████████████████████████████████▉       | 166/182 [01:45<00:05,  3.03it/s]"
     ]
    },
    {
     "name": "stdout",
     "output_type": "stream",
     "text": [
      "\r",
      "  0% [                                                                            ]      0 / 114537\r",
      "  7% [.....                                                                       ]   8192 / 114537\r",
      " 14% [..........                                                                  ]  16384 / 114537\r",
      " 21% [................                                                            ]  24576 / 114537\r",
      " 28% [.....................                                                       ]  32768 / 114537\r",
      " 35% [...........................                                                 ]  40960 / 114537\r",
      " 42% [................................                                            ]  49152 / 114537\r",
      " 50% [......................................                                      ]  57344 / 114537"
     ]
    },
    {
     "name": "stderr",
     "output_type": "stream",
     "text": [
      "\r",
      " 93%|██████████████████████████████████████████████████████████████████████████▎     | 169/182 [01:46<00:03,  3.32it/s]"
     ]
    },
    {
     "name": "stdout",
     "output_type": "stream",
     "text": [
      " 89% [..................................................................        ] 1875968 / 2100049"
     ]
    },
    {
     "name": "stderr",
     "output_type": "stream",
     "text": [
      "\r",
      " 93%|██████████████████████████████████████████████████████████████████████████▋     | 170/182 [01:47<00:06,  2.00it/s]"
     ]
    },
    {
     "name": "stdout",
     "output_type": "stream",
     "text": [
      " 30% [......................                                                      ]  57344 / 189827"
     ]
    },
    {
     "name": "stderr",
     "output_type": "stream",
     "text": [
      "\r",
      " 95%|███████████████████████████████████████████████████████████████████████████▌    | 172/182 [01:48<00:04,  2.12it/s]"
     ]
    },
    {
     "name": "stdout",
     "output_type": "stream",
     "text": [
      " 38% [.............................                                               ]  57344 / 149181"
     ]
    },
    {
     "name": "stderr",
     "output_type": "stream",
     "text": [
      "\r",
      " 96%|████████████████████████████████████████████████████████████████████████████▍   | 174/182 [01:49<00:03,  2.22it/s]"
     ]
    },
    {
     "name": "stdout",
     "output_type": "stream",
     "text": [
      " 31% [.......................                                                     ]  57344 / 184598"
     ]
    },
    {
     "name": "stderr",
     "output_type": "stream",
     "text": [
      "\r",
      " 96%|████████████████████████████████████████████████████████████████████████████▉   | 175/182 [01:50<00:03,  1.95it/s]"
     ]
    },
    {
     "name": "stdout",
     "output_type": "stream",
     "text": [
      " 46% [..................................                                          ]  73728 / 160244"
     ]
    },
    {
     "name": "stderr",
     "output_type": "stream",
     "text": [
      "\r",
      " 97%|█████████████████████████████████████████████████████████████████████████████▊  | 177/182 [01:51<00:02,  2.07it/s]"
     ]
    },
    {
     "name": "stdout",
     "output_type": "stream",
     "text": [
      " 47% [....................................                                        ] 319488 / 672193"
     ]
    },
    {
     "name": "stderr",
     "output_type": "stream",
     "text": [
      "\r",
      " 98%|██████████████████████████████████████████████████████████████████████████████▋ | 179/182 [01:52<00:01,  2.03it/s]"
     ]
    },
    {
     "name": "stdout",
     "output_type": "stream",
     "text": [
      " 25% [...................                                                         ]  73728 / 284824"
     ]
    },
    {
     "name": "stderr",
     "output_type": "stream",
     "text": [
      "\r",
      " 99%|███████████████████████████████████████████████████████████████████████████████ | 180/182 [01:53<00:01,  1.79it/s]"
     ]
    },
    {
     "name": "stdout",
     "output_type": "stream",
     "text": [
      " 29% [......................                                                      ]  57344 / 196571"
     ]
    },
    {
     "name": "stderr",
     "output_type": "stream",
     "text": [
      "100%|████████████████████████████████████████████████████████████████████████████████| 182/182 [01:53<00:00,  1.60it/s]"
     ]
    },
    {
     "name": "stdout",
     "output_type": "stream",
     "text": [
      "\r",
      " 33% [.........................                                                   ]  65536 / 196571\r",
      " 37% [............................                                                ]  73728 / 196571\r",
      " 41% [...............................                                             ]  81920 / 196571\r",
      " 45% [..................................                                          ]  90112 / 196571\r",
      " 50% [......................................                                      ]  98304 / 196571\r",
      " 54% [.........................................                                   ] 106496 / 196571\r",
      " 58% [............................................                                ] 114688 / 196571\r",
      " 62% [...............................................                             ] 122880 / 196571\r",
      " 66% [..................................................                          ] 131072 / 196571\r",
      " 70% [.....................................................                       ] 139264 / 196571\r",
      " 75% [.........................................................                   ] 147456 / 196571\r",
      " 79% [............................................................                ] 155648 / 196571\r",
      " 83% [...............................................................             ] 163840 / 196571\r",
      " 87% [..................................................................          ] 172032 / 196571\r",
      " 91% [.....................................................................       ] 180224 / 196571\r",
      " 95% [........................................................................    ] 188416 / 196571\r",
      "100% [............................................................................] 196571 / 196571"
     ]
    },
    {
     "name": "stderr",
     "output_type": "stream",
     "text": [
      "\n"
     ]
    }
   ],
   "source": [
    "import wget \n",
    "\n",
    "for country in tqdm(data):\n",
    "    if data[country] is not None:\n",
    "        filename = wget.download(data[country], \"GD2021/\" + country + \".pdf\")"
   ]
  },
  {
   "cell_type": "code",
   "execution_count": 26,
   "id": "aea6dc18",
   "metadata": {},
   "outputs": [
    {
     "name": "stderr",
     "output_type": "stream",
     "text": [
      "100%|████████████████████████████████████████████████████████████████████████████████| 182/182 [00:59<00:00,  3.06it/s]\n"
     ]
    }
   ],
   "source": [
    "from pdfminer.high_level import extract_text\n",
    "\n",
    "texts = dict()\n",
    "\n",
    "for country in tqdm(data):\n",
    "    if data[country] is not None:\n",
    "        texts[country] = extract_text('GD2021/' + country + '.pdf')"
   ]
  },
  {
   "cell_type": "code",
   "execution_count": 55,
   "id": "5a539980",
   "metadata": {},
   "outputs": [],
   "source": [
    "import re\n",
    "\n",
    "def clear_text(text):\n",
    "    text_tmp = re.sub(r\"\\b\\d{1,2}\\b|(\\n)|[\\x00-\\x08\\x0b\\x0c\\x0e-\\x1f\\x7f-\\xff]+\", \"\", text)\n",
    "    begin_with = text_tmp.find('President')\n",
    "#    print(begin_with/(len(text_tmp)+1))\n",
    "    return text_tmp[begin_with:]"
   ]
  },
  {
   "cell_type": "code",
   "execution_count": 56,
   "id": "74d6ca46",
   "metadata": {},
   "outputs": [],
   "source": [
    "texts_values = list(texts.values())\n",
    "preprocessed_texts = [clear_text(texts_values[i]) for i in range(len(texts_values))]"
   ]
  },
  {
   "cell_type": "code",
   "execution_count": 46,
   "id": "3935de89",
   "metadata": {},
   "outputs": [
    {
     "data": {
      "text/plain": [
       "(0.6813186813186813, 0.6887755102040817)"
      ]
     },
     "execution_count": 46,
     "metadata": {},
     "output_type": "execute_result"
    }
   ],
   "source": [
    "124/182, 135/196"
   ]
  },
  {
   "cell_type": "code",
   "execution_count": 31,
   "id": "3336b3f0",
   "metadata": {},
   "outputs": [
    {
     "data": {
      "text/html": [
       "<div>\n",
       "<style scoped>\n",
       "    .dataframe tbody tr th:only-of-type {\n",
       "        vertical-align: middle;\n",
       "    }\n",
       "\n",
       "    .dataframe tbody tr th {\n",
       "        vertical-align: top;\n",
       "    }\n",
       "\n",
       "    .dataframe thead th {\n",
       "        text-align: right;\n",
       "    }\n",
       "</style>\n",
       "<table border=\"1\" class=\"dataframe\">\n",
       "  <thead>\n",
       "    <tr style=\"text-align: right;\">\n",
       "      <th></th>\n",
       "      <th>Speech</th>\n",
       "      <th>Country or Area</th>\n",
       "    </tr>\n",
       "  </thead>\n",
       "  <tbody>\n",
       "    <tr>\n",
       "      <th>0</th>\n",
       "      <td>President of the Federative Republic of Brazil...</td>\n",
       "      <td>Brazil</td>\n",
       "    </tr>\n",
       "    <tr>\n",
       "      <th>1</th>\n",
       "      <td>President of the Republic of Maldives, at the ...</td>\n",
       "      <td>Maldives</td>\n",
       "    </tr>\n",
       "    <tr>\n",
       "      <th>2</th>\n",
       "      <td>President of Slovakia | September , 2021 Dear ...</td>\n",
       "      <td>Slovakia</td>\n",
       "    </tr>\n",
       "    <tr>\n",
       "      <th>3</th>\n",
       "      <td></td>\n",
       "      <td>Portugal</td>\n",
       "    </tr>\n",
       "    <tr>\n",
       "      <th>4</th>\n",
       "      <td>President of the Republic of Lithuania Gitanas...</td>\n",
       "      <td>Lithuania</td>\n",
       "    </tr>\n",
       "    <tr>\n",
       "      <th>...</th>\n",
       "      <td>...</td>\n",
       "      <td>...</td>\n",
       "    </tr>\n",
       "    <tr>\n",
       "      <th>119</th>\n",
       "      <td>President, It is an honour to address this aug...</td>\n",
       "      <td>Trinidad and Tobago</td>\n",
       "    </tr>\n",
       "    <tr>\n",
       "      <th>120</th>\n",
       "      <td>President, Mr. Secretary General,   Excellenci...</td>\n",
       "      <td>Nepal</td>\n",
       "    </tr>\n",
       "    <tr>\n",
       "      <th>121</th>\n",
       "      <td>President of the General Assembly, Excellencie...</td>\n",
       "      <td>Canada</td>\n",
       "    </tr>\n",
       "    <tr>\n",
       "      <th>122</th>\n",
       "      <td>President, Mr. Secretary General, Distinguishe...</td>\n",
       "      <td>Democratic People's Republic of Korea</td>\n",
       "    </tr>\n",
       "    <tr>\n",
       "      <th>123</th>\n",
       "      <td>President of the United Nations General Assemb...</td>\n",
       "      <td>Timor-Leste</td>\n",
       "    </tr>\n",
       "  </tbody>\n",
       "</table>\n",
       "<p>124 rows × 2 columns</p>\n",
       "</div>"
      ],
      "text/plain": [
       "                                                Speech  \\\n",
       "0    President of the Federative Republic of Brazil...   \n",
       "1    President of the Republic of Maldives, at the ...   \n",
       "2    President of Slovakia | September , 2021 Dear ...   \n",
       "3                                                        \n",
       "4    President of the Republic of Lithuania Gitanas...   \n",
       "..                                                 ...   \n",
       "119  President, It is an honour to address this aug...   \n",
       "120  President, Mr. Secretary General,   Excellenci...   \n",
       "121  President of the General Assembly, Excellencie...   \n",
       "122  President, Mr. Secretary General, Distinguishe...   \n",
       "123  President of the United Nations General Assemb...   \n",
       "\n",
       "                           Country or Area  \n",
       "0                                   Brazil  \n",
       "1                                 Maldives  \n",
       "2                                 Slovakia  \n",
       "3                                 Portugal  \n",
       "4                                Lithuania  \n",
       "..                                     ...  \n",
       "119                    Trinidad and Tobago  \n",
       "120                                  Nepal  \n",
       "121                                 Canada  \n",
       "122  Democratic People's Republic of Korea  \n",
       "123                            Timor-Leste  \n",
       "\n",
       "[124 rows x 2 columns]"
      ]
     },
     "execution_count": 31,
     "metadata": {},
     "output_type": "execute_result"
    }
   ],
   "source": [
    "import numpy as np\n",
    "speeches_21 = pd.DataFrame(np.array([preprocessed_texts, list(texts.keys())]).T, columns=['Speech', 'Country or Area'])\n",
    "speeches_21"
   ]
  },
  {
   "cell_type": "code",
   "execution_count": null,
   "id": "20185dc3",
   "metadata": {},
   "outputs": [],
   "source": [
    "124"
   ]
  },
  {
   "cell_type": "code",
   "execution_count": 44,
   "id": "5f905176",
   "metadata": {},
   "outputs": [
    {
     "data": {
      "text/html": [
       "<div>\n",
       "<style scoped>\n",
       "    .dataframe tbody tr th:only-of-type {\n",
       "        vertical-align: middle;\n",
       "    }\n",
       "\n",
       "    .dataframe tbody tr th {\n",
       "        vertical-align: top;\n",
       "    }\n",
       "\n",
       "    .dataframe thead th {\n",
       "        text-align: right;\n",
       "    }\n",
       "</style>\n",
       "<table border=\"1\" class=\"dataframe\">\n",
       "  <thead>\n",
       "    <tr style=\"text-align: right;\">\n",
       "      <th></th>\n",
       "      <th>Speech</th>\n",
       "      <th>Country or Area</th>\n",
       "    </tr>\n",
       "  </thead>\n",
       "  <tbody>\n",
       "    <tr>\n",
       "      <th>0</th>\n",
       "      <td>President of the Federative Republic of Brazil...</td>\n",
       "      <td>Brazil</td>\n",
       "    </tr>\n",
       "    <tr>\n",
       "      <th>1</th>\n",
       "      <td>President of the Republic of Maldives, at the ...</td>\n",
       "      <td>Maldives</td>\n",
       "    </tr>\n",
       "    <tr>\n",
       "      <th>2</th>\n",
       "      <td>President of Slovakia | September , 2021 Dear ...</td>\n",
       "      <td>Slovakia</td>\n",
       "    </tr>\n",
       "    <tr>\n",
       "      <th>4</th>\n",
       "      <td>President of the Republic of Lithuania Gitanas...</td>\n",
       "      <td>Lithuania</td>\n",
       "    </tr>\n",
       "    <tr>\n",
       "      <th>5</th>\n",
       "      <td>President of the Republic of Uzbekistan at the...</td>\n",
       "      <td>Uzbekistan</td>\n",
       "    </tr>\n",
       "    <tr>\n",
       "      <th>...</th>\n",
       "      <td>...</td>\n",
       "      <td>...</td>\n",
       "    </tr>\n",
       "    <tr>\n",
       "      <th>119</th>\n",
       "      <td>President, It is an honour to address this aug...</td>\n",
       "      <td>Trinidad and Tobago</td>\n",
       "    </tr>\n",
       "    <tr>\n",
       "      <th>120</th>\n",
       "      <td>President, Mr. Secretary General,   Excellenci...</td>\n",
       "      <td>Nepal</td>\n",
       "    </tr>\n",
       "    <tr>\n",
       "      <th>121</th>\n",
       "      <td>President of the General Assembly, Excellencie...</td>\n",
       "      <td>Canada</td>\n",
       "    </tr>\n",
       "    <tr>\n",
       "      <th>122</th>\n",
       "      <td>President, Mr. Secretary General, Distinguishe...</td>\n",
       "      <td>Democratic People's Republic of Korea</td>\n",
       "    </tr>\n",
       "    <tr>\n",
       "      <th>123</th>\n",
       "      <td>President of the United Nations General Assemb...</td>\n",
       "      <td>Timor-Leste</td>\n",
       "    </tr>\n",
       "  </tbody>\n",
       "</table>\n",
       "<p>115 rows × 2 columns</p>\n",
       "</div>"
      ],
      "text/plain": [
       "                                                Speech  \\\n",
       "0    President of the Federative Republic of Brazil...   \n",
       "1    President of the Republic of Maldives, at the ...   \n",
       "2    President of Slovakia | September , 2021 Dear ...   \n",
       "4    President of the Republic of Lithuania Gitanas...   \n",
       "5    President of the Republic of Uzbekistan at the...   \n",
       "..                                                 ...   \n",
       "119  President, It is an honour to address this aug...   \n",
       "120  President, Mr. Secretary General,   Excellenci...   \n",
       "121  President of the General Assembly, Excellencie...   \n",
       "122  President, Mr. Secretary General, Distinguishe...   \n",
       "123  President of the United Nations General Assemb...   \n",
       "\n",
       "                           Country or Area  \n",
       "0                                   Brazil  \n",
       "1                                 Maldives  \n",
       "2                                 Slovakia  \n",
       "4                                Lithuania  \n",
       "5                               Uzbekistan  \n",
       "..                                     ...  \n",
       "119                    Trinidad and Tobago  \n",
       "120                                  Nepal  \n",
       "121                                 Canada  \n",
       "122  Democratic People's Republic of Korea  \n",
       "123                            Timor-Leste  \n",
       "\n",
       "[115 rows x 2 columns]"
      ]
     },
     "execution_count": 44,
     "metadata": {},
     "output_type": "execute_result"
    }
   ],
   "source": [
    "speeches_21[speeches_21[\"Speech\"] != \"\"]"
   ]
  },
  {
   "cell_type": "code",
   "execution_count": 32,
   "id": "ef263065",
   "metadata": {},
   "outputs": [],
   "source": [
    "df_codes = pd.read_csv('UNSD — Methodology.csv', sep=\";\") # .dropna(axis=1)\n",
    "df_codes_t = df_codes[['Country or Area', 'ISO-alpha3 Code']]"
   ]
  },
  {
   "cell_type": "code",
   "execution_count": 36,
   "id": "ee31faaf",
   "metadata": {},
   "outputs": [],
   "source": [
    "pd.merge(left=df_codes_t, right=speeches_21).join(pd.DataFrame([2021 for i in range(127)], columns=['Year']))[['Year', 'ISO-alpha3 Code', 'Country or Area', 'Speech']].to_csv('GD_21_preprocessed.csv')"
   ]
  },
  {
   "cell_type": "code",
   "execution_count": 38,
   "id": "1ef951eb",
   "metadata": {},
   "outputs": [
    {
     "data": {
      "text/html": [
       "<div>\n",
       "<style scoped>\n",
       "    .dataframe tbody tr th:only-of-type {\n",
       "        vertical-align: middle;\n",
       "    }\n",
       "\n",
       "    .dataframe tbody tr th {\n",
       "        vertical-align: top;\n",
       "    }\n",
       "\n",
       "    .dataframe thead th {\n",
       "        text-align: right;\n",
       "    }\n",
       "</style>\n",
       "<table border=\"1\" class=\"dataframe\">\n",
       "  <thead>\n",
       "    <tr style=\"text-align: right;\">\n",
       "      <th></th>\n",
       "      <th>Unnamed: 0</th>\n",
       "      <th>Year</th>\n",
       "      <th>ISO-alpha3 Code</th>\n",
       "      <th>Country or Area</th>\n",
       "      <th>Speech</th>\n",
       "    </tr>\n",
       "  </thead>\n",
       "  <tbody>\n",
       "    <tr>\n",
       "      <th>0</th>\n",
       "      <td>0</td>\n",
       "      <td>2021</td>\n",
       "      <td>ERI</td>\n",
       "      <td>Eritrea</td>\n",
       "      <td>President of the General Assembly; Your Excell...</td>\n",
       "    </tr>\n",
       "    <tr>\n",
       "      <th>1</th>\n",
       "      <td>1</td>\n",
       "      <td>2021</td>\n",
       "      <td>ETH</td>\n",
       "      <td>Ethiopia</td>\n",
       "      <td>President, Allow me to start by congratulating...</td>\n",
       "    </tr>\n",
       "    <tr>\n",
       "      <th>2</th>\n",
       "      <td>2</td>\n",
       "      <td>2021</td>\n",
       "      <td>KEN</td>\n",
       "      <td>Kenya</td>\n",
       "      <td>President of the 76th Session of the General A...</td>\n",
       "    </tr>\n",
       "    <tr>\n",
       "      <th>3</th>\n",
       "      <td>3</td>\n",
       "      <td>2021</td>\n",
       "      <td>MWI</td>\n",
       "      <td>Malawi</td>\n",
       "      <td>President  of  the  76th  Session  of  the  Ge...</td>\n",
       "    </tr>\n",
       "    <tr>\n",
       "      <th>4</th>\n",
       "      <td>4</td>\n",
       "      <td>2021</td>\n",
       "      <td>MUS</td>\n",
       "      <td>Mauritius</td>\n",
       "      <td>President of the General Assembly, Secretary G...</td>\n",
       "    </tr>\n",
       "    <tr>\n",
       "      <th>...</th>\n",
       "      <td>...</td>\n",
       "      <td>...</td>\n",
       "      <td>...</td>\n",
       "      <td>...</td>\n",
       "      <td>...</td>\n",
       "    </tr>\n",
       "    <tr>\n",
       "      <th>117</th>\n",
       "      <td>117</td>\n",
       "      <td>2021</td>\n",
       "      <td>NRU</td>\n",
       "      <td>Nauru</td>\n",
       "      <td>President of the Republic of Nauru United Nati...</td>\n",
       "    </tr>\n",
       "    <tr>\n",
       "      <th>118</th>\n",
       "      <td>118</td>\n",
       "      <td>2021</td>\n",
       "      <td>PLW</td>\n",
       "      <td>Palau</td>\n",
       "      <td>President of the Republic of Palau General Deb...</td>\n",
       "    </tr>\n",
       "    <tr>\n",
       "      <th>119</th>\n",
       "      <td>119</td>\n",
       "      <td>2021</td>\n",
       "      <td>WSM</td>\n",
       "      <td>Samoa</td>\n",
       "      <td>NaN</td>\n",
       "    </tr>\n",
       "    <tr>\n",
       "      <th>120</th>\n",
       "      <td>120</td>\n",
       "      <td>2021</td>\n",
       "      <td>TON</td>\n",
       "      <td>Tonga</td>\n",
       "      <td>President,\\tIt’s\\tbeen\\tover\\ta\\tyear\\tand\\ta\\...</td>\n",
       "    </tr>\n",
       "    <tr>\n",
       "      <th>121</th>\n",
       "      <td>121</td>\n",
       "      <td>2021</td>\n",
       "      <td>TUV</td>\n",
       "      <td>Tuvalu</td>\n",
       "      <td>President, Distinguished Members of the Genera...</td>\n",
       "    </tr>\n",
       "  </tbody>\n",
       "</table>\n",
       "<p>122 rows × 5 columns</p>\n",
       "</div>"
      ],
      "text/plain": [
       "     Unnamed: 0  Year ISO-alpha3 Code Country or Area  \\\n",
       "0             0  2021             ERI         Eritrea   \n",
       "1             1  2021             ETH        Ethiopia   \n",
       "2             2  2021             KEN           Kenya   \n",
       "3             3  2021             MWI          Malawi   \n",
       "4             4  2021             MUS       Mauritius   \n",
       "..          ...   ...             ...             ...   \n",
       "117         117  2021             NRU           Nauru   \n",
       "118         118  2021             PLW           Palau   \n",
       "119         119  2021             WSM           Samoa   \n",
       "120         120  2021             TON           Tonga   \n",
       "121         121  2021             TUV          Tuvalu   \n",
       "\n",
       "                                                Speech  \n",
       "0    President of the General Assembly; Your Excell...  \n",
       "1    President, Allow me to start by congratulating...  \n",
       "2    President of the 76th Session of the General A...  \n",
       "3    President  of  the  76th  Session  of  the  Ge...  \n",
       "4    President of the General Assembly, Secretary G...  \n",
       "..                                                 ...  \n",
       "117  President of the Republic of Nauru United Nati...  \n",
       "118  President of the Republic of Palau General Deb...  \n",
       "119                                                NaN  \n",
       "120  President,\\tIt’s\\tbeen\\tover\\ta\\tyear\\tand\\ta\\...  \n",
       "121  President, Distinguished Members of the Genera...  \n",
       "\n",
       "[122 rows x 5 columns]"
      ]
     },
     "execution_count": 38,
     "metadata": {},
     "output_type": "execute_result"
    }
   ],
   "source": [
    "pd.read_csv('GD_21_preprocessed.csv')"
   ]
  },
  {
   "cell_type": "code",
   "execution_count": null,
   "id": "0e371279",
   "metadata": {},
   "outputs": [],
   "source": []
  },
  {
   "cell_type": "code",
   "execution_count": null,
   "id": "6871dbe6",
   "metadata": {},
   "outputs": [],
   "source": []
  },
  {
   "cell_type": "code",
   "execution_count": 16,
   "id": "b86c9589",
   "metadata": {},
   "outputs": [
    {
     "data": {
      "text/plain": [
       "<selenium.webdriver.remote.webelement.WebElement (session=\"a3eeaef9ea9adddee5ec1ab91dd35e05\", element=\"fc6399aa-02a5-47c8-95df-aa9876b8ad84\")>"
      ]
     },
     "execution_count": 16,
     "metadata": {},
     "output_type": "execute_result"
    }
   ],
   "source": [
    "meeting"
   ]
  },
  {
   "cell_type": "code",
   "execution_count": 479,
   "id": "5cca1b51",
   "metadata": {},
   "outputs": [
    {
     "data": {
      "text/plain": [
       "<selenium.webdriver.remote.webelement.WebElement (session=\"aafb74b04f274cfd7e9d5121d103a427\", element=\"33c3922a-37a3-4103-98d9-aae8e2ac4f22\")>"
      ]
     },
     "execution_count": 479,
     "metadata": {},
     "output_type": "execute_result"
    }
   ],
   "source": [
    "driver.find_element(By.ID, ('estatements')).find_element(By.TAG_NAME, ('ion-grid'))"
   ]
  },
  {
   "cell_type": "code",
   "execution_count": 464,
   "id": "49ce8a8e",
   "metadata": {},
   "outputs": [
    {
     "name": "stderr",
     "output_type": "stream",
     "text": [
      " 25%|█████████████████████                                                               | 2/8 [00:00<00:00, 16.05it/s]"
     ]
    },
    {
     "name": "stdout",
     "output_type": "stream",
     "text": [
      "Togo\n",
      "Dominican Republic\n",
      "Guinea-Bissau\n",
      "Djibouti\n"
     ]
    },
    {
     "name": "stderr",
     "output_type": "stream",
     "text": [
      " 75%|███████████████████████████████████████████████████████████████                     | 6/8 [00:00<00:00, 14.37it/s]"
     ]
    },
    {
     "name": "stdout",
     "output_type": "stream",
     "text": [
      "Kazakhstan\n",
      "Spain\n",
      "Norway\n"
     ]
    },
    {
     "name": "stderr",
     "output_type": "stream",
     "text": [
      "100%|████████████████████████████████████████████████████████████████████████████████████| 8/8 [00:00<00:00, 13.86it/s]"
     ]
    },
    {
     "name": "stdout",
     "output_type": "stream",
     "text": [
      "United Kingdom of Great Britain and Northern Ireland\n"
     ]
    },
    {
     "name": "stderr",
     "output_type": "stream",
     "text": [
      "\n"
     ]
    }
   ],
   "source": [
    "grid_element = driver.find_element(By.ID, ('estatements')).find_element(By.TAG_NAME, ('ion-grid'))\n",
    "row_elements = grid_element.find_elements(By.XPATH, ('*'))\n",
    "\n",
    "data[country] = ({\"en_link\":None, \"languages\":None})\n",
    "\n",
    "for element in tqdm(row_elements):\n",
    "    country_row_elements = element.find_element(By.CLASS_NAME, 'flag-style').find_element(By.XPATH, '..').find_elements(By.XPATH, ('*'))\n",
    "    country = country_row_elements[-1].get_attribute(\"innerHTML\")\n",
    "    print(country)\n",
    "    \n",
    "    data[country] = None\n",
    "    report_element = element.find_element(By.TAG_NAME, 'strong')\n",
    "    if report_element.get_attribute(\"innerHTML\") == 'English':\n",
    "        data[country] = report_element.find_element(By.XPATH, '..').get_attribute('href')"
   ]
  },
  {
   "cell_type": "code",
   "execution_count": 428,
   "id": "8aaff6f0",
   "metadata": {},
   "outputs": [
    {
     "data": {
      "text/plain": [
       "'&nbsp;'"
      ]
     },
     "execution_count": 428,
     "metadata": {},
     "output_type": "execute_result"
    }
   ],
   "source": [
    "country_element[0].get_attribute(\"innerHTML\")"
   ]
  },
  {
   "cell_type": "code",
   "execution_count": 454,
   "id": "370756bc",
   "metadata": {},
   "outputs": [
    {
     "data": {
      "text/plain": [
       "[<selenium.webdriver.remote.webelement.WebElement (session=\"3319fb0069771edb6b51cd11ef8a7f39\", element=\"8ce4ff14-00bb-43d8-bd28-1e9dc68fe810\")>,\n",
       " <selenium.webdriver.remote.webelement.WebElement (session=\"3319fb0069771edb6b51cd11ef8a7f39\", element=\"bdd4a551-4bc1-4a68-8ebe-b46443bbffb0\")>,\n",
       " <selenium.webdriver.remote.webelement.WebElement (session=\"3319fb0069771edb6b51cd11ef8a7f39\", element=\"7299db30-0537-4b6f-b455-27490d60d2ac\")>,\n",
       " <selenium.webdriver.remote.webelement.WebElement (session=\"3319fb0069771edb6b51cd11ef8a7f39\", element=\"c20a3d9e-ba54-4c27-b5e4-c7430bad91f5\")>,\n",
       " <selenium.webdriver.remote.webelement.WebElement (session=\"3319fb0069771edb6b51cd11ef8a7f39\", element=\"ba4ef37d-d02e-4c7a-b01e-ffdd55fa5c2c\")>,\n",
       " <selenium.webdriver.remote.webelement.WebElement (session=\"3319fb0069771edb6b51cd11ef8a7f39\", element=\"cc0e3c16-a4f2-4128-89c5-48ce0be7bcbb\")>,\n",
       " <selenium.webdriver.remote.webelement.WebElement (session=\"3319fb0069771edb6b51cd11ef8a7f39\", element=\"a8f545a8-e127-41f9-a04e-7cc57cf7beac\")>]"
      ]
     },
     "execution_count": 454,
     "metadata": {},
     "output_type": "execute_result"
    }
   ],
   "source": [
    "report_elements = driver.find_elements(By.XPATH, (\"//*[contains(text(),'English')]\"));\n",
    "report_elements"
   ]
  },
  {
   "cell_type": "code",
   "execution_count": 382,
   "id": "cd338dc8",
   "metadata": {},
   "outputs": [],
   "source": [
    "links = [report_element.find_element(By.XPATH, '..').get_attribute('href') for report_element in report_elements]"
   ]
  },
  {
   "cell_type": "code",
   "execution_count": 383,
   "id": "89c2f9c4",
   "metadata": {},
   "outputs": [
    {
     "data": {
      "text/plain": [
       "[None,\n",
       " 'https://estatements.unmeetings.org/estatements/10.0010/20210922/8yWl9C7tC4xI/bVqAbP4MOurD_en.pdf',\n",
       " 'https://estatements.unmeetings.org/estatements/10.0010/20210922/8yWl9C7tC4xI/DsQOQmQYyob6_en.pdf',\n",
       " 'https://estatements.unmeetings.org/estatements/10.0010/20210922/8yWl9C7tC4xI/dqyfxHov0ra5_en.pdf',\n",
       " 'https://estatements.unmeetings.org/estatements/10.0010/20210922/8yWl9C7tC4xI/KHEjAShWTtsa_en.pdf',\n",
       " 'https://estatements.unmeetings.org/estatements/10.0010/20210922/8yWl9C7tC4xI/HMFlWRMkL9LB_en.pdf',\n",
       " 'https://estatements.unmeetings.org/estatements/10.0010/20210922/8yWl9C7tC4xI/WKC1aQg0boQJ_en.pdf']"
      ]
     },
     "execution_count": 383,
     "metadata": {},
     "output_type": "execute_result"
    }
   ],
   "source": [
    "links"
   ]
  },
  {
   "cell_type": "code",
   "execution_count": 376,
   "id": "a3bfab09",
   "metadata": {
    "collapsed": true
   },
   "outputs": [
    {
     "data": {
      "text/plain": [
       "[<selenium.webdriver.remote.webelement.WebElement (session=\"3319fb0069771edb6b51cd11ef8a7f39\", element=\"8ce4ff14-00bb-43d8-bd28-1e9dc68fe810\")>,\n",
       " <selenium.webdriver.remote.webelement.WebElement (session=\"3319fb0069771edb6b51cd11ef8a7f39\", element=\"bdd4a551-4bc1-4a68-8ebe-b46443bbffb0\")>,\n",
       " <selenium.webdriver.remote.webelement.WebElement (session=\"3319fb0069771edb6b51cd11ef8a7f39\", element=\"7299db30-0537-4b6f-b455-27490d60d2ac\")>,\n",
       " <selenium.webdriver.remote.webelement.WebElement (session=\"3319fb0069771edb6b51cd11ef8a7f39\", element=\"c20a3d9e-ba54-4c27-b5e4-c7430bad91f5\")>,\n",
       " <selenium.webdriver.remote.webelement.WebElement (session=\"3319fb0069771edb6b51cd11ef8a7f39\", element=\"ba4ef37d-d02e-4c7a-b01e-ffdd55fa5c2c\")>,\n",
       " <selenium.webdriver.remote.webelement.WebElement (session=\"3319fb0069771edb6b51cd11ef8a7f39\", element=\"cc0e3c16-a4f2-4128-89c5-48ce0be7bcbb\")>,\n",
       " <selenium.webdriver.remote.webelement.WebElement (session=\"3319fb0069771edb6b51cd11ef8a7f39\", element=\"a8f545a8-e127-41f9-a04e-7cc57cf7beac\")>]"
      ]
     },
     "execution_count": 376,
     "metadata": {},
     "output_type": "execute_result"
    }
   ],
   "source": [
    "report_elements "
   ]
  },
  {
   "cell_type": "code",
   "execution_count": 378,
   "id": "44976312",
   "metadata": {
    "collapsed": true
   },
   "outputs": [
    {
     "ename": "ElementNotInteractableException",
     "evalue": "Message: element not interactable\n  (Session info: chrome=106.0.5249.91)\nStacktrace:\nBacktrace:\n\tOrdinal0 [0x011B1ED3+2236115]\n\tOrdinal0 [0x011492F1+1807089]\n\tOrdinal0 [0x010565C0+812480]\n\tOrdinal0 [0x01086586+1009030]\n\tOrdinal0 [0x0107C416+967702]\n\tOrdinal0 [0x010A1A8C+1120908]\n\tOrdinal0 [0x0107BD84+966020]\n\tOrdinal0 [0x010A1CA4+1121444]\n\tOrdinal0 [0x010B59E2+1202658]\n\tOrdinal0 [0x010A18A6+1120422]\n\tOrdinal0 [0x0107A73D+960317]\n\tOrdinal0 [0x0107B71F+964383]\n\tGetHandleVerifier [0x0145E7E2+2743074]\n\tGetHandleVerifier [0x014508D4+2685972]\n\tGetHandleVerifier [0x01242BAA+532202]\n\tGetHandleVerifier [0x01241990+527568]\n\tOrdinal0 [0x0115080C+1837068]\n\tOrdinal0 [0x01154CD8+1854680]\n\tOrdinal0 [0x01154DC5+1854917]\n\tOrdinal0 [0x0115ED64+1895780]\n\tBaseThreadInitThunk [0x75FE6739+25]\n\tRtlGetFullPathName_UEx [0x775D8FD2+1218]\n\tRtlGetFullPathName_UEx [0x775D8F9D+1165]\n",
     "output_type": "error",
     "traceback": [
      "\u001b[1;31m---------------------------------------------------------------------------\u001b[0m",
      "\u001b[1;31mElementNotInteractableException\u001b[0m           Traceback (most recent call last)",
      "Input \u001b[1;32mIn [378]\u001b[0m, in \u001b[0;36m<cell line: 1>\u001b[1;34m()\u001b[0m\n\u001b[1;32m----> 1\u001b[0m \u001b[43mreport_elements\u001b[49m\u001b[43m[\u001b[49m\u001b[38;5;241;43m1\u001b[39;49m\u001b[43m]\u001b[49m\u001b[38;5;241;43m.\u001b[39;49m\u001b[43mclick\u001b[49m\u001b[43m(\u001b[49m\u001b[43m)\u001b[49m\n",
      "File \u001b[1;32mC:\\Apps\\Anaconda\\lib\\site-packages\\selenium\\webdriver\\remote\\webelement.py:88\u001b[0m, in \u001b[0;36mWebElement.click\u001b[1;34m(self)\u001b[0m\n\u001b[0;32m     86\u001b[0m \u001b[38;5;28;01mdef\u001b[39;00m \u001b[38;5;21mclick\u001b[39m(\u001b[38;5;28mself\u001b[39m) \u001b[38;5;241m-\u001b[39m\u001b[38;5;241m>\u001b[39m \u001b[38;5;28;01mNone\u001b[39;00m:\n\u001b[0;32m     87\u001b[0m     \u001b[38;5;124;03m\"\"\"Clicks the element.\"\"\"\u001b[39;00m\n\u001b[1;32m---> 88\u001b[0m     \u001b[38;5;28;43mself\u001b[39;49m\u001b[38;5;241;43m.\u001b[39;49m\u001b[43m_execute\u001b[49m\u001b[43m(\u001b[49m\u001b[43mCommand\u001b[49m\u001b[38;5;241;43m.\u001b[39;49m\u001b[43mCLICK_ELEMENT\u001b[49m\u001b[43m)\u001b[49m\n",
      "File \u001b[1;32mC:\\Apps\\Anaconda\\lib\\site-packages\\selenium\\webdriver\\remote\\webelement.py:396\u001b[0m, in \u001b[0;36mWebElement._execute\u001b[1;34m(self, command, params)\u001b[0m\n\u001b[0;32m    394\u001b[0m     params \u001b[38;5;241m=\u001b[39m {}\n\u001b[0;32m    395\u001b[0m params[\u001b[38;5;124m'\u001b[39m\u001b[38;5;124mid\u001b[39m\u001b[38;5;124m'\u001b[39m] \u001b[38;5;241m=\u001b[39m \u001b[38;5;28mself\u001b[39m\u001b[38;5;241m.\u001b[39m_id\n\u001b[1;32m--> 396\u001b[0m \u001b[38;5;28;01mreturn\u001b[39;00m \u001b[38;5;28;43mself\u001b[39;49m\u001b[38;5;241;43m.\u001b[39;49m\u001b[43m_parent\u001b[49m\u001b[38;5;241;43m.\u001b[39;49m\u001b[43mexecute\u001b[49m\u001b[43m(\u001b[49m\u001b[43mcommand\u001b[49m\u001b[43m,\u001b[49m\u001b[43m \u001b[49m\u001b[43mparams\u001b[49m\u001b[43m)\u001b[49m\n",
      "File \u001b[1;32mC:\\Apps\\Anaconda\\lib\\site-packages\\selenium\\webdriver\\remote\\webdriver.py:429\u001b[0m, in \u001b[0;36mWebDriver.execute\u001b[1;34m(self, driver_command, params)\u001b[0m\n\u001b[0;32m    427\u001b[0m response \u001b[38;5;241m=\u001b[39m \u001b[38;5;28mself\u001b[39m\u001b[38;5;241m.\u001b[39mcommand_executor\u001b[38;5;241m.\u001b[39mexecute(driver_command, params)\n\u001b[0;32m    428\u001b[0m \u001b[38;5;28;01mif\u001b[39;00m response:\n\u001b[1;32m--> 429\u001b[0m     \u001b[38;5;28;43mself\u001b[39;49m\u001b[38;5;241;43m.\u001b[39;49m\u001b[43merror_handler\u001b[49m\u001b[38;5;241;43m.\u001b[39;49m\u001b[43mcheck_response\u001b[49m\u001b[43m(\u001b[49m\u001b[43mresponse\u001b[49m\u001b[43m)\u001b[49m\n\u001b[0;32m    430\u001b[0m     response[\u001b[38;5;124m'\u001b[39m\u001b[38;5;124mvalue\u001b[39m\u001b[38;5;124m'\u001b[39m] \u001b[38;5;241m=\u001b[39m \u001b[38;5;28mself\u001b[39m\u001b[38;5;241m.\u001b[39m_unwrap_value(\n\u001b[0;32m    431\u001b[0m         response\u001b[38;5;241m.\u001b[39mget(\u001b[38;5;124m'\u001b[39m\u001b[38;5;124mvalue\u001b[39m\u001b[38;5;124m'\u001b[39m, \u001b[38;5;28;01mNone\u001b[39;00m))\n\u001b[0;32m    432\u001b[0m     \u001b[38;5;28;01mreturn\u001b[39;00m response\n",
      "File \u001b[1;32mC:\\Apps\\Anaconda\\lib\\site-packages\\selenium\\webdriver\\remote\\errorhandler.py:243\u001b[0m, in \u001b[0;36mErrorHandler.check_response\u001b[1;34m(self, response)\u001b[0m\n\u001b[0;32m    241\u001b[0m         alert_text \u001b[38;5;241m=\u001b[39m value[\u001b[38;5;124m'\u001b[39m\u001b[38;5;124malert\u001b[39m\u001b[38;5;124m'\u001b[39m]\u001b[38;5;241m.\u001b[39mget(\u001b[38;5;124m'\u001b[39m\u001b[38;5;124mtext\u001b[39m\u001b[38;5;124m'\u001b[39m)\n\u001b[0;32m    242\u001b[0m     \u001b[38;5;28;01mraise\u001b[39;00m exception_class(message, screen, stacktrace, alert_text)  \u001b[38;5;66;03m# type: ignore[call-arg]  # mypy is not smart enough here\u001b[39;00m\n\u001b[1;32m--> 243\u001b[0m \u001b[38;5;28;01mraise\u001b[39;00m exception_class(message, screen, stacktrace)\n",
      "\u001b[1;31mElementNotInteractableException\u001b[0m: Message: element not interactable\n  (Session info: chrome=106.0.5249.91)\nStacktrace:\nBacktrace:\n\tOrdinal0 [0x011B1ED3+2236115]\n\tOrdinal0 [0x011492F1+1807089]\n\tOrdinal0 [0x010565C0+812480]\n\tOrdinal0 [0x01086586+1009030]\n\tOrdinal0 [0x0107C416+967702]\n\tOrdinal0 [0x010A1A8C+1120908]\n\tOrdinal0 [0x0107BD84+966020]\n\tOrdinal0 [0x010A1CA4+1121444]\n\tOrdinal0 [0x010B59E2+1202658]\n\tOrdinal0 [0x010A18A6+1120422]\n\tOrdinal0 [0x0107A73D+960317]\n\tOrdinal0 [0x0107B71F+964383]\n\tGetHandleVerifier [0x0145E7E2+2743074]\n\tGetHandleVerifier [0x014508D4+2685972]\n\tGetHandleVerifier [0x01242BAA+532202]\n\tGetHandleVerifier [0x01241990+527568]\n\tOrdinal0 [0x0115080C+1837068]\n\tOrdinal0 [0x01154CD8+1854680]\n\tOrdinal0 [0x01154DC5+1854917]\n\tOrdinal0 [0x0115ED64+1895780]\n\tBaseThreadInitThunk [0x75FE6739+25]\n\tRtlGetFullPathName_UEx [0x775D8FD2+1218]\n\tRtlGetFullPathName_UEx [0x775D8F9D+1165]\n"
     ]
    }
   ],
   "source": [
    "report_elements[1].click()"
   ]
  },
  {
   "cell_type": "code",
   "execution_count": null,
   "id": "a596e449",
   "metadata": {},
   "outputs": [],
   "source": [
    "report_elements"
   ]
  },
  {
   "cell_type": "code",
   "execution_count": null,
   "id": "a6b015c3",
   "metadata": {},
   "outputs": [],
   "source": [
    "data = dict()\n",
    "\n",
    "def refresh_DOM(driver):\n",
    "    select = driver.find_element(By.ID, 'edit-jump')\n",
    "    return select,\\\n",
    "            select.find_elements(By.TAG_NAME,'option')[1:],\\\n",
    "            driver.find_element(By.ID, 'edit-go')\n",
    "\n",
    "select_element, option_elements, go_button = refresh_DOM(driver)\n",
    "for i in tqdm(range(len(option_elements))):\n",
    "    print(i)\n",
    "    country = option_elements[i].text\n",
    "\n",
    "    option_elements[i].click()\n",
    "    go_button.click()\n",
    "    \n",
    "    document_elements =  driver.find_element(By.CLASS_NAME, 'statement-documents-list')\n",
    "    a_elements = document_elements.find_elements(By.TAG_NAME, 'a')\n",
    "    \n",
    "    data[country] = ({\"en_link\":None, \"languages\":None})\n",
    "    languages = []\n",
    "    for element in a_elements:\n",
    "        languages.append(element.text.split(\" \")[-1])\n",
    "        \n",
    "        if 'English' in element.text:\n",
    "            data[country]['en_link'] = element.get_attribute('href')\n",
    "    \n",
    "    data[country]['languages'] = languages\n",
    "    \n",
    "    driver.back()\n",
    "    select_element, option_elements, go_button = refresh_DOM(driver)data_21 = dict()"
   ]
  },
  {
   "cell_type": "code",
   "execution_count": null,
   "id": "866fe81c",
   "metadata": {},
   "outputs": [],
   "source": []
  },
  {
   "cell_type": "code",
   "execution_count": null,
   "id": "4042a0ee",
   "metadata": {},
   "outputs": [],
   "source": []
  },
  {
   "cell_type": "code",
   "execution_count": null,
   "id": "9cd0feb0",
   "metadata": {},
   "outputs": [],
   "source": []
  },
  {
   "cell_type": "code",
   "execution_count": null,
   "id": "0ee48721",
   "metadata": {},
   "outputs": [],
   "source": []
  },
  {
   "cell_type": "code",
   "execution_count": null,
   "id": "9694248d",
   "metadata": {},
   "outputs": [],
   "source": []
  },
  {
   "cell_type": "code",
   "execution_count": null,
   "id": "a2a543b2",
   "metadata": {},
   "outputs": [],
   "source": []
  },
  {
   "cell_type": "code",
   "execution_count": null,
   "id": "9756c141",
   "metadata": {},
   "outputs": [],
   "source": []
  },
  {
   "cell_type": "code",
   "execution_count": 173,
   "id": "8f3d61d3",
   "metadata": {},
   "outputs": [],
   "source": [
    "from pdfminer.high_level import extract_text"
   ]
  },
  {
   "cell_type": "code",
   "execution_count": null,
   "id": "8979fbd4",
   "metadata": {},
   "outputs": [],
   "source": [
    "from list"
   ]
  },
  {
   "cell_type": "code",
   "execution_count": 181,
   "id": "7a2bb76c",
   "metadata": {},
   "outputs": [],
   "source": [
    "from pdfminer.high_level import extract_text\n",
    "text = extract_text('GD2022/Austria.pdf')"
   ]
  },
  {
   "cell_type": "code",
   "execution_count": null,
   "id": "268274a6",
   "metadata": {},
   "outputs": [],
   "source": []
  },
  {
   "cell_type": "code",
   "execution_count": 182,
   "id": "b9dfbaef",
   "metadata": {},
   "outputs": [
    {
     "name": "stdout",
     "output_type": "stream",
     "text": [
      "\f",
      "\f",
      "\f",
      "\f",
      "\f",
      "\f",
      "\f",
      "\f",
      "\f",
      "\f",
      "\f",
      "\f",
      "\f",
      "\f",
      "\f",
      "\f",
      "\n"
     ]
    }
   ],
   "source": [
    "print(text)"
   ]
  },
  {
   "cell_type": "code",
   "execution_count": 149,
   "id": "5a47c919",
   "metadata": {},
   "outputs": [
    {
     "data": {
      "text/plain": [
       "{'Albania': {'en_link': 'https://gadebate.un.org/sites/default/files/gastatements/77/al_en.pdf',\n",
       "  'languages': ['English']},\n",
       " 'Algeria': {'en_link': None, 'languages': ['Arabic']},\n",
       " 'Andorra': {'en_link': 'https://gadebate.un.org/sites/default/files/gastatements/77/ad_en.pdf',\n",
       "  'languages': ['English', 'French', 'Spanish', 'language']},\n",
       " 'Angola': {'en_link': 'https://gadebate.un.org/sites/default/files/gastatements/77/ao_en.pdf',\n",
       "  'languages': ['English']},\n",
       " 'Antigua and Barbuda': {'en_link': 'https://gadebate.un.org/sites/default/files/gastatements/77/ag_en.pdf',\n",
       "  'languages': ['English']},\n",
       " 'Argentina': {'en_link': None, 'languages': ['Spanish']},\n",
       " 'Armenia': {'en_link': 'https://gadebate.un.org/sites/default/files/gastatements/77/am_en.pdf',\n",
       "  'languages': ['English']},\n",
       " 'Australia': {'en_link': 'https://gadebate.un.org/sites/default/files/gastatements/77/au_en.pdf',\n",
       "  'languages': ['English']},\n",
       " 'Austria': {'en_link': 'https://gadebate.un.org/sites/default/files/gastatements/77/at_en.pdf',\n",
       "  'languages': ['English']},\n",
       " 'Azerbaijan': {'en_link': 'https://gadebate.un.org/sites/default/files/gastatements/77/az_en.pdf',\n",
       "  'languages': ['English']},\n",
       " 'Bahamas': {'en_link': 'https://gadebate.un.org/sites/default/files/gastatements/77/bs_en.pdf',\n",
       "  'languages': ['English']},\n",
       " 'Bahrain': {'en_link': 'https://gadebate.un.org/sites/default/files/gastatements/77/bh_en.pdf',\n",
       "  'languages': ['Arabic', 'English']},\n",
       " 'Bangladesh': {'en_link': 'https://gadebate.un.org/sites/default/files/gastatements/77/bd_en.pdf',\n",
       "  'languages': ['English']},\n",
       " 'Barbados': {'en_link': 'https://gadebate.un.org/sites/default/files/gastatements/77/bb1_en.pdf',\n",
       "  'languages': ['English']},\n",
       " 'Belarus': {'en_link': 'https://gadebate.un.org/sites/default/files/gastatements/77/by_en.pdf',\n",
       "  'languages': ['English', 'Russian']},\n",
       " 'Belgium': {'en_link': None, 'languages': ['language']},\n",
       " 'Belize': {'en_link': 'https://gadebate.un.org/sites/default/files/gastatements/77/bz_en.pdf',\n",
       "  'languages': ['English']},\n",
       " 'Benin': {'en_link': None, 'languages': ['French']},\n",
       " 'Bhutan': {'en_link': 'https://gadebate.un.org/sites/default/files/gastatements/77/bt_en.pdf',\n",
       "  'languages': ['English']},\n",
       " 'Bolivia (Plurinational State of)': {'en_link': None,\n",
       "  'languages': ['Spanish']},\n",
       " 'Bosnia and Herzegovina': {'en_link': 'https://gadebate.un.org/sites/default/files/gastatements/77/ba_en.pdf',\n",
       "  'languages': ['English']},\n",
       " 'Botswana': {'en_link': 'https://gadebate.un.org/sites/default/files/gastatements/77/bw_en.pdf',\n",
       "  'languages': ['English']},\n",
       " 'Brazil': {'en_link': 'https://gadebate.un.org/sites/default/files/gastatements/77/br_en.pdf',\n",
       "  'languages': ['English']},\n",
       " 'Brunei Darussalam': {'en_link': 'https://gadebate.un.org/sites/default/files/gastatements/77/bn_en.pdf',\n",
       "  'languages': ['English']},\n",
       " 'Bulgaria': {'en_link': 'https://gadebate.un.org/sites/default/files/gastatements/77/bg_en.pdf',\n",
       "  'languages': ['English']},\n",
       " 'Burkina Faso': {'en_link': None, 'languages': ['French']},\n",
       " 'Burundi': {'en_link': None, 'languages': ['French']},\n",
       " 'Cabo Verde': {'en_link': 'https://gadebate.un.org/sites/default/files/gastatements/77/cv_en.pdf',\n",
       "  'languages': ['English']},\n",
       " 'Cambodia': {'en_link': 'https://gadebate.un.org/sites/default/files/gastatements/77/kh_en.pdf',\n",
       "  'languages': ['English']},\n",
       " 'Cameroon': {'en_link': None, 'languages': ['French']},\n",
       " 'Canada': {'en_link': None, 'languages': []},\n",
       " 'Central African Republic': {'en_link': None, 'languages': ['French']},\n",
       " 'Chad': {'en_link': None, 'languages': ['Arabic', 'French']},\n",
       " 'Chile': {'en_link': None, 'languages': ['Spanish']},\n",
       " 'China': {'en_link': None, 'languages': ['Chinese']},\n",
       " 'Colombia': {'en_link': None, 'languages': ['Spanish']},\n",
       " 'Comoros': {'en_link': None, 'languages': ['French']},\n",
       " 'Congo': {'en_link': None, 'languages': ['French']},\n",
       " 'Costa Rica': {'en_link': 'https://gadebate.un.org/sites/default/files/gastatements/77/cr_en.pdf',\n",
       "  'languages': ['English', 'Spanish']},\n",
       " 'Côte d’Ivoire': {'en_link': None, 'languages': ['French']},\n",
       " 'Croatia': {'en_link': 'https://gadebate.un.org/sites/default/files/gastatements/77/hr_en.pdf',\n",
       "  'languages': ['English']},\n",
       " 'Cuba': {'en_link': 'https://gadebate.un.org/sites/default/files/gastatements/77/cu_en.pdf',\n",
       "  'languages': ['English', 'Spanish']},\n",
       " 'Cyprus': {'en_link': 'https://gadebate.un.org/sites/default/files/gastatements/77/cy_en.pdf',\n",
       "  'languages': ['English']},\n",
       " 'Czech Republic': {'en_link': 'https://gadebate.un.org/sites/default/files/gastatements/77/cz_en.pdf',\n",
       "  'languages': ['English']},\n",
       " 'Democratic People’s Republic of Korea': {'en_link': 'https://gadebate.un.org/sites/default/files/gastatements/77/kp_en.pdf',\n",
       "  'languages': ['English']},\n",
       " 'Democratic Republic of the Congo': {'en_link': None,\n",
       "  'languages': ['French']},\n",
       " 'Denmark': {'en_link': 'https://gadebate.un.org/sites/default/files/gastatements/77/dk_en.pdf',\n",
       "  'languages': ['English']},\n",
       " 'Djibouti': {'en_link': None, 'languages': ['French']},\n",
       " 'Dominica': {'en_link': 'https://gadebate.un.org/sites/default/files/gastatements/77/dm_en.pdf',\n",
       "  'languages': ['English']},\n",
       " 'Dominican Republic': {'en_link': None, 'languages': ['Spanish']},\n",
       " 'Ecuador': {'en_link': None, 'languages': ['Spanish']},\n",
       " 'Egypt': {'en_link': None, 'languages': []},\n",
       " 'El Salvador': {'en_link': None, 'languages': ['Spanish']},\n",
       " 'Equatorial Guinea': {'en_link': None, 'languages': ['Spanish']},\n",
       " 'Eritrea': {'en_link': None, 'languages': []},\n",
       " 'Estonia': {'en_link': 'https://gadebate.un.org/sites/default/files/gastatements/77/ee_en.pdf',\n",
       "  'languages': ['English']},\n",
       " 'Eswatini': {'en_link': 'https://gadebate.un.org/sites/default/files/gastatements/77/sz_en.pdf',\n",
       "  'languages': ['English']},\n",
       " 'Ethiopia': {'en_link': 'https://gadebate.un.org/sites/default/files/gastatements/77/et_en.pdf',\n",
       "  'languages': ['English']},\n",
       " 'European Union': {'en_link': 'https://gadebate.un.org/sites/default/files/gastatements/77/eu-en.pdf',\n",
       "  'languages': ['English', 'French']},\n",
       " 'Fiji': {'en_link': 'https://gadebate.un.org/sites/default/files/gastatements/77/fj_en.pdf',\n",
       "  'languages': ['English']},\n",
       " 'Finland': {'en_link': 'https://gadebate.un.org/sites/default/files/gastatements/77/fi_en_0.pdf',\n",
       "  'languages': ['English']},\n",
       " 'France': {'en_link': None, 'languages': ['French']},\n",
       " 'Gabon': {'en_link': None, 'languages': ['French']},\n",
       " 'Gambia (Republic of The)': {'en_link': 'https://gadebate.un.org/sites/default/files/gastatements/77/gm_en.pdf',\n",
       "  'languages': ['English']},\n",
       " 'Georgia': {'en_link': 'https://gadebate.un.org/sites/default/files/gastatements/77/ge_en.pdf',\n",
       "  'languages': ['English']},\n",
       " 'Germany': {'en_link': 'https://gadebate.un.org/sites/default/files/gastatements/77/de_en.pdf',\n",
       "  'languages': ['English']},\n",
       " 'Ghana': {'en_link': 'https://gadebate.un.org/sites/default/files/gastatements/77/gh_en.pdf',\n",
       "  'languages': ['English']},\n",
       " 'Greece': {'en_link': 'https://gadebate.un.org/sites/default/files/gastatements/77/gr_en.pdf',\n",
       "  'languages': ['English']},\n",
       " 'Grenada': {'en_link': 'https://gadebate.un.org/sites/default/files/gastatements/77/gd_en.pdf',\n",
       "  'languages': ['English']},\n",
       " 'Guatemala': {'en_link': None, 'languages': ['Spanish']},\n",
       " 'Guinea': {'en_link': None, 'languages': ['French']},\n",
       " 'Guinea-Bissau': {'en_link': 'https://gadebate.un.org/sites/default/files/gastatements/77/gw_en.pdf',\n",
       "  'languages': ['English', 'language']},\n",
       " 'Guyana': {'en_link': 'https://gadebate.un.org/sites/default/files/gastatements/77/gy_en.pdf',\n",
       "  'languages': ['English']},\n",
       " 'Haiti': {'en_link': None, 'languages': ['French']},\n",
       " 'Holy See': {'en_link': 'https://gadebate.un.org/sites/default/files/gastatements/77/va_en.pdf',\n",
       "  'languages': ['English']},\n",
       " 'Honduras': {'en_link': None, 'languages': ['Spanish']},\n",
       " 'Hungary': {'en_link': 'https://gadebate.un.org/sites/default/files/gastatements/77/hu_en.pdf',\n",
       "  'languages': ['English']},\n",
       " 'Iceland': {'en_link': 'https://gadebate.un.org/sites/default/files/gastatements/77/is_en.pdf',\n",
       "  'languages': ['English']},\n",
       " 'India': {'en_link': 'https://gadebate.un.org/sites/default/files/gastatements/77/in_en.pdf',\n",
       "  'languages': ['English']},\n",
       " 'Indonesia': {'en_link': 'https://gadebate.un.org/sites/default/files/gastatements/77/id_en.pdf',\n",
       "  'languages': ['English']},\n",
       " 'Iran (Islamic Republic of)': {'en_link': 'https://gadebate.un.org/sites/default/files/gastatements/77/ir_en.pdf',\n",
       "  'languages': ['English']},\n",
       " 'Iraq': {'en_link': None, 'languages': ['Arabic', 'French']},\n",
       " 'Ireland': {'en_link': 'https://gadebate.un.org/sites/default/files/gastatements/77/ie_en.pdf',\n",
       "  'languages': ['English']},\n",
       " 'Israel': {'en_link': 'https://gadebate.un.org/sites/default/files/gastatements/77/il_en.pdf',\n",
       "  'languages': ['English']},\n",
       " 'Italy': {'en_link': 'https://gadebate.un.org/sites/default/files/gastatements/77/it_en.pdf',\n",
       "  'languages': ['English']},\n",
       " 'Jamaica': {'en_link': 'https://gadebate.un.org/sites/default/files/gastatements/77/jm_en.pdf',\n",
       "  'languages': ['English']},\n",
       " 'Japan': {'en_link': 'https://gadebate.un.org/sites/default/files/gastatements/77/jp_en.pdf',\n",
       "  'languages': ['English']},\n",
       " 'Jordan': {'en_link': 'https://gadebate.un.org/sites/default/files/gastatements/77/jo_en.pdf',\n",
       "  'languages': ['Arabic', 'English']},\n",
       " 'Kazakhstan': {'en_link': 'https://gadebate.un.org/sites/default/files/gastatements/77/kz_en.pdf',\n",
       "  'languages': ['English']},\n",
       " 'Kenya': {'en_link': 'https://gadebate.un.org/sites/default/files/gastatements/77/ke_en.pdf',\n",
       "  'languages': ['English']},\n",
       " 'Kiribati': {'en_link': 'https://gadebate.un.org/sites/default/files/gastatements/77/ki_en.pdf',\n",
       "  'languages': ['English']},\n",
       " 'Kuwait': {'en_link': 'https://gadebate.un.org/sites/default/files/gastatements/77/kw_en.pdf',\n",
       "  'languages': ['Arabic', 'English']},\n",
       " 'Kyrgyzstan': {'en_link': 'https://gadebate.un.org/sites/default/files/gastatements/77/kg_en.pdf',\n",
       "  'languages': ['Arabic',\n",
       "   'Chinese',\n",
       "   'English',\n",
       "   'French',\n",
       "   'Russian',\n",
       "   'language']},\n",
       " 'Lao People’s Democratic Republic': {'en_link': 'https://gadebate.un.org/sites/default/files/gastatements/77/la_en.pdf',\n",
       "  'languages': ['English']},\n",
       " 'Latvia': {'en_link': 'https://gadebate.un.org/sites/default/files/gastatements/77/lv_en.pdf',\n",
       "  'languages': ['English']},\n",
       " 'Lebanon': {'en_link': None, 'languages': ['Arabic']},\n",
       " 'Lesotho': {'en_link': 'https://gadebate.un.org/sites/default/files/gastatements/77/ls_en.pdf',\n",
       "  'languages': ['English']},\n",
       " 'Liberia': {'en_link': 'https://gadebate.un.org/sites/default/files/gastatements/77/lr_en.pdf',\n",
       "  'languages': ['English']},\n",
       " 'Libya': {'en_link': None, 'languages': ['Arabic']},\n",
       " 'Liechtenstein': {'en_link': 'https://gadebate.un.org/sites/default/files/gastatements/77/li_en.pdf',\n",
       "  'languages': ['English']},\n",
       " 'Lithuania': {'en_link': 'https://gadebate.un.org/sites/default/files/gastatements/77/lt_en.pdf',\n",
       "  'languages': ['English']},\n",
       " 'Luxembourg': {'en_link': None, 'languages': ['French']},\n",
       " 'Madagascar': {'en_link': None, 'languages': ['French']},\n",
       " 'Malawi': {'en_link': 'https://gadebate.un.org/sites/default/files/gastatements/77/mw_en.pdf',\n",
       "  'languages': ['English']},\n",
       " 'Malaysia': {'en_link': 'https://gadebate.un.org/sites/default/files/gastatements/77/my_en.pdf',\n",
       "  'languages': ['English', 'language']},\n",
       " 'Maldives': {'en_link': 'https://gadebate.un.org/sites/default/files/gastatements/77/mv_en.pdf',\n",
       "  'languages': ['English']},\n",
       " 'Mali': {'en_link': None, 'languages': ['French']},\n",
       " 'Malta': {'en_link': 'https://gadebate.un.org/sites/default/files/gastatements/77/mt_en.pdf',\n",
       "  'languages': ['English']},\n",
       " 'Marshall Islands': {'en_link': 'https://gadebate.un.org/sites/default/files/gastatements/77/mh_en.pdf',\n",
       "  'languages': ['English']},\n",
       " 'Mauritania': {'en_link': None, 'languages': ['Arabic']},\n",
       " 'Mauritius': {'en_link': 'https://gadebate.un.org/sites/default/files/gastatements/77/mu_en.pdf',\n",
       "  'languages': ['English']},\n",
       " 'Mexico': {'en_link': None, 'languages': ['Spanish']},\n",
       " 'Micronesia (Federated States of)': {'en_link': 'https://gadebate.un.org/sites/default/files/gastatements/77/fm_en.pdf',\n",
       "  'languages': ['English']},\n",
       " 'Monaco': {'en_link': None, 'languages': ['French']},\n",
       " 'Mongolia': {'en_link': 'https://gadebate.un.org/sites/default/files/gastatements/77/mn_en.pdf',\n",
       "  'languages': ['English']},\n",
       " 'Montenegro': {'en_link': 'https://gadebate.un.org/sites/default/files/gastatements/77/me_en.pdf',\n",
       "  'languages': ['English']},\n",
       " 'Morocco': {'en_link': None, 'languages': ['Arabic']},\n",
       " 'Mozambique': {'en_link': 'https://gadebate.un.org/sites/default/files/gastatements/77/mz_en.pdf',\n",
       "  'languages': ['English']},\n",
       " 'Namibia': {'en_link': 'https://gadebate.un.org/sites/default/files/gastatements/77/na_en.pdf',\n",
       "  'languages': ['English']},\n",
       " 'Nauru': {'en_link': 'https://gadebate.un.org/sites/default/files/gastatements/77/nr_en.pdf',\n",
       "  'languages': ['English']},\n",
       " 'Nepal': {'en_link': 'https://gadebate.un.org/sites/default/files/gastatements/77/np_en.pdf',\n",
       "  'languages': ['English']},\n",
       " 'Netherlands': {'en_link': 'https://gadebate.un.org/sites/default/files/gastatements/77/nl_en.pdf',\n",
       "  'languages': ['English']},\n",
       " 'New Zealand': {'en_link': 'https://gadebate.un.org/sites/default/files/gastatements/77/nz_en.pdf',\n",
       "  'languages': ['English']},\n",
       " 'Nicaragua': {'en_link': None, 'languages': ['Spanish']},\n",
       " 'Niger': {'en_link': None, 'languages': ['French']},\n",
       " 'Nigeria': {'en_link': 'https://gadebate.un.org/sites/default/files/gastatements/77/ng_en.pdf',\n",
       "  'languages': ['English']},\n",
       " 'Norway': {'en_link': 'https://gadebate.un.org/sites/default/files/gastatements/77/no_en.pdf',\n",
       "  'languages': ['English']},\n",
       " 'Oman': {'en_link': 'https://gadebate.un.org/sites/default/files/gastatements/77/om_en.pdf',\n",
       "  'languages': ['Arabic', 'English']},\n",
       " 'Pakistan': {'en_link': 'https://gadebate.un.org/sites/default/files/gastatements/77/pk_en.pdf',\n",
       "  'languages': ['English']},\n",
       " 'Palau': {'en_link': 'https://gadebate.un.org/sites/default/files/gastatements/77/pw_en.pdf',\n",
       "  'languages': ['English']},\n",
       " 'Palestine (State of)': {'en_link': None, 'languages': []},\n",
       " 'Panama': {'en_link': None, 'languages': ['Spanish']},\n",
       " 'Papua New Guinea': {'en_link': 'https://gadebate.un.org/sites/default/files/gastatements/77/pg_en.pdf',\n",
       "  'languages': ['English']},\n",
       " 'Paraguay': {'en_link': None, 'languages': ['Spanish']},\n",
       " 'Peru': {'en_link': None, 'languages': ['Spanish']},\n",
       " 'Philippines': {'en_link': 'https://gadebate.un.org/sites/default/files/gastatements/77/ph_en.pdf',\n",
       "  'languages': ['English']},\n",
       " 'Poland': {'en_link': 'https://gadebate.un.org/sites/default/files/gastatements/77/pl_en.pdf',\n",
       "  'languages': ['English', 'language']},\n",
       " 'Portugal': {'en_link': 'https://gadebate.un.org/sites/default/files/gastatements/77/pt_en.pdf',\n",
       "  'languages': ['English', 'language']},\n",
       " 'President of the General Assembly (closing)': {'en_link': 'https://gadebate.un.org/sites/default/files/gastatements/77/pgaclosing.pdf',\n",
       "  'languages': ['English']},\n",
       " 'President of the General Assembly (opening)': {'en_link': None,\n",
       "  'languages': ['language']},\n",
       " 'Qatar': {'en_link': None, 'languages': ['Arabic']},\n",
       " 'Republic of Korea': {'en_link': 'https://gadebate.un.org/sites/default/files/gastatements/77/kr_en.pdf',\n",
       "  'languages': ['English']},\n",
       " 'Republic of Moldova': {'en_link': 'https://gadebate.un.org/sites/default/files/gastatements/77/md_en.pdf',\n",
       "  'languages': ['English']},\n",
       " 'Republic of North Macedonia': {'en_link': 'https://gadebate.un.org/sites/default/files/gastatements/77/mk_en.pdf',\n",
       "  'languages': ['English']},\n",
       " 'Romania': {'en_link': 'https://gadebate.un.org/sites/default/files/gastatements/77/ro_en.pdf',\n",
       "  'languages': ['English']},\n",
       " 'Russian Federation': {'en_link': None, 'languages': ['Russian']},\n",
       " 'Rwanda': {'en_link': 'https://gadebate.un.org/sites/default/files/gastatements/77/rw_en.pdf',\n",
       "  'languages': ['English']},\n",
       " 'Saint Kitts and Nevis': {'en_link': 'https://gadebate.un.org/sites/default/files/gastatements/77/kn_en.pdf',\n",
       "  'languages': ['English']},\n",
       " 'Saint Lucia': {'en_link': 'https://gadebate.un.org/sites/default/files/gastatements/77/lc_en.pdf',\n",
       "  'languages': ['English']},\n",
       " 'Saint Vincent and the Grenadines': {'en_link': 'https://gadebate.un.org/sites/default/files/gastatements/77/vc_en.pdf',\n",
       "  'languages': ['English']},\n",
       " 'Samoa': {'en_link': 'https://gadebate.un.org/sites/default/files/gastatements/77/ws_en.pdf',\n",
       "  'languages': ['English']},\n",
       " 'San Marino': {'en_link': 'https://gadebate.un.org/sites/default/files/gastatements/77/sm_en.pdf',\n",
       "  'languages': ['English']},\n",
       " 'Saudi Arabia': {'en_link': None, 'languages': ['Arabic']},\n",
       " 'Secretary-General of the United Nations': {'en_link': 'https://gadebate.un.org/sites/default/files/gastatements/77/unsg_en.pdf',\n",
       "  'languages': ['Arabic',\n",
       "   'Chinese',\n",
       "   'English',\n",
       "   'French',\n",
       "   'Russian',\n",
       "   'Spanish',\n",
       "   'language']},\n",
       " 'Senegal': {'en_link': 'https://gadebate.un.org/sites/default/files/gastatements/77/sn_en.pdf',\n",
       "  'languages': ['English', 'French']},\n",
       " 'Serbia': {'en_link': 'https://gadebate.un.org/sites/default/files/gastatements/77/rs_en.pdf',\n",
       "  'languages': ['English']},\n",
       " 'Seychelles': {'en_link': 'https://gadebate.un.org/sites/default/files/gastatements/77/sc_en.pdf',\n",
       "  'languages': ['English']},\n",
       " 'Sierra Leone': {'en_link': 'https://gadebate.un.org/sites/default/files/gastatements/77/sl_en.pdf',\n",
       "  'languages': ['English']},\n",
       " 'Singapore': {'en_link': 'https://gadebate.un.org/sites/default/files/gastatements/77/sg_en.pdf',\n",
       "  'languages': ['English']},\n",
       " 'Slovakia': {'en_link': 'https://gadebate.un.org/sites/default/files/gastatements/77/sk_en.pdf',\n",
       "  'languages': ['English']},\n",
       " 'Slovenia': {'en_link': 'https://gadebate.un.org/sites/default/files/gastatements/77/si_en.pdf',\n",
       "  'languages': ['English']},\n",
       " 'Solomon Islands': {'en_link': 'https://gadebate.un.org/sites/default/files/gastatements/77/sb_en.pdf',\n",
       "  'languages': ['English']},\n",
       " 'Somalia': {'en_link': 'https://gadebate.un.org/sites/default/files/gastatements/77/so_en.pdf',\n",
       "  'languages': ['English']},\n",
       " 'South Africa': {'en_link': 'https://gadebate.un.org/sites/default/files/gastatements/77/za_en.pdf',\n",
       "  'languages': ['English']},\n",
       " 'South Sudan': {'en_link': 'https://gadebate.un.org/sites/default/files/gastatements/77/ss_en_1.pdf',\n",
       "  'languages': ['English']},\n",
       " 'Spain': {'en_link': 'https://gadebate.un.org/sites/default/files/gastatements/77/es_en.pdf',\n",
       "  'languages': ['English']},\n",
       " 'Sri Lanka': {'en_link': 'https://gadebate.un.org/sites/default/files/gastatements/77/lk_en.pdf',\n",
       "  'languages': ['English']},\n",
       " 'Sudan': {'en_link': None, 'languages': ['Arabic']},\n",
       " 'Suriname': {'en_link': 'https://gadebate.un.org/sites/default/files/gastatements/77/sr_en.pdf',\n",
       "  'languages': ['English']},\n",
       " 'Sweden': {'en_link': 'https://gadebate.un.org/sites/default/files/gastatements/77/se_en.pdf',\n",
       "  'languages': ['English']},\n",
       " 'Switzerland': {'en_link': None, 'languages': ['French']},\n",
       " 'Syrian Arab Republic': {'en_link': None, 'languages': ['Arabic']},\n",
       " 'Tajikistan': {'en_link': 'https://gadebate.un.org/sites/default/files/gastatements/77/tj_en.pdf',\n",
       "  'languages': ['English']},\n",
       " 'Thailand': {'en_link': 'https://gadebate.un.org/sites/default/files/gastatements/77/th_en.pdf',\n",
       "  'languages': ['English']},\n",
       " 'Timor-Leste': {'en_link': 'https://gadebate.un.org/sites/default/files/gastatements/77/tl_en.pdf',\n",
       "  'languages': ['English']},\n",
       " 'Togo': {'en_link': None, 'languages': ['French']},\n",
       " 'Tonga': {'en_link': 'https://gadebate.un.org/sites/default/files/gastatements/77/tg_en.pdf',\n",
       "  'languages': ['English']},\n",
       " 'Trinidad and Tobago': {'en_link': 'https://gadebate.un.org/sites/default/files/gastatements/77/tt_en.pdf',\n",
       "  'languages': ['English']},\n",
       " 'Tunisia': {'en_link': None, 'languages': ['Arabic']},\n",
       " 'Türkiye': {'en_link': 'https://gadebate.un.org/sites/default/files/gastatements/77/tr_en.pdf',\n",
       "  'languages': ['English']},\n",
       " 'Turkmenistan': {'en_link': None, 'languages': ['Russian']},\n",
       " 'Tuvalu': {'en_link': 'https://gadebate.un.org/sites/default/files/gastatements/77/tv_en.pdf',\n",
       "  'languages': ['English']},\n",
       " 'Uganda': {'en_link': 'https://gadebate.un.org/sites/default/files/gastatements/77/ug_en.pdf',\n",
       "  'languages': ['English']},\n",
       " 'Ukraine': {'en_link': 'https://gadebate.un.org/sites/default/files/gastatements/77/ua_en.pdf',\n",
       "  'languages': ['English']},\n",
       " 'United Arab Emirates': {'en_link': None, 'languages': ['Arabic']},\n",
       " 'United Kingdom of Great Britain and Northern Ireland': {'en_link': 'https://gadebate.un.org/sites/default/files/gastatements/77/uk_en.pdf',\n",
       "  'languages': ['English']},\n",
       " 'United Republic of Tanzania': {'en_link': 'https://gadebate.un.org/sites/default/files/gastatements/77/tz_en.pdf',\n",
       "  'languages': ['English']},\n",
       " 'United States of America': {'en_link': 'https://gadebate.un.org/sites/default/files/gastatements/77/us_en.pdf',\n",
       "  'languages': ['English']},\n",
       " 'Uruguay': {'en_link': None, 'languages': ['Spanish']},\n",
       " 'Uzbekistan': {'en_link': 'https://gadebate.un.org/sites/default/files/gastatements/77/uz_en.pdf',\n",
       "  'languages': ['English']},\n",
       " 'Vanuatu': {'en_link': 'https://gadebate.un.org/sites/default/files/gastatements/77/vu_en.pdf',\n",
       "  'languages': ['English']},\n",
       " 'Venezuela (Bolivarian Republic of)': {'en_link': None,\n",
       "  'languages': ['Spanish']},\n",
       " 'Viet Nam': {'en_link': 'https://gadebate.un.org/sites/default/files/gastatements/77/vn_en.pdf',\n",
       "  'languages': ['English']},\n",
       " 'Yemen': {'en_link': None, 'languages': ['Arabic']},\n",
       " 'Zambia': {'en_link': 'https://gadebate.un.org/sites/default/files/gastatements/77/zm_en.pdf',\n",
       "  'languages': ['English']},\n",
       " 'Zimbabwe': {'en_link': 'https://gadebate.un.org/sites/default/files/gastatements/77/zw_en.pdf',\n",
       "  'languages': ['English']}}"
      ]
     },
     "execution_count": 149,
     "metadata": {},
     "output_type": "execute_result"
    }
   ],
   "source": [
    "data"
   ]
  },
  {
   "cell_type": "code",
   "execution_count": 76,
   "id": "65f5adf2",
   "metadata": {},
   "outputs": [],
   "source": [
    "document_elements =  driver.find_element(By.CLASS_NAME, 'statement-documents-list')\n",
    "a_elements = document_elements.find_elements(By.TAG_NAME, 'a')\n",
    "\n",
    "for element in a_elements:\n",
    "    if 'English' in element.text:\n",
    "        data[country] = element.get_attribute('href')\n",
    "\n",
    "driver.get(\"https://gadebate.un.org/en\")"
   ]
  },
  {
   "cell_type": "code",
   "execution_count": 71,
   "id": "a99cc089",
   "metadata": {},
   "outputs": [],
   "source": [
    "a_elements = document_elements.find_elements(By.TAG_NAME, 'a')"
   ]
  },
  {
   "cell_type": "code",
   "execution_count": 72,
   "id": "40fe3f24",
   "metadata": {},
   "outputs": [
    {
     "data": {
      "text/plain": [
       "'https://gadebate.un.org/sites/default/files/gastatements/77/ar_es.pdf'"
      ]
     },
     "execution_count": 72,
     "metadata": {},
     "output_type": "execute_result"
    }
   ],
   "source": [
    "a_elements[0].get_attribute('href')"
   ]
  },
  {
   "cell_type": "code",
   "execution_count": null,
   "id": "de25e6b0",
   "metadata": {},
   "outputs": [],
   "source": []
  },
  {
   "cell_type": "code",
   "execution_count": 26,
   "id": "336b4b6d",
   "metadata": {},
   "outputs": [],
   "source": [
    "elements = driver.find_elements(By.CLASS_NAME, 'media-heading')"
   ]
  },
  {
   "cell_type": "code",
   "execution_count": null,
   "id": "09ab7d5d",
   "metadata": {},
   "outputs": [],
   "source": [
    "countries = []\n",
    "for element in elements:\n",
    "    element.find_element(By.TAG_NAME, 'a').get_attribute('href')"
   ]
  },
  {
   "cell_type": "code",
   "execution_count": 31,
   "id": "080ce837",
   "metadata": {},
   "outputs": [
    {
     "data": {
      "text/plain": [
       "'https://gadebate.un.org/en/77/suriname'"
      ]
     },
     "execution_count": 31,
     "metadata": {},
     "output_type": "execute_result"
    }
   ],
   "source": [
    "elements[5].find_element(By.TAG_NAME, 'a').get_attribute('href')"
   ]
  },
  {
   "cell_type": "code",
   "execution_count": null,
   "id": "53ef6c64",
   "metadata": {},
   "outputs": [],
   "source": [
    "element = driver.find_element_by_name(\"LOGINBUTTON\").click();"
   ]
  }
 ],
 "metadata": {
  "kernelspec": {
   "display_name": "Python 3 (ipykernel)",
   "language": "python",
   "name": "python3"
  },
  "language_info": {
   "codemirror_mode": {
    "name": "ipython",
    "version": 3
   },
   "file_extension": ".py",
   "mimetype": "text/x-python",
   "name": "python",
   "nbconvert_exporter": "python",
   "pygments_lexer": "ipython3",
   "version": "3.9.12"
  }
 },
 "nbformat": 4,
 "nbformat_minor": 5
}
