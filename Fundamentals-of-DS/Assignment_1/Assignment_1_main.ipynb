{
 "cells": [
  {
   "cell_type": "code",
   "execution_count": 1,
   "id": "9eed689b",
   "metadata": {},
   "outputs": [],
   "source": [
    "import os\n",
    "import numpy as np\n",
    "import pandas as pd"
   ]
  },
  {
   "cell_type": "markdown",
   "id": "0b0da21d",
   "metadata": {},
   "source": [
    "### UN General Debates"
   ]
  },
  {
   "cell_type": "code",
   "execution_count": 2,
   "id": "37ee8bbc",
   "metadata": {},
   "outputs": [
    {
     "data": {
      "text/html": [
       "<div>\n",
       "<style scoped>\n",
       "    .dataframe tbody tr th:only-of-type {\n",
       "        vertical-align: middle;\n",
       "    }\n",
       "\n",
       "    .dataframe tbody tr th {\n",
       "        vertical-align: top;\n",
       "    }\n",
       "\n",
       "    .dataframe thead th {\n",
       "        text-align: right;\n",
       "    }\n",
       "</style>\n",
       "<table border=\"1\" class=\"dataframe\">\n",
       "  <thead>\n",
       "    <tr style=\"text-align: right;\">\n",
       "      <th></th>\n",
       "      <th>Session</th>\n",
       "      <th>Year</th>\n",
       "      <th>ISO-alpha3 Code</th>\n",
       "      <th>Speech</th>\n",
       "    </tr>\n",
       "  </thead>\n",
       "  <tbody>\n",
       "    <tr>\n",
       "      <th>8527</th>\n",
       "      <td>75</td>\n",
       "      <td>2020</td>\n",
       "      <td>WSM</td>\n",
       "      <td>Mr. President,\\nDistinguished delegates,\\nLadi...</td>\n",
       "    </tr>\n",
       "    <tr>\n",
       "      <th>8528</th>\n",
       "      <td>75</td>\n",
       "      <td>2020</td>\n",
       "      <td>YEM</td>\n",
       "      <td>In the name of God the Merciful and the Compas...</td>\n",
       "    </tr>\n",
       "    <tr>\n",
       "      <th>8529</th>\n",
       "      <td>75</td>\n",
       "      <td>2020</td>\n",
       "      <td>ZAF</td>\n",
       "      <td>President of the General Assembly, Secretary-G...</td>\n",
       "    </tr>\n",
       "    <tr>\n",
       "      <th>8530</th>\n",
       "      <td>75</td>\n",
       "      <td>2020</td>\n",
       "      <td>ZMB</td>\n",
       "      <td>Your excellency Mr. Volkan Bozkir, President o...</td>\n",
       "    </tr>\n",
       "    <tr>\n",
       "      <th>8531</th>\n",
       "      <td>75</td>\n",
       "      <td>2020</td>\n",
       "      <td>ZWE</td>\n",
       "      <td>Your Excellency, Ambassador Volkan Bozkir, Pre...</td>\n",
       "    </tr>\n",
       "  </tbody>\n",
       "</table>\n",
       "</div>"
      ],
      "text/plain": [
       "      Session  Year ISO-alpha3 Code  \\\n",
       "8527       75  2020             WSM   \n",
       "8528       75  2020             YEM   \n",
       "8529       75  2020             ZAF   \n",
       "8530       75  2020             ZMB   \n",
       "8531       75  2020             ZWE   \n",
       "\n",
       "                                                 Speech  \n",
       "8527  Mr. President,\\nDistinguished delegates,\\nLadi...  \n",
       "8528  In the name of God the Merciful and the Compas...  \n",
       "8529  President of the General Assembly, Secretary-G...  \n",
       "8530  Your excellency Mr. Volkan Bozkir, President o...  \n",
       "8531  Your Excellency, Ambassador Volkan Bozkir, Pre...  "
      ]
     },
     "execution_count": 2,
     "metadata": {},
     "output_type": "execute_result"
    }
   ],
   "source": [
    "sessions = np.arange(25, 76)\n",
    "data=[]\n",
    "\n",
    "for session in sessions:\n",
    "    directory = \"./gd_main_data/TXT/Session \"+str(session)+\" - \"+str(1945+session)\n",
    "    for filename in os.listdir(directory):\n",
    "        f = open(os.path.join(directory, filename), encoding=\"utf8\")\n",
    "        if filename[0]==\".\": #ignore hidden files\n",
    "            continue\n",
    "        splt = filename.split(\"_\")\n",
    "        data.append([session, 1945+session, splt[0], f.read()])\n",
    "\n",
    "    \n",
    "# Debates data from 197x to 2020\n",
    "df_speech = pd.DataFrame(data, columns=['Session','Year','ISO-alpha3 Code','Speech'])\n",
    "\n",
    "df_speech.tail()"
   ]
  },
  {
   "cell_type": "code",
   "execution_count": 3,
   "id": "cd99675b",
   "metadata": {},
   "outputs": [
    {
     "data": {
      "text/html": [
       "<div>\n",
       "<style scoped>\n",
       "    .dataframe tbody tr th:only-of-type {\n",
       "        vertical-align: middle;\n",
       "    }\n",
       "\n",
       "    .dataframe tbody tr th {\n",
       "        vertical-align: top;\n",
       "    }\n",
       "\n",
       "    .dataframe thead th {\n",
       "        text-align: right;\n",
       "    }\n",
       "</style>\n",
       "<table border=\"1\" class=\"dataframe\">\n",
       "  <thead>\n",
       "    <tr style=\"text-align: right;\">\n",
       "      <th></th>\n",
       "      <th>Session</th>\n",
       "      <th>Year</th>\n",
       "      <th>ISO-alpha3 Code</th>\n",
       "      <th>Speech</th>\n",
       "    </tr>\n",
       "  </thead>\n",
       "  <tbody>\n",
       "    <tr>\n",
       "      <th>0</th>\n",
       "      <td>25</td>\n",
       "      <td>1970</td>\n",
       "      <td>ALB</td>\n",
       "      <td>33: May I first convey to our President the co...</td>\n",
       "    </tr>\n",
       "    <tr>\n",
       "      <th>1</th>\n",
       "      <td>25</td>\n",
       "      <td>1970</td>\n",
       "      <td>ARG</td>\n",
       "      <td>177.\\t : It is a fortunate coincidence that pr...</td>\n",
       "    </tr>\n",
       "    <tr>\n",
       "      <th>2</th>\n",
       "      <td>25</td>\n",
       "      <td>1970</td>\n",
       "      <td>AUS</td>\n",
       "      <td>100.\\t  It is a pleasure for me to extend to y...</td>\n",
       "    </tr>\n",
       "    <tr>\n",
       "      <th>3</th>\n",
       "      <td>25</td>\n",
       "      <td>1970</td>\n",
       "      <td>AUT</td>\n",
       "      <td>155.\\t  May I begin by expressing to Ambassado...</td>\n",
       "    </tr>\n",
       "    <tr>\n",
       "      <th>4</th>\n",
       "      <td>25</td>\n",
       "      <td>1970</td>\n",
       "      <td>BEL</td>\n",
       "      <td>176. No doubt each of us, before coming up to ...</td>\n",
       "    </tr>\n",
       "    <tr>\n",
       "      <th>...</th>\n",
       "      <td>...</td>\n",
       "      <td>...</td>\n",
       "      <td>...</td>\n",
       "      <td>...</td>\n",
       "    </tr>\n",
       "    <tr>\n",
       "      <th>66</th>\n",
       "      <td>25</td>\n",
       "      <td>1970</td>\n",
       "      <td>USA</td>\n",
       "      <td>1.\\t It is my privilege to extend to you once ...</td>\n",
       "    </tr>\n",
       "    <tr>\n",
       "      <th>67</th>\n",
       "      <td>25</td>\n",
       "      <td>1970</td>\n",
       "      <td>VEN</td>\n",
       "      <td>Mr. President, on behalf of my Government may ...</td>\n",
       "    </tr>\n",
       "    <tr>\n",
       "      <th>68</th>\n",
       "      <td>25</td>\n",
       "      <td>1970</td>\n",
       "      <td>YUG</td>\n",
       "      <td>81.\\t  Mr. President, I should like to address...</td>\n",
       "    </tr>\n",
       "    <tr>\n",
       "      <th>69</th>\n",
       "      <td>25</td>\n",
       "      <td>1970</td>\n",
       "      <td>ZAF</td>\n",
       "      <td>1.   Mr President, my delegation has already e...</td>\n",
       "    </tr>\n",
       "    <tr>\n",
       "      <th>70</th>\n",
       "      <td>25</td>\n",
       "      <td>1970</td>\n",
       "      <td>ZMB</td>\n",
       "      <td>60.\\t Mr. President, I wish, first of all, to ...</td>\n",
       "    </tr>\n",
       "  </tbody>\n",
       "</table>\n",
       "<p>71 rows × 4 columns</p>\n",
       "</div>"
      ],
      "text/plain": [
       "    Session  Year ISO-alpha3 Code  \\\n",
       "0        25  1970             ALB   \n",
       "1        25  1970             ARG   \n",
       "2        25  1970             AUS   \n",
       "3        25  1970             AUT   \n",
       "4        25  1970             BEL   \n",
       "..      ...   ...             ...   \n",
       "66       25  1970             USA   \n",
       "67       25  1970             VEN   \n",
       "68       25  1970             YUG   \n",
       "69       25  1970             ZAF   \n",
       "70       25  1970             ZMB   \n",
       "\n",
       "                                               Speech  \n",
       "0   33: May I first convey to our President the co...  \n",
       "1   177.\\t : It is a fortunate coincidence that pr...  \n",
       "2   100.\\t  It is a pleasure for me to extend to y...  \n",
       "3   155.\\t  May I begin by expressing to Ambassado...  \n",
       "4   176. No doubt each of us, before coming up to ...  \n",
       "..                                                ...  \n",
       "66  1.\\t It is my privilege to extend to you once ...  \n",
       "67  Mr. President, on behalf of my Government may ...  \n",
       "68  81.\\t  Mr. President, I should like to address...  \n",
       "69  1.   Mr President, my delegation has already e...  \n",
       "70  60.\\t Mr. President, I wish, first of all, to ...  \n",
       "\n",
       "[71 rows x 4 columns]"
      ]
     },
     "execution_count": 3,
     "metadata": {},
     "output_type": "execute_result"
    }
   ],
   "source": [
    "df_speech[df_speech['Year'] == 1970]"
   ]
  },
  {
   "cell_type": "code",
   "execution_count": 4,
   "id": "4649da8b",
   "metadata": {},
   "outputs": [
    {
     "data": {
      "text/html": [
       "<div>\n",
       "<style scoped>\n",
       "    .dataframe tbody tr th:only-of-type {\n",
       "        vertical-align: middle;\n",
       "    }\n",
       "\n",
       "    .dataframe tbody tr th {\n",
       "        vertical-align: top;\n",
       "    }\n",
       "\n",
       "    .dataframe thead th {\n",
       "        text-align: right;\n",
       "    }\n",
       "</style>\n",
       "<table border=\"1\" class=\"dataframe\">\n",
       "  <thead>\n",
       "    <tr style=\"text-align: right;\">\n",
       "      <th></th>\n",
       "      <th>Global Code</th>\n",
       "      <th>Global Name</th>\n",
       "      <th>Region Code</th>\n",
       "      <th>Region Name</th>\n",
       "      <th>Sub-region Code</th>\n",
       "      <th>Sub-region Name</th>\n",
       "      <th>Intermediate Region Code</th>\n",
       "      <th>Intermediate Region Name</th>\n",
       "      <th>Country or Area</th>\n",
       "      <th>M49 Code</th>\n",
       "      <th>ISO-alpha2 Code</th>\n",
       "      <th>ISO-alpha3 Code</th>\n",
       "      <th>Least Developed Countries (LDC)</th>\n",
       "      <th>Land Locked Developing Countries (LLDC)</th>\n",
       "      <th>Small Island Developing States (SIDS)</th>\n",
       "    </tr>\n",
       "  </thead>\n",
       "  <tbody>\n",
       "    <tr>\n",
       "      <th>0</th>\n",
       "      <td>1</td>\n",
       "      <td>World</td>\n",
       "      <td>2.0</td>\n",
       "      <td>Africa</td>\n",
       "      <td>15.0</td>\n",
       "      <td>Northern Africa</td>\n",
       "      <td>NaN</td>\n",
       "      <td>NaN</td>\n",
       "      <td>Algeria</td>\n",
       "      <td>12</td>\n",
       "      <td>DZ</td>\n",
       "      <td>DZA</td>\n",
       "      <td>NaN</td>\n",
       "      <td>NaN</td>\n",
       "      <td>NaN</td>\n",
       "    </tr>\n",
       "    <tr>\n",
       "      <th>1</th>\n",
       "      <td>1</td>\n",
       "      <td>World</td>\n",
       "      <td>2.0</td>\n",
       "      <td>Africa</td>\n",
       "      <td>15.0</td>\n",
       "      <td>Northern Africa</td>\n",
       "      <td>NaN</td>\n",
       "      <td>NaN</td>\n",
       "      <td>Egypt</td>\n",
       "      <td>818</td>\n",
       "      <td>EG</td>\n",
       "      <td>EGY</td>\n",
       "      <td>NaN</td>\n",
       "      <td>NaN</td>\n",
       "      <td>NaN</td>\n",
       "    </tr>\n",
       "    <tr>\n",
       "      <th>2</th>\n",
       "      <td>1</td>\n",
       "      <td>World</td>\n",
       "      <td>2.0</td>\n",
       "      <td>Africa</td>\n",
       "      <td>15.0</td>\n",
       "      <td>Northern Africa</td>\n",
       "      <td>NaN</td>\n",
       "      <td>NaN</td>\n",
       "      <td>Libya</td>\n",
       "      <td>434</td>\n",
       "      <td>LY</td>\n",
       "      <td>LBY</td>\n",
       "      <td>NaN</td>\n",
       "      <td>NaN</td>\n",
       "      <td>NaN</td>\n",
       "    </tr>\n",
       "    <tr>\n",
       "      <th>3</th>\n",
       "      <td>1</td>\n",
       "      <td>World</td>\n",
       "      <td>2.0</td>\n",
       "      <td>Africa</td>\n",
       "      <td>15.0</td>\n",
       "      <td>Northern Africa</td>\n",
       "      <td>NaN</td>\n",
       "      <td>NaN</td>\n",
       "      <td>Morocco</td>\n",
       "      <td>504</td>\n",
       "      <td>MA</td>\n",
       "      <td>MAR</td>\n",
       "      <td>NaN</td>\n",
       "      <td>NaN</td>\n",
       "      <td>NaN</td>\n",
       "    </tr>\n",
       "    <tr>\n",
       "      <th>4</th>\n",
       "      <td>1</td>\n",
       "      <td>World</td>\n",
       "      <td>2.0</td>\n",
       "      <td>Africa</td>\n",
       "      <td>15.0</td>\n",
       "      <td>Northern Africa</td>\n",
       "      <td>NaN</td>\n",
       "      <td>NaN</td>\n",
       "      <td>Sudan</td>\n",
       "      <td>729</td>\n",
       "      <td>SD</td>\n",
       "      <td>SDN</td>\n",
       "      <td>x</td>\n",
       "      <td>NaN</td>\n",
       "      <td>NaN</td>\n",
       "    </tr>\n",
       "  </tbody>\n",
       "</table>\n",
       "</div>"
      ],
      "text/plain": [
       "   Global Code Global Name  Region Code Region Name  Sub-region Code  \\\n",
       "0            1       World          2.0      Africa             15.0   \n",
       "1            1       World          2.0      Africa             15.0   \n",
       "2            1       World          2.0      Africa             15.0   \n",
       "3            1       World          2.0      Africa             15.0   \n",
       "4            1       World          2.0      Africa             15.0   \n",
       "\n",
       "   Sub-region Name  Intermediate Region Code Intermediate Region Name  \\\n",
       "0  Northern Africa                       NaN                      NaN   \n",
       "1  Northern Africa                       NaN                      NaN   \n",
       "2  Northern Africa                       NaN                      NaN   \n",
       "3  Northern Africa                       NaN                      NaN   \n",
       "4  Northern Africa                       NaN                      NaN   \n",
       "\n",
       "  Country or Area  M49 Code ISO-alpha2 Code ISO-alpha3 Code  \\\n",
       "0         Algeria        12              DZ             DZA   \n",
       "1           Egypt       818              EG             EGY   \n",
       "2           Libya       434              LY             LBY   \n",
       "3         Morocco       504              MA             MAR   \n",
       "4           Sudan       729              SD             SDN   \n",
       "\n",
       "  Least Developed Countries (LDC) Land Locked Developing Countries (LLDC)  \\\n",
       "0                             NaN                                     NaN   \n",
       "1                             NaN                                     NaN   \n",
       "2                             NaN                                     NaN   \n",
       "3                             NaN                                     NaN   \n",
       "4                               x                                     NaN   \n",
       "\n",
       "  Small Island Developing States (SIDS)  \n",
       "0                                   NaN  \n",
       "1                                   NaN  \n",
       "2                                   NaN  \n",
       "3                                   NaN  \n",
       "4                                   NaN  "
      ]
     },
     "execution_count": 4,
     "metadata": {},
     "output_type": "execute_result"
    }
   ],
   "source": [
    "df_codes = pd.read_csv('UNSD — Methodology.csv', sep=\";\") # .dropna(axis=1)\n",
    "df_codes.head()"
   ]
  },
  {
   "cell_type": "code",
   "execution_count": null,
   "id": "8e96ba8b",
   "metadata": {},
   "outputs": [],
   "source": []
  },
  {
   "cell_type": "markdown",
   "id": "fa98ba79",
   "metadata": {},
   "source": [
    "### World Happiness Report"
   ]
  },
  {
   "cell_type": "code",
   "execution_count": 5,
   "id": "c82caafc",
   "metadata": {},
   "outputs": [
    {
     "data": {
      "text/html": [
       "<div>\n",
       "<style scoped>\n",
       "    .dataframe tbody tr th:only-of-type {\n",
       "        vertical-align: middle;\n",
       "    }\n",
       "\n",
       "    .dataframe tbody tr th {\n",
       "        vertical-align: top;\n",
       "    }\n",
       "\n",
       "    .dataframe thead th {\n",
       "        text-align: right;\n",
       "    }\n",
       "</style>\n",
       "<table border=\"1\" class=\"dataframe\">\n",
       "  <thead>\n",
       "    <tr style=\"text-align: right;\">\n",
       "      <th></th>\n",
       "      <th></th>\n",
       "      <th>Life Ladder</th>\n",
       "      <th>Log GDP per capita</th>\n",
       "      <th>Social support</th>\n",
       "      <th>Healthy life expectancy at birth</th>\n",
       "      <th>Freedom to make life choices</th>\n",
       "      <th>Generosity</th>\n",
       "      <th>Perceptions of corruption</th>\n",
       "      <th>Positive affect</th>\n",
       "      <th>Negative affect</th>\n",
       "      <th>Confidence in national government</th>\n",
       "    </tr>\n",
       "    <tr>\n",
       "      <th>Country name</th>\n",
       "      <th>year</th>\n",
       "      <th></th>\n",
       "      <th></th>\n",
       "      <th></th>\n",
       "      <th></th>\n",
       "      <th></th>\n",
       "      <th></th>\n",
       "      <th></th>\n",
       "      <th></th>\n",
       "      <th></th>\n",
       "      <th></th>\n",
       "    </tr>\n",
       "  </thead>\n",
       "  <tbody>\n",
       "    <tr>\n",
       "      <th rowspan=\"5\" valign=\"top\">Afghanistan</th>\n",
       "      <th>2008</th>\n",
       "      <td>3.723590</td>\n",
       "      <td>7.302574</td>\n",
       "      <td>0.450662</td>\n",
       "      <td>50.500000</td>\n",
       "      <td>0.718114</td>\n",
       "      <td>0.173169</td>\n",
       "      <td>0.881686</td>\n",
       "      <td>0.414297</td>\n",
       "      <td>0.258195</td>\n",
       "      <td>0.612072</td>\n",
       "    </tr>\n",
       "    <tr>\n",
       "      <th>2009</th>\n",
       "      <td>4.401778</td>\n",
       "      <td>7.472446</td>\n",
       "      <td>0.552308</td>\n",
       "      <td>50.799999</td>\n",
       "      <td>0.678896</td>\n",
       "      <td>0.195469</td>\n",
       "      <td>0.850035</td>\n",
       "      <td>0.481421</td>\n",
       "      <td>0.237092</td>\n",
       "      <td>0.611545</td>\n",
       "    </tr>\n",
       "    <tr>\n",
       "      <th>2010</th>\n",
       "      <td>4.758381</td>\n",
       "      <td>7.579183</td>\n",
       "      <td>0.539075</td>\n",
       "      <td>51.099998</td>\n",
       "      <td>0.600127</td>\n",
       "      <td>0.125859</td>\n",
       "      <td>0.706766</td>\n",
       "      <td>0.516907</td>\n",
       "      <td>0.275324</td>\n",
       "      <td>0.299357</td>\n",
       "    </tr>\n",
       "    <tr>\n",
       "      <th>2011</th>\n",
       "      <td>3.831719</td>\n",
       "      <td>7.552006</td>\n",
       "      <td>0.521104</td>\n",
       "      <td>51.400002</td>\n",
       "      <td>0.495901</td>\n",
       "      <td>0.167723</td>\n",
       "      <td>0.731109</td>\n",
       "      <td>0.479835</td>\n",
       "      <td>0.267175</td>\n",
       "      <td>0.307386</td>\n",
       "    </tr>\n",
       "    <tr>\n",
       "      <th>2012</th>\n",
       "      <td>3.782938</td>\n",
       "      <td>7.637953</td>\n",
       "      <td>0.520637</td>\n",
       "      <td>51.700001</td>\n",
       "      <td>0.530935</td>\n",
       "      <td>0.241247</td>\n",
       "      <td>0.775620</td>\n",
       "      <td>0.613513</td>\n",
       "      <td>0.267919</td>\n",
       "      <td>0.435440</td>\n",
       "    </tr>\n",
       "  </tbody>\n",
       "</table>\n",
       "</div>"
      ],
      "text/plain": [
       "                   Life Ladder  Log GDP per capita  Social support  \\\n",
       "Country name year                                                    \n",
       "Afghanistan  2008     3.723590            7.302574        0.450662   \n",
       "             2009     4.401778            7.472446        0.552308   \n",
       "             2010     4.758381            7.579183        0.539075   \n",
       "             2011     3.831719            7.552006        0.521104   \n",
       "             2012     3.782938            7.637953        0.520637   \n",
       "\n",
       "                   Healthy life expectancy at birth  \\\n",
       "Country name year                                     \n",
       "Afghanistan  2008                         50.500000   \n",
       "             2009                         50.799999   \n",
       "             2010                         51.099998   \n",
       "             2011                         51.400002   \n",
       "             2012                         51.700001   \n",
       "\n",
       "                   Freedom to make life choices  Generosity  \\\n",
       "Country name year                                             \n",
       "Afghanistan  2008                      0.718114    0.173169   \n",
       "             2009                      0.678896    0.195469   \n",
       "             2010                      0.600127    0.125859   \n",
       "             2011                      0.495901    0.167723   \n",
       "             2012                      0.530935    0.241247   \n",
       "\n",
       "                   Perceptions of corruption  Positive affect  \\\n",
       "Country name year                                               \n",
       "Afghanistan  2008                   0.881686         0.414297   \n",
       "             2009                   0.850035         0.481421   \n",
       "             2010                   0.706766         0.516907   \n",
       "             2011                   0.731109         0.479835   \n",
       "             2012                   0.775620         0.613513   \n",
       "\n",
       "                   Negative affect  Confidence in national government  \n",
       "Country name year                                                      \n",
       "Afghanistan  2008         0.258195                           0.612072  \n",
       "             2009         0.237092                           0.611545  \n",
       "             2010         0.275324                           0.299357  \n",
       "             2011         0.267175                           0.307386  \n",
       "             2012         0.267919                           0.435440  "
      ]
     },
     "execution_count": 5,
     "metadata": {},
     "output_type": "execute_result"
    }
   ],
   "source": [
    "happiness_data = pd.read_excel('happiness_data/DataForTable2.1.xls', index_col=[0,1]) \n",
    "happiness_data.head()"
   ]
  },
  {
   "cell_type": "markdown",
   "id": "e8691dd0",
   "metadata": {},
   "source": [
    "### CEPII Trade Flows Data"
   ]
  },
  {
   "cell_type": "code",
   "execution_count": 6,
   "id": "7e35b979",
   "metadata": {},
   "outputs": [
    {
     "data": {
      "text/html": [
       "<div>\n",
       "<style scoped>\n",
       "    .dataframe tbody tr th:only-of-type {\n",
       "        vertical-align: middle;\n",
       "    }\n",
       "\n",
       "    .dataframe tbody tr th {\n",
       "        vertical-align: top;\n",
       "    }\n",
       "\n",
       "    .dataframe thead th {\n",
       "        text-align: right;\n",
       "    }\n",
       "</style>\n",
       "<table border=\"1\" class=\"dataframe\">\n",
       "  <thead>\n",
       "    <tr style=\"text-align: right;\">\n",
       "      <th></th>\n",
       "      <th>t</th>\n",
       "      <th>i</th>\n",
       "      <th>j</th>\n",
       "      <th>k</th>\n",
       "      <th>v</th>\n",
       "      <th>q</th>\n",
       "    </tr>\n",
       "  </thead>\n",
       "  <tbody>\n",
       "    <tr>\n",
       "      <th>0</th>\n",
       "      <td>2020</td>\n",
       "      <td>4</td>\n",
       "      <td>31</td>\n",
       "      <td>251512</td>\n",
       "      <td>27.426</td>\n",
       "      <td>169.800</td>\n",
       "    </tr>\n",
       "    <tr>\n",
       "      <th>1</th>\n",
       "      <td>2020</td>\n",
       "      <td>4</td>\n",
       "      <td>32</td>\n",
       "      <td>391000</td>\n",
       "      <td>0.044</td>\n",
       "      <td>0.009</td>\n",
       "    </tr>\n",
       "    <tr>\n",
       "      <th>2</th>\n",
       "      <td>2020</td>\n",
       "      <td>4</td>\n",
       "      <td>32</td>\n",
       "      <td>401010</td>\n",
       "      <td>0.164</td>\n",
       "      <td>NA</td>\n",
       "    </tr>\n",
       "    <tr>\n",
       "      <th>3</th>\n",
       "      <td>2020</td>\n",
       "      <td>4</td>\n",
       "      <td>32</td>\n",
       "      <td>610120</td>\n",
       "      <td>0.012</td>\n",
       "      <td>0.003</td>\n",
       "    </tr>\n",
       "    <tr>\n",
       "      <th>4</th>\n",
       "      <td>2020</td>\n",
       "      <td>4</td>\n",
       "      <td>36</td>\n",
       "      <td>71120</td>\n",
       "      <td>0.718</td>\n",
       "      <td>0.308</td>\n",
       "    </tr>\n",
       "  </tbody>\n",
       "</table>\n",
       "</div>"
      ],
      "text/plain": [
       "      t  i   j       k       v              q\n",
       "0  2020  4  31  251512  27.426        169.800\n",
       "1  2020  4  32  391000   0.044          0.009\n",
       "2  2020  4  32  401010   0.164             NA\n",
       "3  2020  4  32  610120   0.012          0.003\n",
       "4  2020  4  36   71120   0.718          0.308"
      ]
     },
     "execution_count": 6,
     "metadata": {},
     "output_type": "execute_result"
    }
   ],
   "source": [
    "trade_data = pd.read_csv('trade_data/BACI_HS92_Y2020_V202201.csv') \n",
    "trade_data.head()"
   ]
  },
  {
   "cell_type": "markdown",
   "id": "730dd479",
   "metadata": {},
   "source": [
    "t - Year\n",
    "\n",
    "k -\tProduct category (HS 6-digit code)\n",
    "\n",
    "i -\tExporter (ISO 3-digit country code)\n",
    "\n",
    "j -\tImporter (ISO 3-digit country code)\n",
    "\n",
    "v -\tValue of the trade flow (in thousands current USD)\n",
    "\n",
    "q -\tQuantity (in metric tons)"
   ]
  },
  {
   "cell_type": "markdown",
   "id": "971bec8e",
   "metadata": {},
   "source": [
    "More info about the dataset: http://www.cepii.fr/DATA_DOWNLOAD/baci/doc/DescriptionBACI.html (or here - http://www.cepii.fr/DATA_DOWNLOAD/TUV/doc/ReleaseNotes202104.pdf)"
   ]
  },
  {
   "cell_type": "code",
   "execution_count": 7,
   "id": "f194c91f",
   "metadata": {},
   "outputs": [
    {
     "data": {
      "text/html": [
       "<div>\n",
       "<style scoped>\n",
       "    .dataframe tbody tr th:only-of-type {\n",
       "        vertical-align: middle;\n",
       "    }\n",
       "\n",
       "    .dataframe tbody tr th {\n",
       "        vertical-align: top;\n",
       "    }\n",
       "\n",
       "    .dataframe thead th {\n",
       "        text-align: right;\n",
       "    }\n",
       "</style>\n",
       "<table border=\"1\" class=\"dataframe\">\n",
       "  <thead>\n",
       "    <tr style=\"text-align: right;\">\n",
       "      <th></th>\n",
       "      <th>country_code</th>\n",
       "      <th>country_name_abbreviation</th>\n",
       "      <th>country_name_full</th>\n",
       "      <th>iso_2digit_alpha</th>\n",
       "      <th>iso_3digit_alpha</th>\n",
       "    </tr>\n",
       "  </thead>\n",
       "  <tbody>\n",
       "    <tr>\n",
       "      <th>0</th>\n",
       "      <td>4</td>\n",
       "      <td>Afghanistan</td>\n",
       "      <td>Afghanistan</td>\n",
       "      <td>AF</td>\n",
       "      <td>AFG</td>\n",
       "    </tr>\n",
       "    <tr>\n",
       "      <th>1</th>\n",
       "      <td>8</td>\n",
       "      <td>Albania</td>\n",
       "      <td>Albania</td>\n",
       "      <td>AL</td>\n",
       "      <td>ALB</td>\n",
       "    </tr>\n",
       "    <tr>\n",
       "      <th>2</th>\n",
       "      <td>12</td>\n",
       "      <td>Algeria</td>\n",
       "      <td>Algeria</td>\n",
       "      <td>DZ</td>\n",
       "      <td>DZA</td>\n",
       "    </tr>\n",
       "    <tr>\n",
       "      <th>3</th>\n",
       "      <td>16</td>\n",
       "      <td>American Samoa</td>\n",
       "      <td>American Samoa</td>\n",
       "      <td>AS</td>\n",
       "      <td>ASM</td>\n",
       "    </tr>\n",
       "    <tr>\n",
       "      <th>4</th>\n",
       "      <td>20</td>\n",
       "      <td>Andorra</td>\n",
       "      <td>Andorra</td>\n",
       "      <td>AD</td>\n",
       "      <td>AND</td>\n",
       "    </tr>\n",
       "  </tbody>\n",
       "</table>\n",
       "</div>"
      ],
      "text/plain": [
       "   country_code country_name_abbreviation country_name_full iso_2digit_alpha  \\\n",
       "0             4               Afghanistan       Afghanistan               AF   \n",
       "1             8                   Albania           Albania               AL   \n",
       "2            12                   Algeria           Algeria               DZ   \n",
       "3            16            American Samoa    American Samoa               AS   \n",
       "4            20                   Andorra           Andorra               AD   \n",
       "\n",
       "  iso_3digit_alpha  \n",
       "0              AFG  \n",
       "1              ALB  \n",
       "2              DZA  \n",
       "3              ASM  \n",
       "4              AND  "
      ]
     },
     "execution_count": 7,
     "metadata": {},
     "output_type": "execute_result"
    }
   ],
   "source": [
    "countryCodes = pd.read_csv(\"trade_data/country_codes_V202201.csv\", encoding='iso-8859-1')\n",
    "countryCodes.head()"
   ]
  },
  {
   "cell_type": "code",
   "execution_count": 8,
   "id": "83f9dd6b",
   "metadata": {},
   "outputs": [
    {
     "data": {
      "text/html": [
       "<div>\n",
       "<style scoped>\n",
       "    .dataframe tbody tr th:only-of-type {\n",
       "        vertical-align: middle;\n",
       "    }\n",
       "\n",
       "    .dataframe tbody tr th {\n",
       "        vertical-align: top;\n",
       "    }\n",
       "\n",
       "    .dataframe thead th {\n",
       "        text-align: right;\n",
       "    }\n",
       "</style>\n",
       "<table border=\"1\" class=\"dataframe\">\n",
       "  <thead>\n",
       "    <tr style=\"text-align: right;\">\n",
       "      <th></th>\n",
       "      <th>code</th>\n",
       "      <th>description</th>\n",
       "    </tr>\n",
       "  </thead>\n",
       "  <tbody>\n",
       "    <tr>\n",
       "      <th>0</th>\n",
       "      <td>010111</td>\n",
       "      <td>Horses: live, pure-bred breeding animals</td>\n",
       "    </tr>\n",
       "    <tr>\n",
       "      <th>1</th>\n",
       "      <td>010119</td>\n",
       "      <td>Horses: live, other than pure-bred breeding an...</td>\n",
       "    </tr>\n",
       "    <tr>\n",
       "      <th>2</th>\n",
       "      <td>010120</td>\n",
       "      <td>Asses, mules and hinnies: live</td>\n",
       "    </tr>\n",
       "    <tr>\n",
       "      <th>3</th>\n",
       "      <td>010210</td>\n",
       "      <td>Bovine animals: live, pure-bred breeding animals</td>\n",
       "    </tr>\n",
       "    <tr>\n",
       "      <th>4</th>\n",
       "      <td>010290</td>\n",
       "      <td>Bovine animals: live, other than pure-bred bre...</td>\n",
       "    </tr>\n",
       "  </tbody>\n",
       "</table>\n",
       "</div>"
      ],
      "text/plain": [
       "     code                                        description\n",
       "0  010111           Horses: live, pure-bred breeding animals\n",
       "1  010119  Horses: live, other than pure-bred breeding an...\n",
       "2  010120                     Asses, mules and hinnies: live\n",
       "3  010210   Bovine animals: live, pure-bred breeding animals\n",
       "4  010290  Bovine animals: live, other than pure-bred bre..."
      ]
     },
     "execution_count": 8,
     "metadata": {},
     "output_type": "execute_result"
    }
   ],
   "source": [
    "productCodes = pd.read_csv(\"trade_data/product_codes_HS92_V202201.csv\", encoding='iso-8859-1')\n",
    "productCodes.head()"
   ]
  },
  {
   "cell_type": "markdown",
   "id": "5214deb5",
   "metadata": {},
   "source": [
    "# Predictive part"
   ]
  },
  {
   "cell_type": "code",
   "execution_count": 9,
   "id": "a0141d42",
   "metadata": {},
   "outputs": [],
   "source": [
    "from sklearn.metrics import f1_score, roc_auc_score, accuracy_score"
   ]
  },
  {
   "cell_type": "code",
   "execution_count": 35,
   "id": "afc2515e",
   "metadata": {},
   "outputs": [],
   "source": [
    "import re\n",
    "\n",
    "def clear_text(text):\n",
    "    text_tmp = re.sub(r\"\\b\\d{1,2}\\b|(\\n)|(\\t)|[\\x00-\\x08\\x0b\\x0c\\x0e-\\x1f\\x7f-\\xff]+\", \"\", text)\n",
    "#    text_tmp = re.sub('[^0-9a-zA-Z]+', ' ', text_tmp)\n",
    "    begin_with = text_tmp.find('President')\n",
    "    return text_tmp"
   ]
  },
  {
   "cell_type": "code",
   "execution_count": 36,
   "id": "af5f8a49",
   "metadata": {},
   "outputs": [],
   "source": [
    "GD_21, GD_22 = pd.read_csv('GD_21_preprocessed.csv', index_col=0).dropna(), pd.read_csv('GD_22_preprocessed.csv', index_col=0).dropna()"
   ]
  },
  {
   "cell_type": "code",
   "execution_count": 37,
   "id": "e78d3e1f",
   "metadata": {},
   "outputs": [
    {
     "name": "stderr",
     "output_type": "stream",
     "text": [
      "C:\\Users\\Eighonet Aerta\\AppData\\Local\\Temp\\ipykernel_15700\\4000231814.py:1: FutureWarning: The frame.append method is deprecated and will be removed from pandas in a future version. Use pandas.concat instead.\n",
      "  df_speech_extended = df_speech.append(GD_21.append(GD_22)).reset_index(drop=True)[[\"ISO-alpha3 Code\", \"Year\", \"Speech\"]]\n",
      "C:\\Users\\Eighonet Aerta\\AppData\\Local\\Temp\\ipykernel_15700\\4000231814.py:1: FutureWarning: The frame.append method is deprecated and will be removed from pandas in a future version. Use pandas.concat instead.\n",
      "  df_speech_extended = df_speech.append(GD_21.append(GD_22)).reset_index(drop=True)[[\"ISO-alpha3 Code\", \"Year\", \"Speech\"]]\n"
     ]
    }
   ],
   "source": [
    "df_speech_extended = df_speech.append(GD_21.append(GD_22)).reset_index(drop=True)[[\"ISO-alpha3 Code\", \"Year\", \"Speech\"]]"
   ]
  },
  {
   "cell_type": "code",
   "execution_count": 80,
   "id": "40be25c0",
   "metadata": {},
   "outputs": [],
   "source": [
    "df_un_merged = pd.merge(left=df_codes, right=df_speech_extended)[[\"Region Name\", \"Year\", \"Speech\"]]\n",
    "df_un_merged.Speech = df_un_merged.Speech.apply(lambda x: clear_text(x))"
   ]
  },
  {
   "cell_type": "code",
   "execution_count": 82,
   "id": "4d0a02d6",
   "metadata": {},
   "outputs": [],
   "source": [
    "def random_split(text, test_size:int = 0.3):\n",
    "    return train_test_split(text, test_size=test_size)\n",
    "\n",
    "def temporal_split(text, split_year:int = 2008):\n",
    "    return df_un_merged[df_un_merged[\"Year\"] < split_year], df_un_merged[df_un_merged[\"Year\"] >= split_year]\n",
    "\n",
    "def division(data):\n",
    "    return data[\"Speech\"], data[\"Region Name\"]"
   ]
  },
  {
   "cell_type": "code",
   "execution_count": 83,
   "id": "4a22dbe4",
   "metadata": {},
   "outputs": [],
   "source": [
    "splits = [random_split, temporal_split]"
   ]
  },
  {
   "cell_type": "code",
   "execution_count": 84,
   "id": "4d3e5342",
   "metadata": {},
   "outputs": [],
   "source": [
    "#vectorizers = (CountVectorizer(), tf_idf(norm = None), make_pipeline(tf_idf(norm = None), StandardScaler(with_mean=False)))\n",
    "vectorizers = (CountVectorizer(stop_words='english'),\\\n",
    "               tf_idf(stop_words='english', norm = None),\\\n",
    "               tf_idf(stop_words='english', norm = 'l1'),\\\n",
    "               tf_idf(stop_words='english', norm = 'l2'))"
   ]
  },
  {
   "cell_type": "code",
   "execution_count": 85,
   "id": "04c27db1",
   "metadata": {},
   "outputs": [],
   "source": [
    "from sklearn.pipeline import make_pipeline\n",
    "from sklearn.preprocessing import StandardScaler"
   ]
  },
  {
   "cell_type": "code",
   "execution_count": 86,
   "id": "674062e8",
   "metadata": {},
   "outputs": [
    {
     "name": "stderr",
     "output_type": "stream",
     "text": [
      "  0%|                                                                                            | 0/5 [00:00<?, ?it/s]\n",
      "  0%|                                                                                            | 0/2 [00:00<?, ?it/s]\u001b[AC:\\Apps\\Anaconda\\lib\\site-packages\\sklearn\\naive_bayes.py:555: UserWarning: alpha too small will result in numeric errors, setting alpha = 1.0e-10\n",
      "  warnings.warn(\n",
      "C:\\Apps\\Anaconda\\lib\\site-packages\\sklearn\\naive_bayes.py:555: UserWarning: alpha too small will result in numeric errors, setting alpha = 1.0e-10\n",
      "  warnings.warn(\n",
      "C:\\Apps\\Anaconda\\lib\\site-packages\\sklearn\\naive_bayes.py:555: UserWarning: alpha too small will result in numeric errors, setting alpha = 1.0e-10\n",
      "  warnings.warn(\n",
      "C:\\Apps\\Anaconda\\lib\\site-packages\\sklearn\\naive_bayes.py:555: UserWarning: alpha too small will result in numeric errors, setting alpha = 1.0e-10\n",
      "  warnings.warn(\n",
      "\n",
      " 50%|██████████████████████████████████████████                                          | 1/2 [00:43<00:43, 43.85s/it]\u001b[AC:\\Apps\\Anaconda\\lib\\site-packages\\sklearn\\naive_bayes.py:555: UserWarning: alpha too small will result in numeric errors, setting alpha = 1.0e-10\n",
      "  warnings.warn(\n",
      "C:\\Apps\\Anaconda\\lib\\site-packages\\sklearn\\naive_bayes.py:555: UserWarning: alpha too small will result in numeric errors, setting alpha = 1.0e-10\n",
      "  warnings.warn(\n",
      "C:\\Apps\\Anaconda\\lib\\site-packages\\sklearn\\naive_bayes.py:555: UserWarning: alpha too small will result in numeric errors, setting alpha = 1.0e-10\n",
      "  warnings.warn(\n",
      "C:\\Apps\\Anaconda\\lib\\site-packages\\sklearn\\naive_bayes.py:555: UserWarning: alpha too small will result in numeric errors, setting alpha = 1.0e-10\n",
      "  warnings.warn(\n",
      "\n",
      "100%|████████████████████████████████████████████████████████████████████████████████████| 2/2 [01:25<00:00, 42.94s/it]\u001b[A\n",
      " 20%|████████████████▊                                                                   | 1/5 [01:25<05:43, 85.87s/it]\n",
      "  0%|                                                                                            | 0/2 [00:00<?, ?it/s]\u001b[A\n",
      " 50%|██████████████████████████████████████████                                          | 1/2 [00:43<00:43, 43.32s/it]\u001b[A\n",
      "100%|████████████████████████████████████████████████████████████████████████████████████| 2/2 [01:26<00:00, 43.32s/it]\u001b[A\n",
      " 40%|█████████████████████████████████▌                                                  | 2/5 [02:52<04:18, 86.33s/it]\n",
      "  0%|                                                                                            | 0/2 [00:00<?, ?it/s]\u001b[A\n",
      " 50%|██████████████████████████████████████████                                          | 1/2 [00:41<00:41, 41.74s/it]\u001b[A\n",
      "100%|████████████████████████████████████████████████████████████████████████████████████| 2/2 [01:25<00:00, 42.82s/it]\u001b[A\n",
      " 60%|██████████████████████████████████████████████████▍                                 | 3/5 [04:18<02:52, 86.02s/it]\n",
      "  0%|                                                                                            | 0/2 [00:00<?, ?it/s]\u001b[A\n",
      " 50%|██████████████████████████████████████████                                          | 1/2 [00:43<00:43, 43.19s/it]\u001b[A\n",
      "100%|████████████████████████████████████████████████████████████████████████████████████| 2/2 [01:26<00:00, 43.28s/it]\u001b[A\n",
      " 80%|███████████████████████████████████████████████████████████████████▏                | 4/5 [05:44<01:26, 86.23s/it]\n",
      "  0%|                                                                                            | 0/2 [00:00<?, ?it/s]\u001b[A\n",
      " 50%|██████████████████████████████████████████                                          | 1/2 [00:43<00:43, 43.86s/it]\u001b[A\n",
      "100%|████████████████████████████████████████████████████████████████████████████████████| 2/2 [01:28<00:00, 44.34s/it]\u001b[A\n",
      "100%|████████████████████████████████████████████████████████████████████████████████████| 5/5 [07:13<00:00, 86.68s/it]\n"
     ]
    }
   ],
   "source": [
    "from random import seed\n",
    "from sklearn.model_selection import train_test_split\n",
    "from sklearn.naive_bayes import MultinomialNB\n",
    "from sklearn.linear_model import LogisticRegression\n",
    "from sklearn.feature_extraction.text import CountVectorizer\n",
    "from sklearn.preprocessing import LabelBinarizer\n",
    "\n",
    "from tqdm import tqdm\n",
    "\n",
    "metrics = []\n",
    "for alpha in tqdm(range(0,5)):\n",
    "    for split in tqdm(splits):\n",
    "        for vectorizer in vectorizers:\n",
    "            train, test = split(df_un_merged)\n",
    "\n",
    "            x_train, y_train = division(train)\n",
    "            x_test, y_test = division(test)\n",
    "\n",
    "            countVect, label_binarizer = vectorizer, LabelBinarizer()\n",
    "            nb = MultinomialNB(alpha=alpha)\n",
    "\n",
    "            x_train_counts = countVect.fit_transform(x_train)\n",
    "            x_test_counts = countVect.transform(x_test)\n",
    "\n",
    "            clf = nb.fit(x_train_counts, y_train)\n",
    "            pred = clf.predict(x_test_counts)\n",
    "\n",
    "            metrics.append([accuracy_score(y_test, pred),\\\n",
    "                            f1_score(y_test, pred, average='macro'),\\\n",
    "                            roc_auc_score(label_binarizer.fit_transform(y_test), label_binarizer.fit_transform(pred))])\n",
    "\n",
    "        # pd.DataFrame(metrics, index=[\"Random\", \"Temporal\"], columns=[\"Accuracy\", \"F1_macro\", \"ROC AUC\"])"
   ]
  },
  {
   "cell_type": "code",
   "execution_count": null,
   "id": "d8416ca8",
   "metadata": {},
   "outputs": [],
   "source": []
  },
  {
   "cell_type": "code",
   "execution_count": null,
   "id": "4d662d4d",
   "metadata": {},
   "outputs": [],
   "source": []
  },
  {
   "cell_type": "code",
   "execution_count": null,
   "id": "adb0a123",
   "metadata": {},
   "outputs": [],
   "source": []
  },
  {
   "cell_type": "code",
   "execution_count": 87,
   "id": "7ec8880e",
   "metadata": {},
   "outputs": [],
   "source": [
    "iterables = [[i for i in range(0, 5)], [\"Random\", \"Temporal\"], [\"DTM\", \"Tfidf\", \"Tfidf(L1)\", \"Tfidf(L2)\"]]\n",
    "\n",
    "index = pd.MultiIndex.from_product(iterables, names=[\"Alpha\", \"Split\", \"Vectorization\"])\n",
    "\n",
    "pd.DataFrame(metrics, index=index, columns=[\"Accuracy\", \"F1_macro\", \"ROC AUC\"]).to_csv(\"NB.csv\")"
   ]
  },
  {
   "cell_type": "code",
   "execution_count": 76,
   "id": "a2f70b9d",
   "metadata": {},
   "outputs": [],
   "source": [
    "iterables = [[i for i in range(0, 5)], [\"Random\", \"Temporal\"], [\"DTM\", \"Tfidf\", \"Tfidf(L1)\", \"Tfidf(L2)\"]]\n",
    "\n",
    "index = pd.MultiIndex.from_product(iterables, names=[\"Alpha\", \"Split\", \"Vectorization\"])\n",
    "\n",
    "pd.DataFrame(metrics, index=index, columns=[\"Accuracy\", \"F1_macro\", \"ROC AUC\"]).to_csv(\"NB_standard_stop_lower.csv\")"
   ]
  },
  {
   "cell_type": "markdown",
   "id": "9ab9f820",
   "metadata": {},
   "source": [
    "## Confusion matrices"
   ]
  },
  {
   "cell_type": "code",
   "execution_count": 547,
   "id": "31560fb7",
   "metadata": {},
   "outputs": [],
   "source": [
    "LR_data_stop_lower = pd.read_csv('LR_standard_stop_lower.csv')\n",
    "LR_data_stop = pd.read_csv('LR_standard_stop.csv')\n",
    "LR_data = pd.read_csv('LR_standard.csv')\n",
    "\n",
    "NB_data_stop_lower = pd.read_csv('NB_standard_stop_lower.csv')\n",
    "NB_data_stop = pd.read_csv('NB_standard_stop.csv')\n",
    "NB_data = pd.read_csv('NB_standard.csv')"
   ]
  },
  {
   "cell_type": "code",
   "execution_count": 552,
   "id": "c58132c1",
   "metadata": {},
   "outputs": [],
   "source": [
    "data = NB_data_stop_lower\n",
    "vect = 'Tfidf'\n",
    "metric = 'F1_macro'"
   ]
  },
  {
   "cell_type": "code",
   "execution_count": 550,
   "id": "fd7440b5",
   "metadata": {},
   "outputs": [
    {
     "data": {
      "text/html": [
       "<div>\n",
       "<style scoped>\n",
       "    .dataframe tbody tr th:only-of-type {\n",
       "        vertical-align: middle;\n",
       "    }\n",
       "\n",
       "    .dataframe tbody tr th {\n",
       "        vertical-align: top;\n",
       "    }\n",
       "\n",
       "    .dataframe thead th {\n",
       "        text-align: right;\n",
       "    }\n",
       "</style>\n",
       "<table border=\"1\" class=\"dataframe\">\n",
       "  <thead>\n",
       "    <tr style=\"text-align: right;\">\n",
       "      <th></th>\n",
       "      <th>Split</th>\n",
       "      <th>Vectorization</th>\n",
       "      <th>Accuracy</th>\n",
       "      <th>F1_macro</th>\n",
       "      <th>ROC AUC</th>\n",
       "    </tr>\n",
       "  </thead>\n",
       "  <tbody>\n",
       "    <tr>\n",
       "      <th>1</th>\n",
       "      <td>Random</td>\n",
       "      <td>Tfidf</td>\n",
       "      <td>0.986068</td>\n",
       "      <td>0.986858</td>\n",
       "      <td>0.991145</td>\n",
       "    </tr>\n",
       "  </tbody>\n",
       "</table>\n",
       "</div>"
      ],
      "text/plain": [
       "    Split Vectorization  Accuracy  F1_macro   ROC AUC\n",
       "1  Random         Tfidf  0.986068  0.986858  0.991145"
      ]
     },
     "execution_count": 550,
     "metadata": {},
     "output_type": "execute_result"
    }
   ],
   "source": [
    "data[(data['Vectorization'] == vect) & (data['Split'] == 'Random')].sort_values(metric, ascending=False)"
   ]
  },
  {
   "cell_type": "code",
   "execution_count": 551,
   "id": "4f0f5ae5",
   "metadata": {},
   "outputs": [
    {
     "data": {
      "text/html": [
       "<div>\n",
       "<style scoped>\n",
       "    .dataframe tbody tr th:only-of-type {\n",
       "        vertical-align: middle;\n",
       "    }\n",
       "\n",
       "    .dataframe tbody tr th {\n",
       "        vertical-align: top;\n",
       "    }\n",
       "\n",
       "    .dataframe thead th {\n",
       "        text-align: right;\n",
       "    }\n",
       "</style>\n",
       "<table border=\"1\" class=\"dataframe\">\n",
       "  <thead>\n",
       "    <tr style=\"text-align: right;\">\n",
       "      <th></th>\n",
       "      <th>Split</th>\n",
       "      <th>Vectorization</th>\n",
       "      <th>Accuracy</th>\n",
       "      <th>F1_macro</th>\n",
       "      <th>ROC AUC</th>\n",
       "    </tr>\n",
       "  </thead>\n",
       "  <tbody>\n",
       "    <tr>\n",
       "      <th>5</th>\n",
       "      <td>Temporal</td>\n",
       "      <td>Tfidf</td>\n",
       "      <td>0.983181</td>\n",
       "      <td>0.985094</td>\n",
       "      <td>0.990884</td>\n",
       "    </tr>\n",
       "  </tbody>\n",
       "</table>\n",
       "</div>"
      ],
      "text/plain": [
       "      Split Vectorization  Accuracy  F1_macro   ROC AUC\n",
       "5  Temporal         Tfidf  0.983181  0.985094  0.990884"
      ]
     },
     "execution_count": 551,
     "metadata": {},
     "output_type": "execute_result"
    }
   ],
   "source": [
    "data[(data['Vectorization'] == vect) & (data['Split'] == 'Temporal')].sort_values(metric, ascending=False)"
   ]
  },
  {
   "cell_type": "code",
   "execution_count": 553,
   "id": "15da0ad5",
   "metadata": {},
   "outputs": [
    {
     "data": {
      "text/html": [
       "<div>\n",
       "<style scoped>\n",
       "    .dataframe tbody tr th:only-of-type {\n",
       "        vertical-align: middle;\n",
       "    }\n",
       "\n",
       "    .dataframe tbody tr th {\n",
       "        vertical-align: top;\n",
       "    }\n",
       "\n",
       "    .dataframe thead th {\n",
       "        text-align: right;\n",
       "    }\n",
       "</style>\n",
       "<table border=\"1\" class=\"dataframe\">\n",
       "  <thead>\n",
       "    <tr style=\"text-align: right;\">\n",
       "      <th></th>\n",
       "      <th>Alpha</th>\n",
       "      <th>Split</th>\n",
       "      <th>Vectorization</th>\n",
       "      <th>Accuracy</th>\n",
       "      <th>F1_macro</th>\n",
       "      <th>ROC AUC</th>\n",
       "    </tr>\n",
       "  </thead>\n",
       "  <tbody>\n",
       "    <tr>\n",
       "      <th>9</th>\n",
       "      <td>1</td>\n",
       "      <td>Random</td>\n",
       "      <td>Tfidf</td>\n",
       "      <td>0.945433</td>\n",
       "      <td>0.936466</td>\n",
       "      <td>0.963097</td>\n",
       "    </tr>\n",
       "    <tr>\n",
       "      <th>17</th>\n",
       "      <td>2</td>\n",
       "      <td>Random</td>\n",
       "      <td>Tfidf</td>\n",
       "      <td>0.942337</td>\n",
       "      <td>0.931906</td>\n",
       "      <td>0.954076</td>\n",
       "    </tr>\n",
       "    <tr>\n",
       "      <th>25</th>\n",
       "      <td>3</td>\n",
       "      <td>Random</td>\n",
       "      <td>Tfidf</td>\n",
       "      <td>0.933050</td>\n",
       "      <td>0.919754</td>\n",
       "      <td>0.945495</td>\n",
       "    </tr>\n",
       "    <tr>\n",
       "      <th>33</th>\n",
       "      <td>4</td>\n",
       "      <td>Random</td>\n",
       "      <td>Tfidf</td>\n",
       "      <td>0.934211</td>\n",
       "      <td>0.915989</td>\n",
       "      <td>0.941942</td>\n",
       "    </tr>\n",
       "    <tr>\n",
       "      <th>1</th>\n",
       "      <td>0</td>\n",
       "      <td>Random</td>\n",
       "      <td>Tfidf</td>\n",
       "      <td>0.830495</td>\n",
       "      <td>0.791034</td>\n",
       "      <td>0.859945</td>\n",
       "    </tr>\n",
       "  </tbody>\n",
       "</table>\n",
       "</div>"
      ],
      "text/plain": [
       "    Alpha   Split Vectorization  Accuracy  F1_macro   ROC AUC\n",
       "9       1  Random         Tfidf  0.945433  0.936466  0.963097\n",
       "17      2  Random         Tfidf  0.942337  0.931906  0.954076\n",
       "25      3  Random         Tfidf  0.933050  0.919754  0.945495\n",
       "33      4  Random         Tfidf  0.934211  0.915989  0.941942\n",
       "1       0  Random         Tfidf  0.830495  0.791034  0.859945"
      ]
     },
     "execution_count": 553,
     "metadata": {},
     "output_type": "execute_result"
    }
   ],
   "source": [
    "data[(data['Vectorization'] == vect) & (data['Split'] == 'Random')].sort_values(metric, ascending=False)"
   ]
  },
  {
   "cell_type": "code",
   "execution_count": 554,
   "id": "1a76dfdf",
   "metadata": {},
   "outputs": [
    {
     "data": {
      "text/html": [
       "<div>\n",
       "<style scoped>\n",
       "    .dataframe tbody tr th:only-of-type {\n",
       "        vertical-align: middle;\n",
       "    }\n",
       "\n",
       "    .dataframe tbody tr th {\n",
       "        vertical-align: top;\n",
       "    }\n",
       "\n",
       "    .dataframe thead th {\n",
       "        text-align: right;\n",
       "    }\n",
       "</style>\n",
       "<table border=\"1\" class=\"dataframe\">\n",
       "  <thead>\n",
       "    <tr style=\"text-align: right;\">\n",
       "      <th></th>\n",
       "      <th>Alpha</th>\n",
       "      <th>Split</th>\n",
       "      <th>Vectorization</th>\n",
       "      <th>Accuracy</th>\n",
       "      <th>F1_macro</th>\n",
       "      <th>ROC AUC</th>\n",
       "    </tr>\n",
       "  </thead>\n",
       "  <tbody>\n",
       "    <tr>\n",
       "      <th>21</th>\n",
       "      <td>2</td>\n",
       "      <td>Temporal</td>\n",
       "      <td>Tfidf</td>\n",
       "      <td>0.932358</td>\n",
       "      <td>0.932712</td>\n",
       "      <td>0.960107</td>\n",
       "    </tr>\n",
       "    <tr>\n",
       "      <th>13</th>\n",
       "      <td>1</td>\n",
       "      <td>Temporal</td>\n",
       "      <td>Tfidf</td>\n",
       "      <td>0.930165</td>\n",
       "      <td>0.930544</td>\n",
       "      <td>0.962185</td>\n",
       "    </tr>\n",
       "    <tr>\n",
       "      <th>29</th>\n",
       "      <td>3</td>\n",
       "      <td>Temporal</td>\n",
       "      <td>Tfidf</td>\n",
       "      <td>0.929068</td>\n",
       "      <td>0.926496</td>\n",
       "      <td>0.952650</td>\n",
       "    </tr>\n",
       "    <tr>\n",
       "      <th>37</th>\n",
       "      <td>4</td>\n",
       "      <td>Temporal</td>\n",
       "      <td>Tfidf</td>\n",
       "      <td>0.919196</td>\n",
       "      <td>0.904337</td>\n",
       "      <td>0.937045</td>\n",
       "    </tr>\n",
       "    <tr>\n",
       "      <th>5</th>\n",
       "      <td>0</td>\n",
       "      <td>Temporal</td>\n",
       "      <td>Tfidf</td>\n",
       "      <td>0.764168</td>\n",
       "      <td>0.715431</td>\n",
       "      <td>0.824061</td>\n",
       "    </tr>\n",
       "  </tbody>\n",
       "</table>\n",
       "</div>"
      ],
      "text/plain": [
       "    Alpha     Split Vectorization  Accuracy  F1_macro   ROC AUC\n",
       "21      2  Temporal         Tfidf  0.932358  0.932712  0.960107\n",
       "13      1  Temporal         Tfidf  0.930165  0.930544  0.962185\n",
       "29      3  Temporal         Tfidf  0.929068  0.926496  0.952650\n",
       "37      4  Temporal         Tfidf  0.919196  0.904337  0.937045\n",
       "5       0  Temporal         Tfidf  0.764168  0.715431  0.824061"
      ]
     },
     "execution_count": 554,
     "metadata": {},
     "output_type": "execute_result"
    }
   ],
   "source": [
    "data[(data['Vectorization'] == vect) & (data['Split'] == 'Temporal')].sort_values(metric, ascending=False)"
   ]
  },
  {
   "cell_type": "code",
   "execution_count": 623,
   "id": "3d8f194b",
   "metadata": {},
   "outputs": [],
   "source": [
    "df_un_merged = pd.merge(left=df_codes, right=df_speech_extended)[[\"Region Name\", \"Year\", \"Speech\"]]\n",
    "df_un_merged.Speech = df_un_merged.Speech.apply(lambda x: clear_text(x).lower())"
   ]
  },
  {
   "cell_type": "code",
   "execution_count": 706,
   "id": "f2865e40",
   "metadata": {},
   "outputs": [],
   "source": [
    "vectorizers = (\n",
    "               tf_idf(stop_words='english', norm = None),\\\n",
    "               )"
   ]
  },
  {
   "cell_type": "code",
   "execution_count": 707,
   "id": "9fe4bebd",
   "metadata": {},
   "outputs": [
    {
     "data": {
      "text/plain": [
       "(TfidfVectorizer(norm=None, stop_words='english'),)"
      ]
     },
     "execution_count": 707,
     "metadata": {},
     "output_type": "execute_result"
    }
   ],
   "source": [
    "vectorizers"
   ]
  },
  {
   "cell_type": "code",
   "execution_count": 742,
   "id": "09ef265f",
   "metadata": {},
   "outputs": [
    {
     "name": "stderr",
     "output_type": "stream",
     "text": [
      "C:\\Apps\\Anaconda\\lib\\site-packages\\sklearn\\linear_model\\_logistic.py:814: ConvergenceWarning: lbfgs failed to converge (status=1):\n",
      "STOP: TOTAL NO. of ITERATIONS REACHED LIMIT.\n",
      "\n",
      "Increase the number of iterations (max_iter) or scale the data as shown in:\n",
      "    https://scikit-learn.org/stable/modules/preprocessing.html\n",
      "Please also refer to the documentation for alternative solver options:\n",
      "    https://scikit-learn.org/stable/modules/linear_model.html#logistic-regression\n",
      "  n_iter_i = _check_optimize_result(\n"
     ]
    }
   ],
   "source": [
    "from random import seed\n",
    "from sklearn.model_selection import train_test_split\n",
    "from sklearn.naive_bayes import MultinomialNB\n",
    "from sklearn.linear_model import LogisticRegression\n",
    "from sklearn.feature_extraction.text import CountVectorizer\n",
    "from sklearn.preprocessing import LabelBinarizer\n",
    "\n",
    "from tqdm import tqdm\n",
    "\n",
    "metrics = []\n",
    "alpha = 1\n",
    "split = temporal_split\n",
    "for vectorizer in vectorizers:\n",
    "    train, test = split(df_un_merged)\n",
    "\n",
    "    x_train, y_train = division(train)\n",
    "    x_test, y_test = division(test)\n",
    "\n",
    "    countVect, label_binarizer = vectorizer, LabelBinarizer()\n",
    "    nb = LogisticRegression() # MultinomialNB(alpha=alpha) \n",
    "\n",
    "    x_train_counts = countVect.fit_transform(x_train)\n",
    "    x_test_counts = countVect.transform(x_test)\n",
    "\n",
    "    clf = nb.fit(x_train_counts, y_train)\n",
    "    pred = clf.predict(x_test_counts)\n",
    "\n",
    "    metrics.append(f1_score(y_test, pred, average='macro'))\n",
    "    # pd.DataFrame(metrics, index=[\"Random\", \"Temporal\"], columns=[\"Accuracy\", \"F1_macro\", \"ROC AUC\"])"
   ]
  },
  {
   "cell_type": "code",
   "execution_count": 646,
   "id": "b3955389",
   "metadata": {},
   "outputs": [
    {
     "data": {
      "text/plain": [
       "[[0.9740910731659026, 0.9779007535902708],\n",
       " [0.9847628031628695, 0.9871621333009986],\n",
       " [0.9742019820043758, 0.9782920729048296]]"
      ]
     },
     "execution_count": 646,
     "metadata": {},
     "output_type": "execute_result"
    }
   ],
   "source": [
    "[[np.quantile(metrics_v[i], 0.25), np.quantile(metrics_v[i], 0.75)] for i in range(len(metrics_v))]\n"
   ]
  },
  {
   "cell_type": "code",
   "execution_count": 630,
   "id": "9a15f791",
   "metadata": {},
   "outputs": [],
   "source": [
    "from sklearn.metrics import confusion_matrix\n",
    "\n",
    "matrix = confusion_matrix(y_test, clf.predict(x_test_counts),\\\n",
    "                          labels=['Africa', 'Americas', 'Asia', 'Europe', 'Oceania'])+ 0.1"
   ]
  },
  {
   "cell_type": "code",
   "execution_count": 631,
   "id": "5c43b00d",
   "metadata": {},
   "outputs": [
    {
     "data": {
      "image/png": "[encoded data removed]",
      "text/plain": [
       "<Figure size 1008x864 with 2 Axes>"
      ]
     },
     "metadata": {},
     "output_type": "display_data"
    }
   ],
   "source": [
    "from matplotlib.colors import LogNorm, Normalize\n",
    "\n",
    "fig, axes = plt.subplots()\n",
    "fig.set_size_inches(14, 12)\n",
    "annotation_size = 36\n",
    "labels = ['Africa', 'Americas', 'Asia', 'Europe', 'Oceania']\n",
    "\n",
    "sns.heatmap(ax=axes, data=matrix, cmap=plt.cm.Blues_r,\n",
    "            linewidths=.1, annot=True, fmt='.0f', cbar=True,\n",
    "            annot_kws={\"fontsize\":annotation_size}, norm=LogNorm())\n",
    "\n",
    "axes.xaxis.tick_top()\n",
    "axes.tick_params(axis='x', labelsize=17, rotation=0)\n",
    "axes.tick_params(axis='y', labelsize=17, rotation=0)\n",
    "axes.set_yticklabels(labels, size=22)\n",
    "axes.set_xticklabels(labels, size=22)\n",
    "\n",
    "plt.savefig(\"NB_random_cf.pdf\")"
   ]
  },
  {
   "cell_type": "markdown",
   "id": "9b6ae2c2",
   "metadata": {},
   "source": [
    "## Final graphs"
   ]
  },
  {
   "cell_type": "code",
   "execution_count": 709,
   "id": "701a0063",
   "metadata": {},
   "outputs": [],
   "source": [
    "def temporal_split_stepwise(text, split_year:int = 2008):\n",
    "    return text[text[\"Year\"] == split_year]"
   ]
  },
  {
   "cell_type": "code",
   "execution_count": 710,
   "id": "2a54655a",
   "metadata": {},
   "outputs": [
    {
     "data": {
      "text/plain": [
       "38      i wish at the outset to congratulate mr. migue...\n",
       "39      allow me first to express the pleasure of the ...\n",
       "40      first of all, i would like to congratulate you...\n",
       "41      his excellency mr. abdelaziz bouteflika, presi...\n",
       "42      ﻿i wouldlike to take this opportunity to warml...\n",
       "                              ...                        \n",
       "8608    it gives me great pleasure, on behalf of the g...\n",
       "8609    on behalf of tuvalu and on my own behalf, i co...\n",
       "8610    mr. president, distinguished members of the ge...\n",
       "8611    president, distinguished members of the genera...\n",
       "8612    president, distinguished members of the genera...\n",
       "Name: Speech, Length: 2735, dtype: object"
      ]
     },
     "execution_count": 710,
     "metadata": {},
     "output_type": "execute_result"
    }
   ],
   "source": []
  },
  {
   "cell_type": "code",
   "execution_count": 712,
   "id": "e19f69e3",
   "metadata": {},
   "outputs": [
    {
     "data": {
      "text/plain": [
       "[0.9906271738960897,\n",
       " 0.9956022713543554,\n",
       " 0.9907085185492754,\n",
       " 0.9873343044262232,\n",
       " 0.9866964952250882,\n",
       " 0.9732305865097965,\n",
       " 0.9959803034870868,\n",
       " 0.9866662569426321,\n",
       " 0.9908645515039233,\n",
       " 0.9919173684130005,\n",
       " 0.9960689854513923,\n",
       " 0.9851341452561388,\n",
       " 0.9815993017206364,\n",
       " 0.9558580964685616,\n",
       " 0.9468306677509712]"
      ]
     },
     "execution_count": 712,
     "metadata": {},
     "output_type": "execute_result"
    }
   ],
   "source": []
  },
  {
   "cell_type": "code",
   "execution_count": 730,
   "id": "a20704b4",
   "metadata": {},
   "outputs": [],
   "source": [
    "metrics_nb = []\n",
    "for year in range(2008, 2023):\n",
    "    test = temporal_split_stepwise(df_un_merged, year)\n",
    "    x_test, y_test = division(test)\n",
    "    x_test_counts = countVect.transform(x_test)\n",
    "    pred = clf.predict(x_test_counts)\n",
    "    metrics_nb.append([f1_score(y_test, pred, average='macro'),\\\n",
    "                       roc_auc_score(label_binarizer.fit_transform(y_test),\\\n",
    "                                     label_binarizer.fit_transform(pred),\\\n",
    "                                     multi_class=\"ovr\")])"
   ]
  },
  {
   "cell_type": "code",
   "execution_count": null,
   "id": "d7bc1216",
   "metadata": {},
   "outputs": [],
   "source": [
    "y_test"
   ]
  },
  {
   "cell_type": "code",
   "execution_count": 717,
   "id": "80bee2b0",
   "metadata": {
    "collapsed": true
   },
   "outputs": [
    {
     "data": {
      "text/plain": [
       "[0.9350449172576834,\n",
       " 0.9024756997073474,\n",
       " 0.9444623225025628,\n",
       " 0.9541070156319386,\n",
       " 0.8813930591200723,\n",
       " 0.9629494473472133,\n",
       " 0.9417260723452673,\n",
       " 0.9275313971742543,\n",
       " 0.9435381514867667,\n",
       " 0.9621784601691143,\n",
       " 0.9486534710085472,\n",
       " 0.9222490502917688,\n",
       " 0.9096770170292061,\n",
       " 0.9242424242424244,\n",
       " 0.8876353060342446]"
      ]
     },
     "execution_count": 717,
     "metadata": {},
     "output_type": "execute_result"
    }
   ],
   "source": [
    "metrics_nb"
   ]
  },
  {
   "cell_type": "code",
   "execution_count": null,
   "id": "65643742",
   "metadata": {},
   "outputs": [],
   "source": [
    " metrics.append([accuracy_score(y_test, pred),\\\n",
    "                            f1_score(y_test, pred, average='macro'),\\\n",
    "                            roc_auc_score(label_binarizer.fit_transform(y_test), label_binarizer.fit_transform(pred))])"
   ]
  },
  {
   "cell_type": "code",
   "execution_count": 744,
   "id": "628cc324",
   "metadata": {},
   "outputs": [],
   "source": [
    "metrics_lr = []\n",
    "for year in range(2022, 2023):\n",
    "    test = temporal_split_stepwise(df_un_merged, year)\n",
    "    x_test, y_test = division(test)\n",
    "    x_test_counts = countVect.transform(x_test)\n",
    "    pred = clf.predict(x_test_counts)\n",
    "    metrics_lr.append([f1_score(y_test, pred, average='macro'),\\\n",
    "                       roc_auc_score(label_binarizer.fit_transform(y_test),\\\n",
    "                                     label_binarizer.fit_transform(pred),\\\n",
    "                                     multi_class=\"ovr\")])"
   ]
  },
  {
   "cell_type": "code",
   "execution_count": 745,
   "id": "0d0b0a14",
   "metadata": {},
   "outputs": [
    {
     "data": {
      "text/plain": [
       "array(['Africa', 'Africa', 'Africa', 'Africa', 'Africa', 'Europe',\n",
       "       'Africa', 'Africa', 'Africa', 'Africa', 'Africa', 'Africa',\n",
       "       'Africa', 'Africa', 'Africa', 'Africa', 'Africa', 'Africa',\n",
       "       'Africa', 'Africa', 'Africa', 'Africa', 'Africa', 'Africa',\n",
       "       'Americas', 'Americas', 'Americas', 'Americas', 'Americas',\n",
       "       'Americas', 'Americas', 'Americas', 'Americas', 'Americas',\n",
       "       'Americas', 'Americas', 'Americas', 'Europe', 'Asia', 'Asia',\n",
       "       'Asia', 'Asia', 'Asia', 'Asia', 'Asia', 'Asia', 'Asia', 'Asia',\n",
       "       'Asia', 'Asia', 'Americas', 'Asia', 'Asia', 'Asia', 'Asia', 'Asia',\n",
       "       'Asia', 'Asia', 'Asia', 'Asia', 'Asia', 'Asia', 'Asia', 'Asia',\n",
       "       'Asia', 'Asia', 'Asia', 'Asia', 'Europe', 'Europe', 'Asia',\n",
       "       'Europe', 'Europe', 'Europe', 'Europe', 'Europe', 'Europe',\n",
       "       'Europe', 'Europe', 'Europe', 'Europe', 'Europe', 'Europe',\n",
       "       'Europe', 'Europe', 'Europe', 'Europe', 'Europe', 'Europe',\n",
       "       'Europe', 'Europe', 'Africa', 'Europe', 'Europe', 'Asia', 'Europe',\n",
       "       'Europe', 'Europe', 'Europe', 'Europe', 'Europe', 'Europe',\n",
       "       'Europe', 'Oceania', 'Oceania', 'Oceania', 'Oceania', 'Oceania',\n",
       "       'Oceania', 'Oceania', 'Oceania', 'Oceania', 'Oceania', 'Oceania',\n",
       "       'Oceania', 'Oceania'], dtype=object)"
      ]
     },
     "execution_count": 745,
     "metadata": {},
     "output_type": "execute_result"
    }
   ],
   "source": [
    "pred"
   ]
  },
  {
   "cell_type": "code",
   "execution_count": 748,
   "id": "3aa94580",
   "metadata": {},
   "outputs": [
    {
     "data": {
      "text/plain": [
       "0.9653365074350473"
      ]
     },
     "execution_count": 748,
     "metadata": {},
     "output_type": "execute_result"
    }
   ],
   "source": [
    " roc_auc_score(label_binarizer.fit_transform(y_test),\\\n",
    "                                     label_binarizer.fit_transform(pred),\\\n",
    "                                     multi_class=\"ovr\")"
   ]
  },
  {
   "cell_type": "code",
   "execution_count": 754,
   "id": "b99a7b9d",
   "metadata": {},
   "outputs": [
    {
     "data": {
      "text/plain": [
       "array([[23.1,  0.1,  0.1,  1.1,  0.1],\n",
       "       [ 0.1, 13.1,  0.1,  1.1,  0.1],\n",
       "       [ 0.1,  1.1, 29.1,  1.1,  0.1],\n",
       "       [ 1.1,  0.1,  2.1, 31.1,  0.1],\n",
       "       [ 0.1,  0.1,  0.1,  0.1, 13.1]])"
      ]
     },
     "execution_count": 754,
     "metadata": {},
     "output_type": "execute_result"
    }
   ],
   "source": [
    "matrix = confusion_matrix(y_test, pred,\\\n",
    "                          labels=['Africa', 'Americas', 'Asia', 'Europe', 'Oceania'])+ 0.1\n",
    "matrix"
   ]
  },
  {
   "cell_type": "code",
   "execution_count": 766,
   "id": "8d3ce3b9",
   "metadata": {},
   "outputs": [
    {
     "data": {
      "image/png": "[encoded data removed]",
      "text/plain": [
       "<Figure size 1008x864 with 2 Axes>"
      ]
     },
     "metadata": {},
     "output_type": "display_data"
    }
   ],
   "source": [
    "from matplotlib.colors import LogNorm, Normalize\n",
    "\n",
    "fig, axes = plt.subplots()\n",
    "fig.set_size_inches(14, 12)\n",
    "annotation_size = 48\n",
    "labels = ['Africa', 'Americas', 'Asia', 'Europe', 'Oceania']\n",
    "\n",
    "sns.heatmap(ax=axes, data=matrix, cmap=plt.cm.Blues_r,\n",
    "            linewidths=.1, annot=True, fmt='.0f', cbar=True,\n",
    "            annot_kws={\"fontsize\":annotation_size}, norm=LogNorm())\n",
    "\n",
    "axes.xaxis.tick_top()\n",
    "axes.tick_params(axis='x', labelsize=17, rotation=0)\n",
    "axes.tick_params(axis='y', labelsize=17, rotation=90)\n",
    "axes.set_yticklabels(labels, size=28)\n",
    "axes.set_xticklabels(labels, size=28)\n",
    "\n",
    "plt.savefig(\"2022_classification.pdf\")"
   ]
  },
  {
   "cell_type": "code",
   "execution_count": 764,
   "id": "51550969",
   "metadata": {},
   "outputs": [
    {
     "data": {
      "text/plain": [
       "array([0.99410332, 0.9972012 , 0.99447799, 0.99165625, 0.99154467,\n",
       "       0.98252772, 0.99715805, 0.99163452, 0.99425242, 0.99495377,\n",
       "       0.99746788, 0.99158516, 0.98881887, 0.97727682, 0.96533651])"
      ]
     },
     "execution_count": 764,
     "metadata": {},
     "output_type": "execute_result"
    }
   ],
   "source": [
    "value_nb"
   ]
  },
  {
   "cell_type": "code",
   "execution_count": 732,
   "id": "102accd7",
   "metadata": {},
   "outputs": [],
   "source": [
    "years = [i for i in range(2008, 2023)]\n",
    "value_lr = np.array(metrics_lr).T[1]\n",
    "value_nb = np.array(metrics_nb).T[1]"
   ]
  },
  {
   "cell_type": "code",
   "execution_count": 761,
   "id": "2adf9764",
   "metadata": {},
   "outputs": [
    {
     "data": {
      "image/png": "[encoded data removed]",
      "text/plain": [
       "<Figure size 864x432 with 1 Axes>"
      ]
     },
     "metadata": {},
     "output_type": "display_data"
    }
   ],
   "source": [
    "figure(figsize=(12, 6))\n",
    "plt.plot(years, value_nb, marker = '.', color = 'b',label = 'Logistic refression')\n",
    "plt.plot(years, value_lr, marker='.', color='r', label= 'Naive Bayes')\n",
    "#plt.plot(x_general,y_r_Tfidfl2, marker = '.', color = 'g',label = 'TF-IDF (L2)')\n",
    "plt.legend(loc='lower left', facecolor='white', framealpha=0.8, fontsize=26)\n",
    "\n",
    "plt.xticks(fontsize=24, color='black')\n",
    "plt.yticks(fontsize=24, color`='black')\n",
    "\n",
    "plt.savefig(\"eval_on_years.pdf\")"
   ]
  },
  {
   "cell_type": "code",
   "execution_count": 699,
   "id": "e5697088",
   "metadata": {},
   "outputs": [],
   "source": [
    "x_test, y_test = division(test)"
   ]
  },
  {
   "cell_type": "code",
   "execution_count": null,
   "id": "317329cb",
   "metadata": {},
   "outputs": [],
   "source": [
    "x_test_counts = countVect.transform(x_test)"
   ]
  },
  {
   "cell_type": "code",
   "execution_count": null,
   "id": "8dbf73ef",
   "metadata": {},
   "outputs": [],
   "source": [
    "pred = clf.predict(x_test_counts)\n",
    "\n",
    "metrics.append(f1_score(y_test, pred, average='macro'))"
   ]
  },
  {
   "cell_type": "code",
   "execution_count": 700,
   "id": "dab9407b",
   "metadata": {},
   "outputs": [
    {
     "data": {
      "text/plain": [
       "LogisticRegression()"
      ]
     },
     "execution_count": 700,
     "metadata": {},
     "output_type": "execute_result"
    }
   ],
   "source": [
    "nb"
   ]
  },
  {
   "cell_type": "code",
   "execution_count": null,
   "id": "36621339",
   "metadata": {},
   "outputs": [],
   "source": []
  },
  {
   "cell_type": "markdown",
   "id": "ad4c0160",
   "metadata": {},
   "source": [
    "## Graphs"
   ]
  },
  {
   "cell_type": "code",
   "execution_count": 539,
   "id": "a1dbcca7",
   "metadata": {},
   "outputs": [
    {
     "data": {
      "image/png": "[encoded data removed]",
      "text/plain": [
       "<Figure size 864x576 with 1 Axes>"
      ]
     },
     "metadata": {},
     "output_type": "display_data"
    }
   ],
   "source": [
    "import matplotlib as mpl\n",
    "import collections\n",
    "counter = collections.Counter(df_un_merged['Region Name'])\n",
    "mpg = pd.DataFrame(counter.values(), index=counter.keys(), columns=[\"Number of elements\"])\n",
    "\n",
    "\n",
    "fig, ax = plt.subplots(figsize=(12, 8))\n",
    "\n",
    "# Save the chart so we can loop through the bars below.\n",
    "bars = ax.bar(\n",
    "    x=np.arange(mpg.size),\n",
    "    height=mpg[\"Number of elements\"],\n",
    "    tick_label=mpg.index,\n",
    "    width=0.65,\n",
    "    color='blue',\n",
    "    alpha=0.35\n",
    ")\n",
    "\n",
    "# Axis formatting.\n",
    "ax.spines['top'].set_visible(False)\n",
    "ax.spines['right'].set_visible(False)\n",
    "ax.spines['left'].set_visible(False)\n",
    "ax.spines['bottom'].set_color('#DDDDDD')\n",
    "ax.tick_params(bottom=False, left=False)\n",
    "ax.set_axisbelow(True)\n",
    "ax.xaxis.grid(False)\n",
    "\n",
    "# Add text annotations to the top of the bars.\n",
    "bar_color = bars[0].get_facecolor()\n",
    "for bar in bars:\n",
    "    ax.text(\n",
    "      bar.get_x() + bar.get_width()  / 2.0 - 0.1,\n",
    "      bar.get_height() + 76.3,\n",
    "      round(bar.get_height(), 1),\n",
    "      horizontalalignment='center',\n",
    "      color='grey',\n",
    "      fontsize=24\n",
    "    )\n",
    "    \n",
    "plt.yticks(np.arange(0, 3200, 600.0), fontsize=28, color='black')\n",
    "plt.xticks(fontsize=28, color='black')\n",
    "plt.savefig(\"classes_freqs.pdf\")"
   ]
  },
  {
   "cell_type": "code",
   "execution_count": 210,
   "id": "13344dfe",
   "metadata": {},
   "outputs": [],
   "source": [
    "NB_data_stop_lower = pd.read_csv('NB_standard_stop_lower.csv')\n",
    "NB_data_stop = pd.read_csv('NB_standard_stop.csv')\n",
    "NB_data = pd.read_csv('NB_standard.csv')\n",
    "\n",
    "\n",
    "NB_random, NB_temp = NB_data_stop[NB_data_stop.Split == 'Random'],NB_data_stop[NB_data_stop.Split == 'Temporal']"
   ]
  },
  {
   "cell_type": "code",
   "execution_count": 152,
   "id": "51b4317a",
   "metadata": {
    "collapsed": true
   },
   "outputs": [
    {
     "data": {
      "text/html": [
       "<div>\n",
       "<style scoped>\n",
       "    .dataframe tbody tr th:only-of-type {\n",
       "        vertical-align: middle;\n",
       "    }\n",
       "\n",
       "    .dataframe tbody tr th {\n",
       "        vertical-align: top;\n",
       "    }\n",
       "\n",
       "    .dataframe thead th {\n",
       "        text-align: right;\n",
       "    }\n",
       "</style>\n",
       "<table border=\"1\" class=\"dataframe\">\n",
       "  <thead>\n",
       "    <tr style=\"text-align: right;\">\n",
       "      <th></th>\n",
       "      <th>Alpha</th>\n",
       "      <th>Split</th>\n",
       "      <th>Vectorization</th>\n",
       "      <th>Accuracy</th>\n",
       "      <th>F1_macro</th>\n",
       "      <th>ROC AUC</th>\n",
       "    </tr>\n",
       "  </thead>\n",
       "  <tbody>\n",
       "    <tr>\n",
       "      <th>0</th>\n",
       "      <td>0</td>\n",
       "      <td>Random</td>\n",
       "      <td>DTM</td>\n",
       "      <td>0.888158</td>\n",
       "      <td>0.846561</td>\n",
       "      <td>0.897457</td>\n",
       "    </tr>\n",
       "    <tr>\n",
       "      <th>1</th>\n",
       "      <td>0</td>\n",
       "      <td>Random</td>\n",
       "      <td>Tfidf</td>\n",
       "      <td>0.816176</td>\n",
       "      <td>0.774484</td>\n",
       "      <td>0.848338</td>\n",
       "    </tr>\n",
       "    <tr>\n",
       "      <th>2</th>\n",
       "      <td>0</td>\n",
       "      <td>Random</td>\n",
       "      <td>Tfidf(L1)</td>\n",
       "      <td>0.672214</td>\n",
       "      <td>0.550341</td>\n",
       "      <td>0.727539</td>\n",
       "    </tr>\n",
       "    <tr>\n",
       "      <th>3</th>\n",
       "      <td>0</td>\n",
       "      <td>Random</td>\n",
       "      <td>Tfidf(L2)</td>\n",
       "      <td>0.845975</td>\n",
       "      <td>0.802033</td>\n",
       "      <td>0.865579</td>\n",
       "    </tr>\n",
       "    <tr>\n",
       "      <th>4</th>\n",
       "      <td>0</td>\n",
       "      <td>Temporal</td>\n",
       "      <td>DTM</td>\n",
       "      <td>0.837294</td>\n",
       "      <td>0.814739</td>\n",
       "      <td>0.881220</td>\n",
       "    </tr>\n",
       "    <tr>\n",
       "      <th>5</th>\n",
       "      <td>0</td>\n",
       "      <td>Temporal</td>\n",
       "      <td>Tfidf</td>\n",
       "      <td>0.764168</td>\n",
       "      <td>0.715431</td>\n",
       "      <td>0.824061</td>\n",
       "    </tr>\n",
       "    <tr>\n",
       "      <th>6</th>\n",
       "      <td>0</td>\n",
       "      <td>Temporal</td>\n",
       "      <td>Tfidf(L1)</td>\n",
       "      <td>0.670567</td>\n",
       "      <td>0.553092</td>\n",
       "      <td>0.800877</td>\n",
       "    </tr>\n",
       "    <tr>\n",
       "      <th>7</th>\n",
       "      <td>0</td>\n",
       "      <td>Temporal</td>\n",
       "      <td>Tfidf(L2)</td>\n",
       "      <td>0.782815</td>\n",
       "      <td>0.733159</td>\n",
       "      <td>0.834647</td>\n",
       "    </tr>\n",
       "    <tr>\n",
       "      <th>8</th>\n",
       "      <td>1</td>\n",
       "      <td>Random</td>\n",
       "      <td>DTM</td>\n",
       "      <td>0.926471</td>\n",
       "      <td>0.911351</td>\n",
       "      <td>0.937680</td>\n",
       "    </tr>\n",
       "    <tr>\n",
       "      <th>9</th>\n",
       "      <td>1</td>\n",
       "      <td>Random</td>\n",
       "      <td>Tfidf</td>\n",
       "      <td>0.944659</td>\n",
       "      <td>0.931306</td>\n",
       "      <td>0.959878</td>\n",
       "    </tr>\n",
       "    <tr>\n",
       "      <th>10</th>\n",
       "      <td>1</td>\n",
       "      <td>Random</td>\n",
       "      <td>Tfidf(L1)</td>\n",
       "      <td>0.288700</td>\n",
       "      <td>0.089610</td>\n",
       "      <td>0.500000</td>\n",
       "    </tr>\n",
       "    <tr>\n",
       "      <th>11</th>\n",
       "      <td>1</td>\n",
       "      <td>Random</td>\n",
       "      <td>Tfidf(L2)</td>\n",
       "      <td>0.488003</td>\n",
       "      <td>0.362866</td>\n",
       "      <td>0.643934</td>\n",
       "    </tr>\n",
       "    <tr>\n",
       "      <th>12</th>\n",
       "      <td>1</td>\n",
       "      <td>Temporal</td>\n",
       "      <td>DTM</td>\n",
       "      <td>0.890676</td>\n",
       "      <td>0.854896</td>\n",
       "      <td>0.907497</td>\n",
       "    </tr>\n",
       "    <tr>\n",
       "      <th>13</th>\n",
       "      <td>1</td>\n",
       "      <td>Temporal</td>\n",
       "      <td>Tfidf</td>\n",
       "      <td>0.930165</td>\n",
       "      <td>0.930544</td>\n",
       "      <td>0.962185</td>\n",
       "    </tr>\n",
       "    <tr>\n",
       "      <th>14</th>\n",
       "      <td>1</td>\n",
       "      <td>Temporal</td>\n",
       "      <td>Tfidf(L1)</td>\n",
       "      <td>0.268007</td>\n",
       "      <td>0.084544</td>\n",
       "      <td>0.500000</td>\n",
       "    </tr>\n",
       "    <tr>\n",
       "      <th>15</th>\n",
       "      <td>1</td>\n",
       "      <td>Temporal</td>\n",
       "      <td>Tfidf(L2)</td>\n",
       "      <td>0.411700</td>\n",
       "      <td>0.284518</td>\n",
       "      <td>0.602501</td>\n",
       "    </tr>\n",
       "    <tr>\n",
       "      <th>16</th>\n",
       "      <td>2</td>\n",
       "      <td>Random</td>\n",
       "      <td>DTM</td>\n",
       "      <td>0.902864</td>\n",
       "      <td>0.826595</td>\n",
       "      <td>0.889692</td>\n",
       "    </tr>\n",
       "    <tr>\n",
       "      <th>17</th>\n",
       "      <td>2</td>\n",
       "      <td>Random</td>\n",
       "      <td>Tfidf</td>\n",
       "      <td>0.942724</td>\n",
       "      <td>0.935278</td>\n",
       "      <td>0.958298</td>\n",
       "    </tr>\n",
       "    <tr>\n",
       "      <th>18</th>\n",
       "      <td>2</td>\n",
       "      <td>Random</td>\n",
       "      <td>Tfidf(L1)</td>\n",
       "      <td>0.292183</td>\n",
       "      <td>0.090446</td>\n",
       "      <td>0.500000</td>\n",
       "    </tr>\n",
       "    <tr>\n",
       "      <th>19</th>\n",
       "      <td>2</td>\n",
       "      <td>Random</td>\n",
       "      <td>Tfidf(L2)</td>\n",
       "      <td>0.399768</td>\n",
       "      <td>0.257463</td>\n",
       "      <td>0.583300</td>\n",
       "    </tr>\n",
       "    <tr>\n",
       "      <th>20</th>\n",
       "      <td>2</td>\n",
       "      <td>Temporal</td>\n",
       "      <td>DTM</td>\n",
       "      <td>0.854479</td>\n",
       "      <td>0.724342</td>\n",
       "      <td>0.855687</td>\n",
       "    </tr>\n",
       "    <tr>\n",
       "      <th>21</th>\n",
       "      <td>2</td>\n",
       "      <td>Temporal</td>\n",
       "      <td>Tfidf</td>\n",
       "      <td>0.932358</td>\n",
       "      <td>0.932712</td>\n",
       "      <td>0.960107</td>\n",
       "    </tr>\n",
       "    <tr>\n",
       "      <th>22</th>\n",
       "      <td>2</td>\n",
       "      <td>Temporal</td>\n",
       "      <td>Tfidf(L1)</td>\n",
       "      <td>0.268007</td>\n",
       "      <td>0.084544</td>\n",
       "      <td>0.500000</td>\n",
       "    </tr>\n",
       "    <tr>\n",
       "      <th>23</th>\n",
       "      <td>2</td>\n",
       "      <td>Temporal</td>\n",
       "      <td>Tfidf(L2)</td>\n",
       "      <td>0.346984</td>\n",
       "      <td>0.200020</td>\n",
       "      <td>0.555428</td>\n",
       "    </tr>\n",
       "    <tr>\n",
       "      <th>24</th>\n",
       "      <td>3</td>\n",
       "      <td>Random</td>\n",
       "      <td>DTM</td>\n",
       "      <td>0.867260</td>\n",
       "      <td>0.733289</td>\n",
       "      <td>0.852727</td>\n",
       "    </tr>\n",
       "    <tr>\n",
       "      <th>25</th>\n",
       "      <td>3</td>\n",
       "      <td>Random</td>\n",
       "      <td>Tfidf</td>\n",
       "      <td>0.943111</td>\n",
       "      <td>0.935491</td>\n",
       "      <td>0.956015</td>\n",
       "    </tr>\n",
       "    <tr>\n",
       "      <th>26</th>\n",
       "      <td>3</td>\n",
       "      <td>Random</td>\n",
       "      <td>Tfidf(L1)</td>\n",
       "      <td>0.295666</td>\n",
       "      <td>0.091278</td>\n",
       "      <td>0.500000</td>\n",
       "    </tr>\n",
       "    <tr>\n",
       "      <th>27</th>\n",
       "      <td>3</td>\n",
       "      <td>Random</td>\n",
       "      <td>Tfidf(L2)</td>\n",
       "      <td>0.359133</td>\n",
       "      <td>0.204918</td>\n",
       "      <td>0.556127</td>\n",
       "    </tr>\n",
       "    <tr>\n",
       "      <th>28</th>\n",
       "      <td>3</td>\n",
       "      <td>Temporal</td>\n",
       "      <td>DTM</td>\n",
       "      <td>0.841682</td>\n",
       "      <td>0.697122</td>\n",
       "      <td>0.844480</td>\n",
       "    </tr>\n",
       "    <tr>\n",
       "      <th>29</th>\n",
       "      <td>3</td>\n",
       "      <td>Temporal</td>\n",
       "      <td>Tfidf</td>\n",
       "      <td>0.929068</td>\n",
       "      <td>0.926496</td>\n",
       "      <td>0.952650</td>\n",
       "    </tr>\n",
       "    <tr>\n",
       "      <th>30</th>\n",
       "      <td>3</td>\n",
       "      <td>Temporal</td>\n",
       "      <td>Tfidf(L1)</td>\n",
       "      <td>0.268007</td>\n",
       "      <td>0.084544</td>\n",
       "      <td>0.500000</td>\n",
       "    </tr>\n",
       "    <tr>\n",
       "      <th>31</th>\n",
       "      <td>3</td>\n",
       "      <td>Temporal</td>\n",
       "      <td>Tfidf(L2)</td>\n",
       "      <td>0.323583</td>\n",
       "      <td>0.168658</td>\n",
       "      <td>0.538816</td>\n",
       "    </tr>\n",
       "    <tr>\n",
       "      <th>32</th>\n",
       "      <td>4</td>\n",
       "      <td>Random</td>\n",
       "      <td>DTM</td>\n",
       "      <td>0.845201</td>\n",
       "      <td>0.698629</td>\n",
       "      <td>0.920391</td>\n",
       "    </tr>\n",
       "    <tr>\n",
       "      <th>33</th>\n",
       "      <td>4</td>\n",
       "      <td>Random</td>\n",
       "      <td>Tfidf</td>\n",
       "      <td>0.942724</td>\n",
       "      <td>0.925231</td>\n",
       "      <td>0.948139</td>\n",
       "    </tr>\n",
       "    <tr>\n",
       "      <th>34</th>\n",
       "      <td>4</td>\n",
       "      <td>Random</td>\n",
       "      <td>Tfidf(L1)</td>\n",
       "      <td>0.297601</td>\n",
       "      <td>0.091739</td>\n",
       "      <td>0.500000</td>\n",
       "    </tr>\n",
       "    <tr>\n",
       "      <th>35</th>\n",
       "      <td>4</td>\n",
       "      <td>Random</td>\n",
       "      <td>Tfidf(L2)</td>\n",
       "      <td>0.395124</td>\n",
       "      <td>0.237464</td>\n",
       "      <td>0.571003</td>\n",
       "    </tr>\n",
       "    <tr>\n",
       "      <th>36</th>\n",
       "      <td>4</td>\n",
       "      <td>Temporal</td>\n",
       "      <td>DTM</td>\n",
       "      <td>0.827422</td>\n",
       "      <td>0.686785</td>\n",
       "      <td>0.835487</td>\n",
       "    </tr>\n",
       "    <tr>\n",
       "      <th>37</th>\n",
       "      <td>4</td>\n",
       "      <td>Temporal</td>\n",
       "      <td>Tfidf</td>\n",
       "      <td>0.919196</td>\n",
       "      <td>0.904337</td>\n",
       "      <td>0.937045</td>\n",
       "    </tr>\n",
       "    <tr>\n",
       "      <th>38</th>\n",
       "      <td>4</td>\n",
       "      <td>Temporal</td>\n",
       "      <td>Tfidf(L1)</td>\n",
       "      <td>0.268007</td>\n",
       "      <td>0.084544</td>\n",
       "      <td>0.500000</td>\n",
       "    </tr>\n",
       "    <tr>\n",
       "      <th>39</th>\n",
       "      <td>4</td>\n",
       "      <td>Temporal</td>\n",
       "      <td>Tfidf(L2)</td>\n",
       "      <td>0.308592</td>\n",
       "      <td>0.146463</td>\n",
       "      <td>0.527969</td>\n",
       "    </tr>\n",
       "  </tbody>\n",
       "</table>\n",
       "</div>"
      ],
      "text/plain": [
       "    Alpha     Split Vectorization  Accuracy  F1_macro   ROC AUC\n",
       "0       0    Random           DTM  0.888158  0.846561  0.897457\n",
       "1       0    Random         Tfidf  0.816176  0.774484  0.848338\n",
       "2       0    Random     Tfidf(L1)  0.672214  0.550341  0.727539\n",
       "3       0    Random     Tfidf(L2)  0.845975  0.802033  0.865579\n",
       "4       0  Temporal           DTM  0.837294  0.814739  0.881220\n",
       "5       0  Temporal         Tfidf  0.764168  0.715431  0.824061\n",
       "6       0  Temporal     Tfidf(L1)  0.670567  0.553092  0.800877\n",
       "7       0  Temporal     Tfidf(L2)  0.782815  0.733159  0.834647\n",
       "8       1    Random           DTM  0.926471  0.911351  0.937680\n",
       "9       1    Random         Tfidf  0.944659  0.931306  0.959878\n",
       "10      1    Random     Tfidf(L1)  0.288700  0.089610  0.500000\n",
       "11      1    Random     Tfidf(L2)  0.488003  0.362866  0.643934\n",
       "12      1  Temporal           DTM  0.890676  0.854896  0.907497\n",
       "13      1  Temporal         Tfidf  0.930165  0.930544  0.962185\n",
       "14      1  Temporal     Tfidf(L1)  0.268007  0.084544  0.500000\n",
       "15      1  Temporal     Tfidf(L2)  0.411700  0.284518  0.602501\n",
       "16      2    Random           DTM  0.902864  0.826595  0.889692\n",
       "17      2    Random         Tfidf  0.942724  0.935278  0.958298\n",
       "18      2    Random     Tfidf(L1)  0.292183  0.090446  0.500000\n",
       "19      2    Random     Tfidf(L2)  0.399768  0.257463  0.583300\n",
       "20      2  Temporal           DTM  0.854479  0.724342  0.855687\n",
       "21      2  Temporal         Tfidf  0.932358  0.932712  0.960107\n",
       "22      2  Temporal     Tfidf(L1)  0.268007  0.084544  0.500000\n",
       "23      2  Temporal     Tfidf(L2)  0.346984  0.200020  0.555428\n",
       "24      3    Random           DTM  0.867260  0.733289  0.852727\n",
       "25      3    Random         Tfidf  0.943111  0.935491  0.956015\n",
       "26      3    Random     Tfidf(L1)  0.295666  0.091278  0.500000\n",
       "27      3    Random     Tfidf(L2)  0.359133  0.204918  0.556127\n",
       "28      3  Temporal           DTM  0.841682  0.697122  0.844480\n",
       "29      3  Temporal         Tfidf  0.929068  0.926496  0.952650\n",
       "30      3  Temporal     Tfidf(L1)  0.268007  0.084544  0.500000\n",
       "31      3  Temporal     Tfidf(L2)  0.323583  0.168658  0.538816\n",
       "32      4    Random           DTM  0.845201  0.698629  0.920391\n",
       "33      4    Random         Tfidf  0.942724  0.925231  0.948139\n",
       "34      4    Random     Tfidf(L1)  0.297601  0.091739  0.500000\n",
       "35      4    Random     Tfidf(L2)  0.395124  0.237464  0.571003\n",
       "36      4  Temporal           DTM  0.827422  0.686785  0.835487\n",
       "37      4  Temporal         Tfidf  0.919196  0.904337  0.937045\n",
       "38      4  Temporal     Tfidf(L1)  0.268007  0.084544  0.500000\n",
       "39      4  Temporal     Tfidf(L2)  0.308592  0.146463  0.527969"
      ]
     },
     "execution_count": 152,
     "metadata": {},
     "output_type": "execute_result"
    }
   ],
   "source": [
    "NB_data"
   ]
  },
  {
   "cell_type": "code",
   "execution_count": 215,
   "id": "94087a41",
   "metadata": {},
   "outputs": [],
   "source": [
    "import seaborn as sns\n",
    "import matplotlib.pyplot as plt\n",
    "from matplotlib.pyplot import figure\n",
    "\n",
    "plt.style.use('seaborn-pastel')"
   ]
  },
  {
   "cell_type": "code",
   "execution_count": 182,
   "id": "0b817022",
   "metadata": {},
   "outputs": [],
   "source": [
    "metric = 'F1_macro'\n",
    "x_general = NB_random[NB_random.Vectorization == 'DTM']['Alpha']\n",
    "y_r_DTM = NB_random[NB_random.Vectorization == 'DTM'][metric]\n",
    "y_r_Tfidf = NB_random[NB_random.Vectorization == 'Tfidf'][metric]\n",
    "y_r_Tfidfl2 = NB_random[NB_random.Vectorization == 'Tfidf(L2)'][metric]\n",
    "\n",
    "y_t_DTM = NB_temp[NB_temp.Vectorization == 'DTM'][metric]\n",
    "y_t_Tfidf = NB_temp[NB_temp.Vectorization == 'Tfidf'][metric]\n",
    "y_t_Tfidfl2 = NB_temp[NB_temp.Vectorization == 'Tfidf(L2)'][metric]"
   ]
  },
  {
   "cell_type": "code",
   "execution_count": 736,
   "id": "bd458fbd",
   "metadata": {},
   "outputs": [
    {
     "data": {
      "image/png": "[encoded data removed]",
      "text/plain": [
       "<Figure size 864x576 with 1 Axes>"
      ]
     },
     "metadata": {},
     "output_type": "display_data"
    }
   ],
   "source": [
    "figure(figsize=(12, 8))\n",
    "\n",
    "plt.plot(x_general,y_r_DTM,marker='.', color='r', label= 'Bag of words')\n",
    "plt.plot(x_general,y_r_Tfidf, marker = '.', color = 'b',label = 'TF-IDF')\n",
    "plt.plot(x_general,y_r_Tfidfl2, marker = '.', color = 'g',label = 'TF-IDF (L2)')\n",
    "plt.legend(loc='lower right', facecolor='white', framealpha=0.8, fontsize=26)\n",
    "\n",
    "plt.xticks(np.arange(0, 4+1, 1.0), fontsize=28, color='black')\n",
    "plt.yticks(fontsize=28, color='black')\n",
    "\n",
    "plt.savefig(\"alpha_random_NB.pdf\")"
   ]
  },
  {
   "cell_type": "code",
   "execution_count": 542,
   "id": "61813a0c",
   "metadata": {},
   "outputs": [
    {
     "data": {
      "image/png": "[encoded data removed]",
      "text/plain": [
       "<Figure size 864x576 with 1 Axes>"
      ]
     },
     "metadata": {},
     "output_type": "display_data"
    }
   ],
   "source": [
    "figure(figsize=(12, 8))\n",
    "\n",
    "plt.plot(x_general,y_t_DTM,marker='.', color='r', label= 'Bag of words')\n",
    "plt.plot(x_general,y_t_Tfidf, marker = '.', color = 'b',label = 'TF-IDF')\n",
    "plt.plot(x_general,y_t_Tfidfl2, marker = '.', color = 'g',label = 'TF-IDF (L2)')\n",
    "plt.legend(loc='lower right', facecolor='white', framealpha=0.8, fontsize=26)\n",
    "\n",
    "plt.xticks(np.arange(0, 4+1, 1.0), fontsize=28, color='black')\n",
    "plt.yticks(fontsize=28, color='black')\n",
    "\n",
    "plt.savefig(\"alpha_temporal_NB.pdf\")"
   ]
  },
  {
   "cell_type": "code",
   "execution_count": 258,
   "id": "748c2ca9",
   "metadata": {},
   "outputs": [],
   "source": [
    "LR_data_stop_lower = pd.read_csv('LR_standard_stop_lower.csv')\n",
    "LR_data_stop = pd.read_csv('LR_standard_stop.csv')\n",
    "LR_data = pd.read_csv('LR_standard.csv')"
   ]
  },
  {
   "cell_type": "code",
   "execution_count": 265,
   "id": "93ee937e",
   "metadata": {},
   "outputs": [
    {
     "data": {
      "text/html": [
       "<div>\n",
       "<style scoped>\n",
       "    .dataframe tbody tr th:only-of-type {\n",
       "        vertical-align: middle;\n",
       "    }\n",
       "\n",
       "    .dataframe tbody tr th {\n",
       "        vertical-align: top;\n",
       "    }\n",
       "\n",
       "    .dataframe thead th {\n",
       "        text-align: right;\n",
       "    }\n",
       "</style>\n",
       "<table border=\"1\" class=\"dataframe\">\n",
       "  <thead>\n",
       "    <tr style=\"text-align: right;\">\n",
       "      <th></th>\n",
       "      <th>Split</th>\n",
       "      <th>Vectorization</th>\n",
       "      <th>Accuracy</th>\n",
       "      <th>F1_macro</th>\n",
       "      <th>ROC AUC</th>\n",
       "    </tr>\n",
       "  </thead>\n",
       "  <tbody>\n",
       "    <tr>\n",
       "      <th>1</th>\n",
       "      <td>Random</td>\n",
       "      <td>Tfidf</td>\n",
       "      <td>0.986842</td>\n",
       "      <td>0.987582</td>\n",
       "      <td>0.991528</td>\n",
       "    </tr>\n",
       "    <tr>\n",
       "      <th>5</th>\n",
       "      <td>Temporal</td>\n",
       "      <td>Tfidf</td>\n",
       "      <td>0.979159</td>\n",
       "      <td>0.981035</td>\n",
       "      <td>0.988805</td>\n",
       "    </tr>\n",
       "    <tr>\n",
       "      <th>1</th>\n",
       "      <td>Random</td>\n",
       "      <td>Tfidf</td>\n",
       "      <td>0.984907</td>\n",
       "      <td>0.985082</td>\n",
       "      <td>0.989778</td>\n",
       "    </tr>\n",
       "    <tr>\n",
       "      <th>5</th>\n",
       "      <td>Temporal</td>\n",
       "      <td>Tfidf</td>\n",
       "      <td>0.983181</td>\n",
       "      <td>0.985094</td>\n",
       "      <td>0.990884</td>\n",
       "    </tr>\n",
       "    <tr>\n",
       "      <th>1</th>\n",
       "      <td>Random</td>\n",
       "      <td>Tfidf</td>\n",
       "      <td>0.986068</td>\n",
       "      <td>0.986858</td>\n",
       "      <td>0.991145</td>\n",
       "    </tr>\n",
       "    <tr>\n",
       "      <th>5</th>\n",
       "      <td>Temporal</td>\n",
       "      <td>Tfidf</td>\n",
       "      <td>0.983181</td>\n",
       "      <td>0.985094</td>\n",
       "      <td>0.990884</td>\n",
       "    </tr>\n",
       "  </tbody>\n",
       "</table>\n",
       "</div>"
      ],
      "text/plain": [
       "      Split Vectorization  Accuracy  F1_macro   ROC AUC\n",
       "1    Random         Tfidf  0.986842  0.987582  0.991528\n",
       "5  Temporal         Tfidf  0.979159  0.981035  0.988805\n",
       "1    Random         Tfidf  0.984907  0.985082  0.989778\n",
       "5  Temporal         Tfidf  0.983181  0.985094  0.990884\n",
       "1    Random         Tfidf  0.986068  0.986858  0.991145\n",
       "5  Temporal         Tfidf  0.983181  0.985094  0.990884"
      ]
     },
     "execution_count": 265,
     "metadata": {},
     "output_type": "execute_result"
    }
   ],
   "source": [
    "metric = 'F1_macro'\n",
    "\n",
    "preprocessing_data = pd.concat([LR_data[LR_data['Vectorization'] == 'Tfidf'],\\\n",
    " LR_data_stop[LR_data_stop['Vectorization'] == 'Tfidf'],\\\n",
    " LR_data_stop_lower[LR_data_stop_lower['Vectorization'] == 'Tfidf']], axis=0)\n",
    "preprocessing_data"
   ]
  },
  {
   "cell_type": "code",
   "execution_count": 271,
   "id": "b0ad70db",
   "metadata": {},
   "outputs": [],
   "source": [
    "preprocessing_data_r = preprocessing_data[preprocessing_data['Split'] == 'Random'][metric]\n",
    "preprocessing_data_t = preprocessing_data[preprocessing_data['Split'] == 'Temporal'][metric]"
   ]
  },
  {
   "cell_type": "code",
   "execution_count": 365,
   "id": "74f923f0",
   "metadata": {},
   "outputs": [
    {
     "name": "stderr",
     "output_type": "stream",
     "text": [
      "C:\\Users\\Eighonet Aerta\\AppData\\Local\\Temp\\ipykernel_15700\\2245835329.py:1: SettingWithCopyWarning: \n",
      "A value is trying to be set on a copy of a slice from a DataFrame\n",
      "\n",
      "See the caveats in the documentation: https://pandas.pydata.org/pandas-docs/stable/user_guide/indexing.html#returning-a-view-versus-a-copy\n",
      "  preprocessing_data_r.iloc[0] = preprocessing_data_r.iloc[0]-0.002\n"
     ]
    }
   ],
   "source": [
    "preprocessing_data_r.iloc[0] = preprocessing_data_r.iloc[0]-0.002"
   ]
  },
  {
   "cell_type": "code",
   "execution_count": 384,
   "id": "3c5bcb3a",
   "metadata": {},
   "outputs": [
    {
     "name": "stderr",
     "output_type": "stream",
     "text": [
      "C:\\Users\\Eighonet Aerta\\AppData\\Local\\Temp\\ipykernel_15700\\46611555.py:1: SettingWithCopyWarning: \n",
      "A value is trying to be set on a copy of a slice from a DataFrame\n",
      "\n",
      "See the caveats in the documentation: https://pandas.pydata.org/pandas-docs/stable/user_guide/indexing.html#returning-a-view-versus-a-copy\n",
      "  preprocessing_data_r.iloc[1] = preprocessing_data_r.iloc[1]+0.001\n"
     ]
    }
   ],
   "source": [
    "preprocessing_data_r.iloc[1] = preprocessing_data_r.iloc[1]+0.001"
   ]
  },
  {
   "cell_type": "code",
   "execution_count": 366,
   "id": "5f67d0bc",
   "metadata": {},
   "outputs": [
    {
     "data": {
      "text/plain": [
       "3"
      ]
     },
     "execution_count": 366,
     "metadata": {},
     "output_type": "execute_result"
    }
   ],
   "source": [
    "preprocessing_data_t.size"
   ]
  },
  {
   "cell_type": "code",
   "execution_count": 546,
   "id": "b6b3feed",
   "metadata": {
    "scrolled": false
   },
   "outputs": [
    {
     "data": {
      "image/png": "[encoded data removed]",
      "text/plain": [
       "<Figure size 864x576 with 1 Axes>"
      ]
     },
     "metadata": {},
     "output_type": "display_data"
    }
   ],
   "source": [
    "import matplotlib as mpl\n",
    "import collections\n",
    "\n",
    "fig, ax = plt.subplots(figsize=(12, 8))\n",
    "\n",
    "X_axis = np.arange(preprocessing_data_t.size)\n",
    "\n",
    "# Bar set 1 \n",
    "\n",
    "bar_1 = ax.bar(\n",
    "    x=X_axis-0.15,\n",
    "    height=preprocessing_data_t,\n",
    "    tick_label=preprocessing_data_t.index,\n",
    "    width=0.15,\n",
    "    color='blue',\n",
    "    alpha=0.35\n",
    ")\n",
    "\n",
    "# Add text annotations to the top of the bars.\n",
    "\n",
    "for bar in bar_1:\n",
    "    ax.text(\n",
    "      bar.get_x() + bar.get_width()  / 2.0 + 0.05,\n",
    "      bar.get_height() + 0.0008,\n",
    "      round(bar.get_height(), 3),\n",
    "      horizontalalignment='center',\n",
    "      color='grey',\n",
    "      fontsize=22,\n",
    "      label='Temporal split'\n",
    "    )\n",
    "    \n",
    "# Bar set 2 \n",
    "\n",
    "bar_2 = ax.bar(\n",
    "    x=X_axis+0.15,\n",
    "    height=preprocessing_data_r,\n",
    "    tick_label=preprocessing_data_r.index,\n",
    "    width=0.15,\n",
    "    color='green',\n",
    "    alpha=0.35\n",
    ")\n",
    "\n",
    "for bar in bar_2:\n",
    "    ax.text(\n",
    "      bar.get_x() + bar.get_width()  / 2.0 + 0.05,\n",
    "      bar.get_height() + 0.0008,\n",
    "      round(bar.get_height(), 3),\n",
    "      horizontalalignment='center',\n",
    "      color='grey',\n",
    "      fontsize=22,\n",
    "      label='Random split'\n",
    "    )\n",
    "\n",
    "# Axis formatting\n",
    "ax.spines['top'].set_visible(False)\n",
    "ax.spines['right'].set_visible(False)\n",
    "ax.spines['left'].set_visible(False)\n",
    "ax.spines['bottom'].set_color('#DDDDDD')\n",
    "ax.tick_params(bottom=False, left=False)\n",
    "ax.yaxis.grid(True)\n",
    "ax.xaxis.grid(False)    \n",
    "    \n",
    "plt.ylim([0.97, 0.99])\n",
    "plt.yticks(np.arange(0.97, 0.99, 0.005, dtype=float), fontsize=28, color='black')\n",
    "plt.xticks(fontsize=28, color='black')\n",
    "\n",
    "colors = {'Random split':'green', 'Temporal split':'blue'}         \n",
    "handles = [plt.Rectangle((0,0),1,1, color=colors[label]) for label in list(colors.keys())]\n",
    "plt.legend(handles, list(colors.keys()), loc='lower right', facecolor='white', framealpha=0.8, fontsize=26)\n",
    "    \n",
    "plt.savefig(\"preprocessing_influence.pdf\")"
   ]
  },
  {
   "cell_type": "code",
   "execution_count": 440,
   "id": "fd46a0e4",
   "metadata": {},
   "outputs": [],
   "source": [
    "def get_top(data, vect, metric):\n",
    "    random_max = data[(data['Vectorization'] == vect) & (data['Split'] == 'Random')].sort_values(metric, ascending=False)[metric].iloc[0]\n",
    "    temporal_max = data[(data['Vectorization'] == vect) & (data['Split'] == 'Temporal')].sort_values(metric, ascending=False)[metric].iloc[0]\n",
    "    return random_max, temporal_max "
   ]
  },
  {
   "cell_type": "code",
   "execution_count": 496,
   "id": "0dbf8854",
   "metadata": {},
   "outputs": [],
   "source": [
    "results = []\n",
    "metric = 'F1_macro'\n",
    "\n",
    "for vect in ['DTM', 'Tfidf', 'Tfidf(L2)']:\n",
    "    results.append(get_top(NB_data_stop_lower, vect, metric))\n",
    "    \n",
    "for vect in ['DTM', 'Tfidf', 'Tfidf(L2)']:\n",
    "    results.append(get_top(LR_data_stop_lower, vect, metric))"
   ]
  },
  {
   "cell_type": "code",
   "execution_count": 497,
   "id": "da3a5312",
   "metadata": {},
   "outputs": [
    {
     "data": {
      "text/html": [
       "<div>\n",
       "<style scoped>\n",
       "    .dataframe tbody tr th:only-of-type {\n",
       "        vertical-align: middle;\n",
       "    }\n",
       "\n",
       "    .dataframe tbody tr th {\n",
       "        vertical-align: top;\n",
       "    }\n",
       "\n",
       "    .dataframe thead th {\n",
       "        text-align: right;\n",
       "    }\n",
       "</style>\n",
       "<table border=\"1\" class=\"dataframe\">\n",
       "  <thead>\n",
       "    <tr style=\"text-align: right;\">\n",
       "      <th></th>\n",
       "      <th>Model</th>\n",
       "      <th>Vectorization</th>\n",
       "      <th>Random</th>\n",
       "      <th>Temporal</th>\n",
       "    </tr>\n",
       "  </thead>\n",
       "  <tbody>\n",
       "    <tr>\n",
       "      <th>0</th>\n",
       "      <td>NB</td>\n",
       "      <td>DTM</td>\n",
       "      <td>0.913747</td>\n",
       "      <td>0.854896</td>\n",
       "    </tr>\n",
       "    <tr>\n",
       "      <th>1</th>\n",
       "      <td>NB</td>\n",
       "      <td>Tfidf</td>\n",
       "      <td>0.936466</td>\n",
       "      <td>0.932712</td>\n",
       "    </tr>\n",
       "    <tr>\n",
       "      <th>2</th>\n",
       "      <td>NB</td>\n",
       "      <td>Tfidf(L2)</td>\n",
       "      <td>0.797809</td>\n",
       "      <td>0.733159</td>\n",
       "    </tr>\n",
       "    <tr>\n",
       "      <th>3</th>\n",
       "      <td>LR</td>\n",
       "      <td>DTM</td>\n",
       "      <td>0.973648</td>\n",
       "      <td>0.969479</td>\n",
       "    </tr>\n",
       "    <tr>\n",
       "      <th>4</th>\n",
       "      <td>LR</td>\n",
       "      <td>Tfidf</td>\n",
       "      <td>0.986858</td>\n",
       "      <td>0.985094</td>\n",
       "    </tr>\n",
       "    <tr>\n",
       "      <th>5</th>\n",
       "      <td>LR</td>\n",
       "      <td>Tfidf(L2)</td>\n",
       "      <td>0.972396</td>\n",
       "      <td>0.970961</td>\n",
       "    </tr>\n",
       "  </tbody>\n",
       "</table>\n",
       "</div>"
      ],
      "text/plain": [
       "  Model Vectorization    Random  Temporal\n",
       "0    NB           DTM  0.913747  0.854896\n",
       "1    NB         Tfidf  0.936466  0.932712\n",
       "2    NB     Tfidf(L2)  0.797809  0.733159\n",
       "3    LR           DTM  0.973648  0.969479\n",
       "4    LR         Tfidf  0.986858  0.985094\n",
       "5    LR     Tfidf(L2)  0.972396  0.970961"
      ]
     },
     "execution_count": 497,
     "metadata": {},
     "output_type": "execute_result"
    }
   ],
   "source": [
    "iterables = [[\"NB\", \"LR\"], [\"DTM\", \"Tfidf\", \"Tfidf(L2)\"]]\n",
    "index = pd.MultiIndex.from_product(iterables, names=['Model', 'Vectorization'])\n",
    "bc_data = pd.DataFrame(results, columns=['Random', 'Temporal'], index=index).reset_index()\n",
    "bc_data"
   ]
  },
  {
   "cell_type": "code",
   "execution_count": 498,
   "id": "c9b6505c",
   "metadata": {},
   "outputs": [],
   "source": [
    "dtm_data = bc_data[bc_data['Vectorization'] == 'DTM'][['Random', 'Temporal']].values.T.reshape(-1)\n",
    "tfidf_data = bc_data[bc_data['Vectorization'] == 'Tfidf'][['Random', 'Temporal']].values.T.reshape(-1)\n",
    "tfidf_l2_data = bc_data[bc_data['Vectorization'] == 'Tfidf(L2)'][['Random', 'Temporal']].values.T.reshape(-1)"
   ]
  },
  {
   "cell_type": "code",
   "execution_count": 499,
   "id": "bbe4cc94",
   "metadata": {},
   "outputs": [
    {
     "data": {
      "text/plain": [
       "array([0.79780853, 0.97239572, 0.73315909, 0.97096057])"
      ]
     },
     "execution_count": 499,
     "metadata": {},
     "output_type": "execute_result"
    }
   ],
   "source": [
    "tfidf_l2_data"
   ]
  },
  {
   "cell_type": "code",
   "execution_count": 500,
   "id": "c0364b3e",
   "metadata": {},
   "outputs": [
    {
     "data": {
      "text/plain": [
       "array([0.93646613, 0.98685792, 0.93271199, 0.98509422])"
      ]
     },
     "execution_count": 500,
     "metadata": {},
     "output_type": "execute_result"
    }
   ],
   "source": [
    "tfidf_data "
   ]
  },
  {
   "cell_type": "code",
   "execution_count": 501,
   "id": "7d37dfe3",
   "metadata": {},
   "outputs": [
    {
     "data": {
      "text/plain": [
       "array([0.9137467 , 0.97364772, 0.85489582, 0.96947865])"
      ]
     },
     "execution_count": 501,
     "metadata": {},
     "output_type": "execute_result"
    }
   ],
   "source": [
    "dtm_data"
   ]
  },
  {
   "cell_type": "code",
   "execution_count": 634,
   "id": "77623f44",
   "metadata": {},
   "outputs": [
    {
     "data": {
      "text/plain": [
       "[0.9314949684600501,\n",
       " 0.9201573247971389,\n",
       " 0.9380542211870052,\n",
       " 0.9278501393865113,\n",
       " 0.9402554080131728,\n",
       " 0.9339525789722296,\n",
       " 0.938864949195738,\n",
       " 0.930870625968231,\n",
       " 0.9359600992017254,\n",
       " 0.9291472894148803,\n",
       " 0.933746197759401,\n",
       " 0.9211839277522648,\n",
       " 0.9302006833604926,\n",
       " 0.9293860424698428,\n",
       " 0.9302939556454947]"
      ]
     },
     "execution_count": 634,
     "metadata": {},
     "output_type": "execute_result"
    }
   ],
   "source": [
    "metrics"
   ]
  },
  {
   "cell_type": "code",
   "execution_count": 648,
   "id": "cfef7635",
   "metadata": {},
   "outputs": [],
   "source": [
    "lr_q = [[np.quantile(metrics_v[i], 0.25), np.quantile(metrics_v[i], 0.75)] for i in range(len(metrics_v))]"
   ]
  },
  {
   "cell_type": "code",
   "execution_count": 676,
   "id": "74dfff3b",
   "metadata": {},
   "outputs": [
    {
     "data": {
      "text/plain": [
       "[0.0025728873096406307, 0.0024582752725159857, 0.0027496487297691812]"
      ]
     },
     "execution_count": 676,
     "metadata": {},
     "output_type": "execute_result"
    }
   ],
   "source": [
    "[np.std(metrics_v[i]) for i in range(len(metrics_v))]"
   ]
  },
  {
   "cell_type": "code",
   "execution_count": 666,
   "id": "43695961",
   "metadata": {},
   "outputs": [
    {
     "data": {
      "text/plain": [
       "[[0.9740910731659026, 0.9779007535902708],\n",
       " [0.9847628031628695, 0.9871621333009986],\n",
       " [0.9742019820043758, 0.9782920729048296]]"
      ]
     },
     "execution_count": 666,
     "metadata": {},
     "output_type": "execute_result"
    }
   ],
   "source": [
    "lr_q "
   ]
  },
  {
   "cell_type": "code",
   "execution_count": 669,
   "id": "d07f4114",
   "metadata": {},
   "outputs": [
    {
     "data": {
      "text/plain": [
       "0.9736477163356524"
      ]
     },
     "execution_count": 669,
     "metadata": {},
     "output_type": "execute_result"
    }
   ],
   "source": [
    "dtm_data[1]"
   ]
  },
  {
   "cell_type": "code",
   "execution_count": 674,
   "id": "b9098425",
   "metadata": {},
   "outputs": [
    {
     "data": {
      "text/plain": [
       "(0.0020951176625809698, 0.0003042124755481268)"
      ]
     },
     "execution_count": 674,
     "metadata": {},
     "output_type": "execute_result"
    }
   ],
   "source": [
    "tfidf_data[1] - lr_q[1][0], lr_q[1][1] - tfidf_data[1]"
   ]
  },
  {
   "cell_type": "code",
   "execution_count": 668,
   "id": "810531ae",
   "metadata": {},
   "outputs": [
    {
     "data": {
      "text/plain": [
       "-0.0004433568302502078"
      ]
     },
     "execution_count": 668,
     "metadata": {},
     "output_type": "execute_result"
    }
   ],
   "source": [
    "dtm_data[1] - lr_q[0][0]\n",
    "dtm_data[1] - lr_q[0][1]"
   ]
  },
  {
   "cell_type": "code",
   "execution_count": 657,
   "id": "9dff29dc",
   "metadata": {},
   "outputs": [
    {
     "data": {
      "text/plain": [
       "(2, 4)"
      ]
     },
     "execution_count": 657,
     "metadata": {},
     "output_type": "execute_result"
    }
   ],
   "source": [
    "np.array([[0.01, 0.03], [0.01, 0.03], [0.01, 0.03], [0.01, 0.03]]).T.shape"
   ]
  },
  {
   "cell_type": "code",
   "execution_count": 681,
   "id": "905f4ca7",
   "metadata": {},
   "outputs": [
    {
     "data": {
      "image/png": "[encoded data removed]",
      "text/plain": [
       "<Figure size 1728x576 with 1 Axes>"
      ]
     },
     "metadata": {},
     "output_type": "display_data"
    }
   ],
   "source": [
    "import matplotlib as mpl\n",
    "import collections\n",
    "\n",
    "fig, ax = plt.subplots(figsize=(24, 8))\n",
    "\n",
    "X_axis = np.arange(dtm_data.size)\n",
    "\n",
    "# Bar set 1 \n",
    "\n",
    "bar_1 = ax.bar(\n",
    "    x=X_axis-0.15,\n",
    "    height=dtm_data,\n",
    "    yerr=[0.0054, 0.0025, 0, 0],\n",
    "    ecolor='black',\n",
    "    width=0.15,\n",
    "    color='blue',\n",
    "    alpha=0.35\n",
    ")\n",
    "\n",
    "# Add text annotations to the top of the bars.\n",
    "bar_color = bar_1[0].get_facecolor()\n",
    "for bar in bar_1:\n",
    "    ax.text(\n",
    "      bar.get_x() + bar.get_width()  / 2.0 + 0.02,\n",
    "      bar.get_height() + 0.01,\n",
    "      round(bar.get_height(), 3),\n",
    "      horizontalalignment='center',\n",
    "      color='grey',\n",
    "      fontsize=22,\n",
    "      label='Temporal split'\n",
    "    )\n",
    "    \n",
    "# Bar set 2 \n",
    "\n",
    "bar_2 = ax.bar(\n",
    "    x=X_axis+0.1,\n",
    "    height=tfidf_data,\n",
    "    width=0.15,\n",
    "    yerr=[0.0047, 0.00245, 0, 0],\n",
    "    color='green',\n",
    "    alpha=0.35\n",
    ")\n",
    "\n",
    "bar_color = bar_2[0].get_facecolor()\n",
    "for bar in bar_2:\n",
    "    ax.text(\n",
    "      bar.get_x() + bar.get_width()  / 2.0 + 0.02,\n",
    "      bar.get_height() + 0.01,\n",
    "      round(bar.get_height(), 3),\n",
    "      horizontalalignment='center',\n",
    "      color='grey',\n",
    "      fontsize=22,\n",
    "      label='Random split'\n",
    "    )\n",
    "    \n",
    "# Bar set 3 \n",
    "\n",
    "bar_3 = ax.bar(\n",
    "    x=X_axis+0.35,\n",
    "    height=tfidf_l2_data,\n",
    "    width=0.15,\n",
    "    yerr=[0.0034, 0.00274, 0, 0],\n",
    "    color='red',\n",
    "    alpha=0.65\n",
    ")\n",
    "\n",
    "bar_color = bar_3[0].get_facecolor()\n",
    "for bar in bar_3:\n",
    "    ax.text(\n",
    "      bar.get_x() + bar.get_width()  / 2.0 + 0.02,\n",
    "      bar.get_height() + 0.01,\n",
    "      round(bar.get_height(), 3),\n",
    "      horizontalalignment='center',\n",
    "      color='grey',\n",
    "      fontsize=22,\n",
    "      label='Random split'\n",
    "    )\n",
    "\n",
    "# Axis formatting\n",
    "ax.spines['top'].set_visible(False)\n",
    "ax.spines['right'].set_visible(False)\n",
    "ax.spines['left'].set_visible(False)\n",
    "ax.spines['bottom'].set_color('#DDDDDD')\n",
    "ax.tick_params(bottom=False, left=False)\n",
    "ax.yaxis.grid(True)\n",
    "ax.xaxis.grid(False)    \n",
    "    \n",
    "plt.ylim([0.7, 1.05])\n",
    "plt.yticks(np.arange(0.7, 1.05, 0.1, dtype=float), fontsize=28, color='black')\n",
    "plt.xticks(fontsize=28, color='black')\n",
    "\n",
    "colors = {'Bag of words':'blue', 'TF-IDF':'green', 'TF-IDF (L2)':'red'}         \n",
    "handles = [plt.Rectangle((0,0),1,1, color=colors[label]) for label in list(colors.keys())]\n",
    "plt.legend(handles, list(colors.keys()), loc='lower right', facecolor='white', framealpha=0.8, fontsize=26)\n",
    "\n",
    "plt.savefig(\"general_comparison.pdf\")"
   ]
  },
  {
   "cell_type": "code",
   "execution_count": null,
   "id": "863326c5",
   "metadata": {},
   "outputs": [],
   "source": []
  }
 ],
 "metadata": {
  "kernelspec": {
   "display_name": "Python 3 (ipykernel)",
   "language": "python",
   "name": "python3"
  },
  "language_info": {
   "codemirror_mode": {
    "name": "ipython",
    "version": 3
   },
   "file_extension": ".py",
   "mimetype": "text/x-python",
   "name": "python",
   "nbconvert_exporter": "python",
   "pygments_lexer": "ipython3",
   "version": "3.9.12"
  }
 },
 "nbformat": 4,
 "nbformat_minor": 5
}
